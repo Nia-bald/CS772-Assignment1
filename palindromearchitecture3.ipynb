{
 "cells": [
  {
   "cell_type": "markdown",
   "metadata": {},
   "source": [
    "# Notes to discuss with prof\n",
    "\n",
    "1. since the data is very skewed it won't make sense for us to do cross validation where we randomly choose which data to use for training and which data to use for testing, because if do that after duplicating the low count data then most of the data in testing set will be in training set\n",
    "2. what is the difference between training the network after performing oversampling and just training the network on the same data but more epochs\n",
    "3. can we train the model with just 64 examples but keep the positive class data same and randomly choose rest of 32 negative class data?"
   ]
  },
  {
   "cell_type": "code",
   "execution_count": 1,
   "metadata": {},
   "outputs": [],
   "source": [
    "from mygrad import Layer\n",
    "from mygrad import Value"
   ]
  },
  {
   "cell_type": "code",
   "execution_count": 2,
   "metadata": {},
   "outputs": [],
   "source": [
    "import pickle\n",
    "with open('data.pckl', 'rb') as file:\n",
    "    data = pickle.load(file)"
   ]
  },
  {
   "cell_type": "code",
   "execution_count": 3,
   "metadata": {},
   "outputs": [],
   "source": [
    "from sklearn.utils import shuffle\n",
    "data = shuffle(data)\n",
    "# data = data[:100]"
   ]
  },
  {
   "cell_type": "code",
   "execution_count": 4,
   "metadata": {},
   "outputs": [
    {
     "data": {
      "text/plain": [
       "1024"
      ]
     },
     "execution_count": 4,
     "metadata": {},
     "output_type": "execute_result"
    }
   ],
   "source": [
    "# get the data\n",
    "\n",
    "X = [list(number) for number in data['number']]\n",
    "Y = [label for label in data['label']]\n",
    "\n",
    "len(X)"
   ]
  },
  {
   "cell_type": "code",
   "execution_count": 5,
   "metadata": {},
   "outputs": [
    {
     "data": {
      "text/plain": [
       "['0', '1', '1', '1', '0', '1', '0', '0', '0', '0']"
      ]
     },
     "execution_count": 5,
     "metadata": {},
     "output_type": "execute_result"
    }
   ],
   "source": [
    "X[0]"
   ]
  },
  {
   "cell_type": "code",
   "execution_count": 6,
   "metadata": {},
   "outputs": [],
   "source": [
    "for ix in range(len(X)):\n",
    "    new = []\n",
    "    for num in X[ix]:\n",
    "        if num == '0':\n",
    "            new.extend([1, 0])\n",
    "        else:\n",
    "            new.extend([0, 1])\n",
    "    X[ix] = new\n"
   ]
  },
  {
   "cell_type": "code",
   "execution_count": 7,
   "metadata": {},
   "outputs": [
    {
     "data": {
      "text/plain": [
       "[1, 0, 0, 1, 0, 1, 0, 1, 1, 0, 0, 1, 1, 0, 1, 0, 1, 0, 1, 0]"
      ]
     },
     "execution_count": 7,
     "metadata": {},
     "output_type": "execute_result"
    }
   ],
   "source": [
    "X[0]"
   ]
  },
  {
   "cell_type": "code",
   "execution_count": 8,
   "metadata": {},
   "outputs": [],
   "source": [
    "for ix, row in enumerate(X):\n",
    "    X[ix] = [Value(float(item)) for item in row]\n"
   ]
  },
  {
   "cell_type": "code",
   "execution_count": 9,
   "metadata": {},
   "outputs": [],
   "source": [
    "Xtrain, Xtest, Ytrain, Ytest = X[:int(len(X)*0.8)], X[int(len(X)*0.8):], Y[:int(len(X)*0.8)], Y[int(len(X)*0.8):]"
   ]
  },
  {
   "cell_type": "code",
   "execution_count": 10,
   "metadata": {},
   "outputs": [
    {
     "data": {
      "text/plain": [
       "[(1, 2), (1, 2), (1, 2)]"
      ]
     },
     "execution_count": 10,
     "metadata": {},
     "output_type": "execute_result"
    }
   ],
   "source": [
    "list(zip([1, 1, 1], [2, 2, 2, 2, 2, 2]))"
   ]
  },
  {
   "cell_type": "code",
   "execution_count": 11,
   "metadata": {},
   "outputs": [
    {
     "name": "stdout",
     "output_type": "stream",
     "text": [
      "[Value(data=-0.00599752784098917), Value(data=0.9678557264249217), Value(data=0.22622183527089934), Value(data=0.044033860742394904), Value(data=-0.7393849603103508), Value(data=0.5473677818243561), Value(data=0.8817632370146684), Value(data=-0.027349925408019393), Value(data=-0.9733807369824516), Value(data=0.7706204208216867), Value(data=-0.20997494731371114), Value(data=-0.22001086789031477), Value(data=-0.6955728344200405), Value(data=-0.1838179364872239), Value(data=-0.409988527389868), Value(data=-0.23944767420816904), Value(data=-0.8169719630165031), Value(data=0.9022154134026581), Value(data=0.4801132443759688), Value(data=0.21849015914373182), Value(data=0.9374155160731177), Value(data=-0.2972941443666468), Value(data=-0.42477612657981956)]\n"
     ]
    }
   ],
   "source": [
    "# nn.init.zeros_(hiddenLayer.weight)\n",
    "\n",
    "# s1 = Sigmoid()\n",
    "hiddenLayer1 = Layer(10, 1, activation='reLu')\n",
    "outputLayer = Layer(11, 1, activation='sigmoid')\n",
    "# nn.init.zeros_(outputLayer.weight)\n",
    "\n",
    "# s2 = Sigmoid()\n",
    "\n",
    "# parameters = [list(hiddenLayer.parameters())[0]]\n",
    "# parameters.append(list(outputLayer.parameters())[0])\n",
    "parameters =  outputLayer.parameters() + hiddenLayer1.parameters()\n",
    "print(parameters)"
   ]
  },
  {
   "cell_type": "code",
   "execution_count": 12,
   "metadata": {},
   "outputs": [],
   "source": [
    "def predict(x):\n",
    "    x1 = hiddenLayer1(x)\n",
    "    # out2 = hiddenLayer2(x[5:])\n",
    "    # out = [out1] + [out2]\n",
    "    # x = s1(x)\n",
    "    # print(x)\n",
    "    \n",
    "    final = outputLayer([x1] + x)\n",
    "    # x = s2(x)\n",
    "    return final"
   ]
  },
  {
   "cell_type": "code",
   "execution_count": 13,
   "metadata": {},
   "outputs": [],
   "source": [
    "parameters =  outputLayer.parameters() + hiddenLayer1.parameters()\n"
   ]
  },
  {
   "cell_type": "code",
   "execution_count": 14,
   "metadata": {},
   "outputs": [],
   "source": [
    "from sklearn.metrics import accuracy_score, precision_score\n",
    "def getAccuracy(X, Y):\n",
    "    predicted = [1 if predict(x).data > 0.5 else 0 for x in X ]\n",
    "    count = 0\n",
    "    for i in range(len(predicted)):\n",
    "        if predicted[i] == Y[i]:\n",
    "            count += 1\n",
    "    return count/len(predicted)\n",
    "def getPrecisiont(X, Y):\n",
    "    predicted = [1 if predict(x).data > 0.5 else 0 for x in X ]\n",
    "    return precision_score(Y, predicted)\n",
    "\n"
   ]
  },
  {
   "cell_type": "code",
   "execution_count": 15,
   "metadata": {},
   "outputs": [
    {
     "data": {
      "text/plain": [
       "0.3951219512195122"
      ]
     },
     "execution_count": 15,
     "metadata": {},
     "output_type": "execute_result"
    }
   ],
   "source": [
    "getAccuracy(Xtest, Ytest)"
   ]
  },
  {
   "cell_type": "code",
   "execution_count": 16,
   "metadata": {},
   "outputs": [],
   "source": [
    "losss = []\n",
    "prevchange = [0]*len(parameters)\n",
    "beta = 0.7"
   ]
  },
  {
   "cell_type": "code",
   "execution_count": 17,
   "metadata": {},
   "outputs": [
    {
     "name": "stdout",
     "output_type": "stream",
     "text": [
      "Value(data=0.7476968614968531) 0\n",
      "Value(data=0.6640140186195373) 1\n",
      "Value(data=0.6233726154464679) 2\n",
      "Value(data=0.5936741297744094) 3\n",
      "Value(data=0.5688485880167172) 4\n",
      "Value(data=0.5477171658945961) 5\n",
      "Value(data=0.5297511974864384) 6\n",
      "Value(data=0.5145075002595558) 7\n",
      "Value(data=0.5015799493891965) 8\n",
      "Value(data=0.4906049039841296) 9\n",
      "Value(data=0.481265742149835) 10\n",
      "Value(data=0.47329262695223906) 11\n",
      "Value(data=0.46645904365430524) 12\n",
      "Value(data=0.4605767400691596) 13\n",
      "Value(data=0.45549020710965094) 14\n",
      "Value(data=0.45107137155763133) 15\n",
      "Value(data=0.4472148354628401) 16\n",
      "Value(data=0.44383378253171557) 17\n",
      "Value(data=0.4408565510033776) 18\n",
      "Value(data=0.4382238130645928) 19\n",
      "Value(data=0.43588627806499713) 20\n",
      "Value(data=0.43380283393044444) 21\n",
      "Value(data=0.4319390479461346) 22\n",
      "Value(data=0.4302659586255408) 23\n",
      "Value(data=0.42875910159916175) 24\n",
      "Value(data=0.42739772287524797) 25\n",
      "Value(data=0.42616414186343854) 26\n",
      "Value(data=0.42504323409469963) 27\n",
      "Value(data=0.4240220097170802) 28\n",
      "Value(data=0.4230892687810258) 29\n",
      "Value(data=0.4222353182530654) 30\n",
      "Value(data=0.4214517388021494) 31\n",
      "Value(data=0.420731191852829) 32\n",
      "Value(data=0.4200672593301974) 33\n",
      "Value(data=0.4194543100437942) 34\n",
      "Value(data=0.41888738785896784) 35\n",
      "Value(data=0.41836211775455406) 36\n",
      "Value(data=0.4178746266188753) 37\n",
      "Value(data=0.4174214762350447) 38\n",
      "Value(data=0.41699960638405775) 39\n",
      "Value(data=0.41660628637622105) 40\n",
      "Value(data=0.4162390736281626) 41\n",
      "Value(data=0.4158957781495811) 42\n",
      "Value(data=0.41557443200363403) 43\n",
      "Value(data=0.4152732629666367) 44\n",
      "Value(data=0.4149906717445395) 45\n",
      "Value(data=0.41472521221121533) 46\n",
      "Value(data=0.4144755742217096) 47\n",
      "Value(data=0.41424056862602177) 48\n",
      "Value(data=0.41401911416877174) 49\n",
      "Value(data=0.41381022600944584) 50\n",
      "Value(data=0.41361300563903053) 51\n",
      "Value(data=0.41342663200282626) 52\n",
      "Value(data=0.4132503536678887) 53\n",
      "Value(data=0.41308348189725586) 54\n",
      "Value(data=0.41292520009130884) 55\n",
      "Value(data=0.4127744281728839) 56\n",
      "Value(data=0.41263128235942587) 57\n",
      "Value(data=0.4124952715935324) 58\n",
      "Value(data=0.4123659428244603) 59\n",
      "Value(data=0.4122428775507953) 60\n",
      "Value(data=0.4121256887337061) 61\n",
      "Value(data=0.4120140180268219) 62\n",
      "Value(data=0.4119075332853277) 63\n",
      "Value(data=0.4118059263228206) 64\n",
      "Value(data=0.4117089108882672) 65\n",
      "Value(data=0.4116162208388496) 66\n",
      "Value(data=0.4115276084873148) 67\n",
      "Value(data=0.41144284310506474) 68\n",
      "Value(data=0.411361709564439) 69\n",
      "Value(data=0.41128400710558066) 70\n",
      "Value(data=0.4112095482150199) 71\n",
      "Value(data=0.411138157604505) 72\n",
      "Value(data=0.4110696712800397) 73\n",
      "Value(data=0.4110039356920786) 74\n",
      "Value(data=0.410940806958932) 75\n",
      "Value(data=0.4108801501562431) 76\n",
      "Value(data=0.41082183866623745) 77\n",
      "Value(data=0.4107657535810141) 78\n",
      "Value(data=0.4107117831548689) 79\n",
      "Value(data=0.410659822301092) 80\n",
      "Value(data=0.41060977212915256) 81\n",
      "Value(data=0.41056153951863605) 82\n",
      "Value(data=0.4105150367266448) 83\n",
      "Value(data=0.4104701810256914) 84\n",
      "Value(data=0.41042689436942087) 85\n",
      "Value(data=0.41038510308377074) 86\n",
      "Value(data=0.41034473758134843) 87\n",
      "Value(data=0.4103057320971211) 88\n",
      "Value(data=0.4102680244435668) 89\n",
      "Value(data=0.41023155578373577) 90\n",
      "Value(data=0.4101962704206943) 91\n",
      "Value(data=0.4101621156020599) 92\n",
      "Value(data=0.4101290413384048) 93\n",
      "Value(data=0.4100970002344067) 94\n",
      "Value(data=0.4100659473317585) 95\n",
      "Value(data=0.4100358399629187) 96\n",
      "Value(data=0.41000663761485195) 97\n",
      "Value(data=0.4099780582232359) 98\n",
      "Value(data=0.40994881599236993) 99\n",
      "Value(data=0.40992035850452335) 100\n",
      "Value(data=0.40989265266548464) 101\n",
      "Value(data=0.40986566722903905) 102\n",
      "Value(data=0.4098393725065472) 103\n",
      "Value(data=0.40981374024194844) 104\n",
      "Value(data=0.4097887435235218) 105\n",
      "Value(data=0.40976435670704336) 106\n",
      "Value(data=0.4097405553450778) 107\n",
      "Value(data=0.40971731612102935) 108\n",
      "Value(data=0.4096946167873668) 109\n",
      "Value(data=0.4096724361077603) 110\n",
      "Value(data=0.4096507538027441) 111\n",
      "Value(data=0.40962955049874983) 112\n",
      "Value(data=0.40960880768020486) 113\n",
      "Value(data=0.4095885076445279) 114\n",
      "Value(data=0.4095686334598228) 115\n",
      "Value(data=0.40954916892506826) 116\n",
      "Value(data=0.4095300985326636) 117\n",
      "Value(data=0.4095114074331687) 118\n",
      "Value(data=0.40949308140208024) 119\n",
      "Value(data=0.4094751068085375) 120\n",
      "Value(data=0.409457470585808) 121\n",
      "Value(data=0.4094401602034663) 122\n",
      "Value(data=0.40942316364113024) 123\n",
      "Value(data=0.40940646936367847) 124\n",
      "Value(data=0.4093900662978598) 125\n",
      "Value(data=0.4093737138028212) 126\n",
      "Value(data=0.4093556710974314) 127\n",
      "Value(data=0.40933789683900534) 128\n",
      "Value(data=0.40932038022031386) 129\n",
      "Value(data=0.40930311169328204) 130\n",
      "Value(data=0.40928608227788493) 131\n",
      "Value(data=0.40926928340545715) 132\n",
      "Value(data=0.40925270686879733) 133\n",
      "Value(data=0.40923634479529347) 134\n",
      "Value(data=0.40922018962631057) 135\n",
      "Value(data=0.4092042340991611) 136\n",
      "Value(data=0.4091884712307766) 137\n",
      "Value(data=0.40917289430269915) 138\n",
      "Value(data=0.40915749684724273) 139\n",
      "Value(data=0.4091422726346681) 140\n",
      "Value(data=0.40912721566126187) 141\n",
      "Value(data=0.40911232013823856) 142\n",
      "Value(data=0.4090975804813725) 143\n",
      "Value(data=0.4090829913013304) 144\n",
      "Value(data=0.4090685473945704) 145\n",
      "Value(data=0.4090542437348478) 146\n",
      "Value(data=0.40904007546519894) 147\n",
      "Value(data=0.4090260378904221) 148\n",
      "Value(data=0.40901244142417537) 149\n",
      "Value(data=0.40899946825048816) 150\n",
      "Value(data=0.40898659019224864) 151\n",
      "Value(data=0.4089738000741816) 152\n",
      "Value(data=0.40896109290680877) 153\n",
      "Value(data=0.4089484643387596) 154\n",
      "Value(data=0.40893591033702437) 155\n",
      "Value(data=0.40892817641489976) 156\n",
      "Value(data=0.40892515253210465) 157\n",
      "Value(data=0.40891188097212067) 158\n",
      "Value(data=0.4088995293368924) 159\n",
      "Value(data=0.40888724626258044) 160\n",
      "Value(data=0.40888256353965025) 161\n",
      "Value(data=0.40887822326500445) 162\n",
      "Value(data=0.40886497978925157) 163\n",
      "Value(data=0.40885214351844973) 164\n",
      "Value(data=0.4088400536445948) 165\n",
      "Value(data=0.40883988903538876) 166\n",
      "Value(data=0.40883204368721454) 167\n",
      "Value(data=0.40881893697954025) 168\n",
      "Value(data=0.4088060694198101) 169\n",
      "Value(data=0.4087966311764138) 170\n",
      "Value(data=0.40879830603471834) 171\n",
      "Value(data=0.4087852806759195) 172\n",
      "Value(data=0.40877259576529285) 173\n",
      "Value(data=0.40876069762628775) 174\n",
      "Value(data=0.40875403298771973) 175\n",
      "Value(data=0.40875397987749457) 176\n",
      "Value(data=0.40874099860683394) 177\n",
      "Value(data=0.4087282739544512) 178\n",
      "Value(data=0.40871610355868915) 179\n",
      "Value(data=0.4087129130759256) 180\n",
      "Value(data=0.4087097701752919) 181\n",
      "Value(data=0.4086968378612156) 182\n",
      "Value(data=0.40868416791831547) 183\n",
      "Value(data=0.4086721052439062) 184\n",
      "Value(data=0.40867090787596483) 185\n",
      "Value(data=0.40866618808721195) 186\n",
      "Value(data=0.40865325578025613) 187\n",
      "Value(data=0.40864059693518845) 188\n",
      "Value(data=0.4086285048098215) 189\n",
      "Value(data=0.4086278616400936) 190\n",
      "Value(data=0.4086230280994683) 191\n",
      "Value(data=0.40861005903957953) 192\n",
      "Value(data=0.40859737501465015) 193\n",
      "Value(data=0.408585134237394) 194\n",
      "Value(data=0.4085836144741056) 195\n",
      "Value(data=0.4085801213024519) 196\n",
      "Value(data=0.40856708419251186) 197\n",
      "Value(data=0.40855434371322485) 198\n",
      "Value(data=0.408541850478254) 199\n",
      "Value(data=0.4085380272466268) 200\n",
      "Value(data=0.4085373235072882) 201\n",
      "Value(data=0.40852419136653206) 202\n",
      "Value(data=0.4085113672033697) 203\n",
      "Value(data=0.4084986726669805) 204\n",
      "Value(data=0.40849299966984637) 205\n",
      "Value(data=0.40849400596170493) 206\n",
      "Value(data=0.4084808024998601) 207\n",
      "Value(data=0.40846790645591435) 208\n",
      "Value(data=0.40845513745687345) 209\n",
      "Value(data=0.4084460818353523) 210\n",
      "Value(data=0.4084507102319527) 211\n",
      "Value(data=0.40843738722358847) 212\n",
      "Value(data=0.4084243855848675) 213\n",
      "Value(data=0.408411513100791) 214\n",
      "Value(data=0.40839900547358304) 215\n",
      "Value(data=0.40840309864151597) 216\n",
      "Value(data=0.40839502216850754) 217\n",
      "Value(data=0.4083815496017782) 218\n",
      "Value(data=0.40836842685092134) 219\n",
      "Value(data=0.4083554356472686) 220\n",
      "Value(data=0.4083520278979063) 221\n",
      "Value(data=0.4083514646728138) 222\n",
      "Value(data=0.4083378214442495) 223\n",
      "Value(data=0.4083245349544686) 224\n",
      "Value(data=0.40831138495651437) 225\n",
      "Value(data=0.40829922413334574) 226\n",
      "Value(data=0.40830708037387514) 227\n",
      "Value(data=0.408293324644547) 228\n",
      "Value(data=0.40827990558977284) 229\n",
      "Value(data=0.4082666184219305) 230\n",
      "Value(data=0.40825340958943385) 231\n",
      "Value(data=0.40825477054059695) 232\n",
      "Value(data=0.4082497873093872) 233\n",
      "Value(data=0.4082358120894743) 234\n",
      "Value(data=0.40822222641591943) 235\n",
      "Value(data=0.4082087801456705) 236\n",
      "Value(data=0.40819702101846717) 237\n",
      "Value(data=0.4082048569165065) 238\n",
      "Value(data=0.4081907032737956) 239\n",
      "Value(data=0.408176927908461) 240\n",
      "Value(data=0.40816329416744135) 241\n",
      "Value(data=0.40814974135845383) 242\n",
      "Value(data=0.4081483610204396) 243\n",
      "Value(data=0.40814643745391527) 244\n",
      "Value(data=0.4081320191946831) 245\n",
      "Value(data=0.408118035662511) 246\n",
      "Value(data=0.4081042048264859) 247\n",
      "Value(data=0.40809045696624746) 248\n",
      "Value(data=0.40809547301403354) 249\n",
      "Value(data=0.40808690732869607) 250\n",
      "Value(data=0.40807232242437436) 251\n",
      "Value(data=0.4080581588113598) 252\n",
      "Value(data=0.4080441434707335) 253\n",
      "Value(data=0.40803232578531057) 254\n",
      "Value(data=0.40804078178552794) 255\n",
      "Value(data=0.4080258924847473) 256\n",
      "Value(data=0.40801146457013326) 257\n",
      "Value(data=0.40799720328590144) 258\n",
      "Value(data=0.4079830342597727) 259\n",
      "Value(data=0.40797746172255106) 260\n",
      "Value(data=0.4079798520249889) 261\n",
      "Value(data=0.40796473700105507) 262\n",
      "Value(data=0.4079501041760862) 263\n",
      "Value(data=0.4079356406105338) 264\n",
      "Value(data=0.4079212686094085) 265\n",
      "Value(data=0.40791988812500574) 266\n",
      "Value(data=0.40791829755638925) 267\n",
      "Value(data=0.4079029118545149) 268\n",
      "Value(data=0.4078880425009225) 269\n",
      "Value(data=0.4078733515450526) 270\n",
      "Value(data=0.4078587558851878) 271\n",
      "Value(data=0.40785993429539236) 272\n",
      "Value(data=0.4078560228536142) 273\n",
      "Value(data=0.4078403435095279) 274\n",
      "Value(data=0.4078252199622948) 275\n",
      "Value(data=0.40781028719507995) 276\n",
      "Value(data=0.4077954558852311) 277\n",
      "Value(data=0.4077977806962977) 278\n",
      "Value(data=0.4077929889027193) 279\n",
      "Value(data=0.40777700084289475) 280\n",
      "Value(data=0.40776161219913604) 281\n",
      "Value(data=0.40774642894118385) 282\n",
      "Value(data=0.4077313549003541) 283\n",
      "Value(data=0.40773355574093456) 284\n",
      "Value(data=0.40772918470533204) 285\n",
      "Value(data=0.40771287730546085) 286\n",
      "Value(data=0.4076972166971309) 287\n",
      "Value(data=0.4076817778441327) 288\n",
      "Value(data=0.4076664571774488) 289\n",
      "Value(data=0.4076673692603269) 290\n",
      "Value(data=0.40766461811349197) 291\n",
      "Value(data=0.40764798354035264) 292\n",
      "Value(data=0.407632046806591) 293\n",
      "Value(data=0.4076163497680652) 294\n",
      "Value(data=0.4076007809167504) 295\n",
      "Value(data=0.40759932924428727) 296\n",
      "Value(data=0.4075993113028808) 297\n",
      "Value(data=0.40758234366769) 298\n",
      "Value(data=0.4075661286763157) 299\n",
      "Value(data=0.40755017282831624) 300\n",
      "Value(data=0.40753435612546146) 301\n",
      "Value(data=0.40752954985467715) 302\n",
      "Value(data=0.40753329830067103) 303\n",
      "Value(data=0.40751599320457116) 304\n",
      "Value(data=0.407499499486235) 305\n",
      "Value(data=0.4074832858705433) 306\n",
      "Value(data=0.4074672232904009) 307\n",
      "Value(data=0.40745815492518955) 308\n",
      "Value(data=0.40746662346983703) 309\n",
      "Value(data=0.4074489777404388) 310\n",
      "Value(data=0.4074322062740411) 311\n",
      "Value(data=0.4074157374153365) 312\n",
      "Value(data=0.4073994324140889) 313\n",
      "Value(data=0.4073852791302207) 314\n",
      "Value(data=0.4073993404338031) 315\n",
      "Value(data=0.4073813519537502) 316\n",
      "Value(data=0.4073643050232984) 317\n",
      "Value(data=0.4073475848008344) 318\n",
      "Value(data=0.40733104219834954) 319\n",
      "Value(data=0.4073146225275213) 320\n",
      "Value(data=0.4073253297077812) 321\n",
      "Value(data=0.40731505253857336) 322\n",
      "Value(data=0.40729681900427456) 323\n",
      "Value(data=0.4072795865959037) 324\n",
      "Value(data=0.407262688664653) 325\n",
      "Value(data=0.4072459676911464) 326\n",
      "Value(data=0.40724789993214255) 327\n",
      "Value(data=0.4072471079380804) 328\n",
      "Value(data=0.4072284539239951) 329\n",
      "Value(data=0.4072108989038468) 330\n",
      "Value(data=0.4071937193811734) 331\n",
      "Value(data=0.40717674244009305) 332\n",
      "Value(data=0.4071703559656335) 333\n",
      "Value(data=0.40717859955846936) 334\n",
      "Value(data=0.4071595683077266) 335\n",
      "Value(data=0.40714172614974287) 336\n",
      "Value(data=0.4071242948068019) 337\n",
      "Value(data=0.40710708737781004) 338\n",
      "Value(data=0.40709237958056194) 339\n",
      "Value(data=0.40710970326776047) 340\n",
      "Value(data=0.40709031339447777) 341\n",
      "Value(data=0.40707220442004666) 342\n",
      "Value(data=0.40705454025385746) 343\n",
      "Value(data=0.407037119869807) 344\n",
      "Value(data=0.40701986979855875) 345\n",
      "Value(data=0.40703115295964265) 346\n",
      "Value(data=0.4070232493012117) 347\n",
      "Value(data=0.4070036512702811) 348\n",
      "Value(data=0.40698541260718274) 349\n",
      "Value(data=0.4069676289940308) 350\n",
      "Value(data=0.4069500885946304) 351\n",
      "Value(data=0.4069498572679455) 352\n",
      "Value(data=0.4069544656708356) 353\n",
      "Value(data=0.40693442428412263) 354\n",
      "Value(data=0.4069158718638957) 355\n",
      "Value(data=0.4068978284991803) 356\n",
      "Value(data=0.4068800618562779) 357\n",
      "Value(data=0.40686950403711813) 358\n",
      "Value(data=0.406885426860719) 359\n",
      "Value(data=0.40686500421271005) 360\n",
      "Value(data=0.4068461882973318) 361\n",
      "Value(data=0.4068279266451168) 362\n",
      "Value(data=0.4068099686165496) 363\n",
      "Value(data=0.40679222314813995) 364\n",
      "Value(data=0.4068094897457071) 365\n",
      "Value(data=0.40679855386476677) 366\n",
      "Value(data=0.4067779542853591) 367\n",
      "Value(data=0.4067590584892849) 368\n",
      "Value(data=0.4067407298861336) 369\n",
      "Value(data=0.406722704653458) 370\n",
      "Value(data=0.40672706737754116) 371\n",
      "Value(data=0.40673026686153724) 372\n",
      "Value(data=0.4067092032442568) 373\n",
      "Value(data=0.4066900024777539) 374\n",
      "Value(data=0.40667143456311655) 375\n",
      "Value(data=0.40665321036444524) 376\n",
      "Value(data=0.40664647316797925) 377\n",
      "Value(data=0.40666197071155713) 378\n",
      "Value(data=0.4066405226683806) 379\n",
      "Value(data=0.4066210801451122) 380\n",
      "Value(data=0.40660232394328644) 381\n",
      "Value(data=0.40658394271575116) 382\n",
      "Value(data=0.40656701475944695) 383\n",
      "Value(data=0.4065939295285615) 384\n",
      "Value(data=0.40657212940766885) 385\n",
      "Value(data=0.40655247797047855) 386\n",
      "Value(data=0.4065335626099201) 387\n",
      "Value(data=0.40651505000373206) 388\n",
      "Value(data=0.40649681905457535) 389\n",
      "Value(data=0.4065125550602947) 390\n",
      "Value(data=0.406507997956478) 391\n",
      "Value(data=0.40648609829732396) 392\n",
      "Value(data=0.40646646507765566) 393\n",
      "Value(data=0.4064475776976294) 394\n",
      "Value(data=0.4064290876895103) 395\n",
      "Value(data=0.406431544977435) 396\n",
      "Value(data=0.4064417838579066) 397\n",
      "Value(data=0.406419394748917) 398\n",
      "Value(data=0.40639947417314254) 399\n",
      "Value(data=0.4063803802506669) 400\n",
      "Value(data=0.4063617321900514) 401\n",
      "Value(data=0.40635338357882655) 402\n",
      "Value(data=0.40637587713168194) 403\n",
      "Value(data=0.4063530993597478) 404\n",
      "Value(data=0.40633296907660194) 405\n",
      "Value(data=0.4063137293212635) 406\n",
      "Value(data=0.40629497149753907) 407\n",
      "Value(data=0.4062771212277405) 408\n",
      "Value(data=0.406310576400347) 409\n",
      "Value(data=0.4062874475360777) 410\n",
      "Value(data=0.40626714449674184) 411\n",
      "Value(data=0.4062477905109581) 412\n",
      "Value(data=0.4062289497839723) 413\n",
      "Value(data=0.4062104652265847) 414\n",
      "Value(data=0.4062311579024364) 415\n",
      "Value(data=0.406227451705532) 416\n",
      "Value(data=0.4062042882475989) 417\n",
      "Value(data=0.40618409444330605) 418\n",
      "Value(data=0.4061648564455195) 419\n",
      "Value(data=0.40614612102763487) 420\n",
      "Value(data=0.40615390017473824) 421\n",
      "Value(data=0.4061648784423736) 422\n",
      "Value(data=0.40614118244702735) 423\n",
      "Value(data=0.4061207085116939) 424\n",
      "Value(data=0.40610128821205016) 425\n",
      "Value(data=0.4060824278097095) 426\n",
      "Value(data=0.4060804426736125) 427\n",
      "Value(data=0.40610283864605246) 428\n",
      "Value(data=0.40607873823847684) 429\n",
      "Value(data=0.40605807951679007) 430\n",
      "Value(data=0.4060385487285627) 431\n",
      "Value(data=0.40601961824645894) 432\n",
      "Value(data=0.4060094952252379) 433\n",
      "Value(data=0.406041670647913) 434\n",
      "Value(data=0.4060172094974569) 435\n",
      "Value(data=0.40599640699038014) 436\n",
      "Value(data=0.4059767991561488) 437\n",
      "Value(data=0.40595782570699823) 438\n",
      "Value(data=0.40594064291426907) 439\n",
      "Value(data=0.40598153557218086) 440\n",
      "Value(data=0.40595672847676867) 441\n",
      "Value(data=0.4059358018497482) 442\n",
      "Value(data=0.40591613472240684) 443\n",
      "Value(data=0.40589713385085413) 444\n",
      "Value(data=0.40587858842633545) 445\n",
      "Value(data=0.4059086728552443) 446\n",
      "Value(data=0.4059038158534176) 447\n",
      "Value(data=0.40587905090271115) 448\n",
      "Value(data=0.4058583433940775) 449\n",
      "Value(data=0.4058388938368655) 450\n",
      "Value(data=0.40582008987223644) 451\n",
      "Value(data=0.4058386012963277) 452\n",
      "Value(data=0.4058473250030349) 453\n",
      "Value(data=0.40582195382474023) 454\n",
      "Value(data=0.4058009613633113) 455\n",
      "Value(data=0.4057813460673787) 456\n",
      "Value(data=0.40576244409077183) 457\n",
      "Value(data=0.40577324266631454) 458\n",
      "Value(data=0.40579150106446804) 459\n",
      "Value(data=0.4057656908145476) 460\n",
      "Value(data=0.4057445325944955) 461\n",
      "Value(data=0.4057248373103944) 462\n",
      "Value(data=0.40570589971338344) 463\n",
      "Value(data=0.40571084928241247) 464\n",
      "Value(data=0.40573673724156734) 465\n",
      "Value(data=0.4057105391654392) 466\n",
      "Value(data=0.4056892603951871) 467\n",
      "Value(data=0.4056695197421084) 468\n",
      "Value(data=0.4056505728120701) 469\n",
      "Value(data=0.40565084778452754) 470\n",
      "Value(data=0.40568318614716575) 471\n",
      "Value(data=0.405656614437273) 472\n",
      "Value(data=0.40563523350724884) 473\n",
      "Value(data=0.40561546289569994) 474\n",
      "Value(data=0.4055965191450027) 475\n",
      "Value(data=0.40559303509489797) 476\n",
      "Value(data=0.405630913571726) 477\n",
      "Value(data=0.40560396886005917) 478\n",
      "Value(data=0.4055824942400638) 479\n",
      "Value(data=0.40556270182506443) 480\n",
      "Value(data=0.40554376841937717) 481\n",
      "Value(data=0.40553733191449076) 482\n",
      "Value(data=0.4055799506924254) 483\n",
      "Value(data=0.405552628539959) 484\n",
      "Value(data=0.4055310648764944) 485\n",
      "Value(data=0.4055112558650637) 486\n",
      "Value(data=0.40549233766045645) 487\n",
      "Value(data=0.40548369726015854) 488\n",
      "Value(data=0.4055303132095172) 489\n",
      "Value(data=0.4055026071330048) 490\n",
      "Value(data=0.4054809574183894) 491\n",
      "Value(data=0.40546113560671126) 492\n",
      "Value(data=0.4054422362415813) 493\n",
      "Value(data=0.40543209908948485) 494\n",
      "Value(data=0.40548200833261305) 495\n",
      "Value(data=0.4054539108986257) 496\n",
      "Value(data=0.40543217725517794) 497\n",
      "Value(data=0.4054123455926402) 498\n",
      "Value(data=0.40539346789853) 499\n",
      "Value(data=0.4053825044635719) 500\n",
      "Value(data=0.40543503746677256) 501\n",
      "Value(data=0.4054065407128221) 502\n",
      "Value(data=0.4053847246957691) 503\n",
      "Value(data=0.4053648855114966) 504\n",
      "Value(data=0.4053460316879379) 505\n",
      "Value(data=0.40533487649223565) 506\n",
      "Value(data=0.4053893974014327) 507\n",
      "Value(data=0.4053604930236633) 508\n",
      "Value(data=0.40533859575695486) 509\n",
      "Value(data=0.4053187508690333) 510\n",
      "Value(data=0.40529992257601444) 511\n",
      "Value(data=0.4052891736386901) 512\n",
      "Value(data=0.405345080977357) 513\n",
      "Value(data=0.4053157604358872) 514\n",
      "Value(data=0.4052937826887046) 515\n",
      "Value(data=0.40527393347142443) 516\n",
      "Value(data=0.4052551318919355) 517\n",
      "Value(data=0.40524534985448574) 518\n",
      "Value(data=0.40530207756510467) 519\n",
      "Value(data=0.4052723321584405) 520\n",
      "Value(data=0.4052502743991713) 521\n",
      "Value(data=0.40523042183395275) 522\n",
      "Value(data=0.40521164772446006) 523\n",
      "Value(data=0.4052033550112512) 524\n",
      "Value(data=0.4052603734674601) 525\n",
      "Value(data=0.4052301943934657) 526\n",
      "Value(data=0.4052080568337084) 527\n",
      "Value(data=0.4051882015525414) 528\n",
      "Value(data=0.40516945528750214) 529\n",
      "Value(data=0.40516313543685845) 530\n",
      "Value(data=0.4052199522831822) 531\n",
      "Value(data=0.4051893306926172) 532\n",
      "Value(data=0.4051671133256109) 533\n",
      "Value(data=0.4051472556500272) 534\n",
      "Value(data=0.40512853726261533) 535\n",
      "Value(data=0.4051246344816029) 536\n",
      "Value(data=0.4051807952442054) 537\n",
      "Value(data=0.4051497222889217) 538\n",
      "Value(data=0.40512742492397347) 539\n",
      "Value(data=0.40510756490075) 540\n",
      "Value(data=0.40508887412051275) 541\n",
      "Value(data=0.40508779308194814) 542\n",
      "Value(data=0.4051428815300451) 543\n",
      "Value(data=0.4051113484066501) 544\n",
      "Value(data=0.4050889707002539) 545\n",
      "Value(data=0.40506910813419356) 546\n",
      "Value(data=0.40505044442198207) 547\n",
      "Value(data=0.4050525503055812) 548\n",
      "Value(data=0.405106188560487) 549\n",
      "Value(data=0.40507418654982863) 550\n",
      "Value(data=0.4050517280337281) 551\n",
      "Value(data=0.4050318625178178) 552\n",
      "Value(data=0.4050132250980886) 553\n",
      "Value(data=0.40501884386861325) 554\n",
      "Value(data=0.4050706922669224) 555\n",
      "Value(data=0.40503821276958923) 556\n",
      "Value(data=0.40501567287599655) 557\n",
      "Value(data=0.40499580381901756) 558\n",
      "Value(data=0.40497719170963475) 559\n",
      "Value(data=0.40498661061940977) 560\n",
      "Value(data=0.4050363673425153) 561\n",
      "Value(data=0.4050034019105316) 562\n",
      "Value(data=0.40498077999467436) 563\n",
      "Value(data=0.4049609066463793) 564\n",
      "Value(data=0.40494231868597297) 565\n",
      "Value(data=0.4049557869858142) 566\n",
      "Value(data=0.40500318747162406) 567\n",
      "Value(data=0.404969727836469) 568\n",
      "Value(data=0.40494702319658676) 569\n",
      "Value(data=0.4049271446705735) 570\n",
      "Value(data=0.40490857954354476) 571\n",
      "Value(data=0.4049263093839096) 572\n",
      "Value(data=0.4049711255389404) 573\n",
      "Value(data=0.40493716363610593) 574\n",
      "Value(data=0.40491437553106613) 575\n",
      "Value(data=0.40489449082544715) 576\n",
      "Value(data=0.4048759470847346) 577\n",
      "Value(data=0.404898114587727) 578\n",
      "Value(data=0.4049401538191149) 579\n",
      "Value(data=0.4049056818093332) 580\n",
      "Value(data=0.4048828094740273) 581\n",
      "Value(data=0.4048629174900449) 582\n",
      "Value(data=0.40484439357776425) 583\n",
      "Value(data=0.4048711400599841) 584\n",
      "Value(data=0.4049102441476955) 585\n",
      "Value(data=0.40487525443507316) 586\n",
      "Value(data=0.4048522970937731) 587\n",
      "Value(data=0.4048323966524666) 588\n",
      "Value(data=0.4048138909185655) 589\n",
      "Value(data=0.4048453242446297) 590\n",
      "Value(data=0.4048813680743823) 591\n",
      "Value(data=0.4048458533216355) 592\n",
      "Value(data=0.40482281019944577) 593\n",
      "Value(data=0.4048029000565655) 594\n",
      "Value(data=0.40478441077560356) 595\n",
      "Value(data=0.40482060682244864) 596\n",
      "Value(data=0.40485349699965995) 597\n",
      "Value(data=0.40481745014065) 598\n",
      "Value(data=0.4047943204732828) 599\n",
      "Value(data=0.4047743993325499) 600\n",
      "Value(data=0.40475592471877814) 601\n",
      "Value(data=0.4047969289312856) 602\n",
      "Value(data=0.404826602295955) 603\n",
      "Value(data=0.4047900165457558) 604\n",
      "Value(data=0.40476679958775486) 605\n",
      "Value(data=0.40474686611262667) 606\n",
      "Value(data=0.40472840433346796) 607\n",
      "Value(data=0.40477423335275914) 608\n",
      "Value(data=0.4048006554144273) 609\n",
      "Value(data=0.40476352427712015) 610\n",
      "Value(data=0.40474021930872117) 611\n",
      "Value(data=0.40472027213281647) 612\n",
      "Value(data=0.4047018213209207) 613\n",
      "Value(data=0.4047524646675227) 614\n",
      "Value(data=0.40477562797858124) 615\n",
      "Value(data=0.40473794525298684) 616\n",
      "Value(data=0.4047145515857598) 617\n",
      "Value(data=0.40469458932206176) 618\n",
      "Value(data=0.404676147586044) 619\n",
      "Value(data=0.40473156938118887) 620\n",
      "Value(data=0.4047514918657937) 621\n",
      "Value(data=0.4047132516493427) 622\n",
      "Value(data=0.40468976863075623) 623\n",
      "Value(data=0.4046697898797239) 624\n",
      "Value(data=0.4046513553137236) 625\n",
      "Value(data=0.40471149602319295) 626\n",
      "Value(data=0.4047282192778372) 627\n",
      "Value(data=0.4046894159687597) 628\n",
      "Value(data=0.40466584298583) 629\n",
      "Value(data=0.40464584634254386) 630\n",
      "Value(data=0.40462741703470084) 631\n",
      "Value(data=0.404692195220823) 632\n",
      "Value(data=0.404705782801455) 633\n",
      "Value(data=0.40466641109947493) 634\n",
      "Value(data=0.404642747581584) 635\n",
      "Value(data=0.4046227316420194) 636\n",
      "Value(data=0.4046043056819964) 637\n",
      "Value(data=0.40467361975067456) 638\n",
      "Value(data=0.40468415545993475) 639\n",
      "Value(data=0.4046442103656245) 640\n",
      "Value(data=0.4046204557866425) 641\n",
      "Value(data=0.4046004191531752) 642\n",
      "Value(data=0.40458325039501536) 643\n",
      "Value(data=0.40468228123104205) 644\n",
      "Value(data=0.4046406539191928) 645\n",
      "Value(data=0.404615943241975) 646\n",
      "Value(data=0.40459525325299384) 647\n",
      "Value(data=0.40457635042173) 648\n",
      "Value(data=0.40457912020585424) 649\n",
      "Value(data=0.40465899292920665) 650\n",
      "Value(data=0.40461767160428175) 651\n",
      "Value(data=0.40459339874039024) 652\n",
      "Value(data=0.4045730145319355) 653\n",
      "Value(data=0.40455446491693287) 654\n",
      "Value(data=0.4045628507276586) 655\n",
      "Value(data=0.4046424201778437) 656\n",
      "Value(data=0.4045982569343969) 657\n",
      "Value(data=0.4045733140420749) 658\n",
      "Value(data=0.40455265254440975) 659\n",
      "Value(data=0.40453422000847994) 660\n",
      "Value(data=0.40454935816247733) 661\n",
      "Value(data=0.40462384916183525) 662\n",
      "Value(data=0.4045786817193635) 663\n",
      "Value(data=0.4045535144830524) 664\n",
      "Value(data=0.4045327615139221) 665\n",
      "Value(data=0.4045146256238885) 666\n",
      "Value(data=0.40453742905603945) 667\n",
      "Value(data=0.404605767015399) 668\n",
      "Value(data=0.40455965565640184) 669\n",
      "Value(data=0.4045343206213813) 670\n",
      "Value(data=0.4045137518877155) 671\n",
      "Value(data=0.40449579105338396) 672\n",
      "Value(data=0.4045227669188153) 673\n",
      "Value(data=0.40458904864982037) 674\n",
      "Value(data=0.4045418428755697) 675\n",
      "Value(data=0.4045161745458872) 676\n",
      "Value(data=0.4044954466798634) 677\n",
      "Value(data=0.40447742115526536) 678\n",
      "Value(data=0.40451179323294983) 679\n",
      "Value(data=0.40457230742412864) 680\n",
      "Value(data=0.4045242681604985) 681\n",
      "Value(data=0.4044984182273692) 682\n",
      "Value(data=0.4044776853355627) 683\n",
      "Value(data=0.4044596263829019) 684\n",
      "Value(data=0.4045018846011282) 685\n",
      "Value(data=0.4045560648900255) 686\n",
      "Value(data=0.40450720796462564) 687\n",
      "Value(data=0.40448120483983024) 688\n",
      "Value(data=0.4044605118974635) 689\n",
      "Value(data=0.4044424232846287) 690\n",
      "Value(data=0.40449262075292813) 691\n",
      "Value(data=0.40454038324167096) 692\n",
      "Value(data=0.4044907013917074) 693\n",
      "Value(data=0.4044645510983315) 694\n",
      "Value(data=0.4044439170661984) 695\n",
      "Value(data=0.40442579700035675) 696\n",
      "Value(data=0.4044838803477742) 697\n",
      "Value(data=0.404525256808142) 698\n",
      "Value(data=0.40447474118106586) 699\n",
      "Value(data=0.4044484457044274) 700\n",
      "Value(data=0.4044278814683467) 701\n",
      "Value(data=0.4044097272359702) 702\n",
      "Value(data=0.40447560424931345) 703\n",
      "Value(data=0.4045106674366565) 704\n",
      "Value(data=0.4044593111334365) 705\n",
      "Value(data=0.40443287201771466) 706\n",
      "Value(data=0.40441238461894374) 707\n",
      "Value(data=0.4043941935168978) 708\n",
      "Value(data=0.4044677474264773) 709\n",
      "Value(data=0.40449659554964984) 710\n",
      "Value(data=0.4044443937818091) 711\n",
      "Value(data=0.40441781273564137) 712\n",
      "Value(data=0.4043974066001178) 713\n",
      "Value(data=0.4043817292512589) 714\n",
      "Value(data=0.4045017272646384) 715\n",
      "Value(data=0.4044478390812574) 716\n",
      "Value(data=0.40442025919826713) 717\n",
      "Value(data=0.4043994144916477) 718\n",
      "Value(data=0.4043807043925567) 719\n",
      "Value(data=0.404386314678915) 720\n",
      "Value(data=0.4044858124413591) 721\n",
      "Value(data=0.40443160840110476) 722\n",
      "Value(data=0.4044043598194447) 723\n",
      "Value(data=0.4043839916961682) 724\n",
      "Value(data=0.40436537816773754) 725\n",
      "Value(data=0.4043858657121135) 726\n",
      "Value(data=0.4044717321053648) 727\n",
      "Value(data=0.40441682956788527) 728\n",
      "Value(data=0.4043896701518558) 729\n",
      "Value(data=0.40436960665602156) 730\n",
      "Value(data=0.4043508513604321) 731\n",
      "Value(data=0.4043817658879085) 732\n",
      "Value(data=0.4044590004102055) 733\n",
      "Value(data=0.40440332206112417) 734\n",
      "Value(data=0.40437583302525576) 735\n",
      "Value(data=0.4043552343490352) 736\n",
      "Value(data=0.40433660130288174) 737\n",
      "Value(data=0.4043816587869531) 738\n",
      "Value(data=0.40444583219894104) 739\n",
      "Value(data=0.4043894872324997) 740\n",
      "Value(data=0.4043620437538362) 741\n",
      "Value(data=0.4043419303319384) 742\n",
      "Value(data=0.40432314672076153) 743\n",
      "Value(data=0.40437721751358796) 744\n",
      "Value(data=0.4044341201414833) 745\n",
      "Value(data=0.40437697276349965) 746\n",
      "Value(data=0.40434928213888643) 747\n",
      "Value(data=0.4043285779748235) 748\n",
      "Value(data=0.40430990643545595) 749\n",
      "Value(data=0.40437676617892643) 750\n",
      "Value(data=0.40442192787385506) 751\n",
      "Value(data=0.404364086115599) 752\n",
      "Value(data=0.4043364246208515) 753\n",
      "Value(data=0.4043160124758326) 754\n",
      "Value(data=0.40429733055212635) 755\n",
      "Value(data=0.4043742592983718) 756\n",
      "Value(data=0.4044106322185025) 757\n",
      "Value(data=0.40435194390908685) 758\n",
      "Value(data=0.40432434771784276) 759\n",
      "Value(data=0.40430414533086306) 760\n",
      "Value(data=0.4042852880907404) 761\n",
      "Value(data=0.4043691161593011) 762\n",
      "Value(data=0.4044003317444353) 763\n",
      "Value(data=0.4043408285950421) 764\n",
      "Value(data=0.4043128223665457) 765\n",
      "Value(data=0.4042921518427955) 766\n",
      "Value(data=0.40428409344015703) 767\n",
      "Value(data=0.4044086263643085) 768\n",
      "Value(data=0.4043475149855512) 769\n",
      "Value(data=0.4043188055499868) 770\n",
      "Value(data=0.404297912906511) 771\n",
      "Value(data=0.4042784907122592) 772\n",
      "Value(data=0.40429169261641185) 773\n",
      "Value(data=0.40439603194965623) 774\n",
      "Value(data=0.4043346801187359) 775\n",
      "Value(data=0.4043060729521427) 776\n",
      "Value(data=0.4042853209212903) 777\n",
      "Value(data=0.40426600021472464) 778\n",
      "Value(data=0.40429571694390604) 779\n",
      "Value(data=0.4043847785658081) 780\n",
      "Value(data=0.40432293972255434) 781\n",
      "Value(data=0.40429430274538924) 782\n",
      "Value(data=0.404273227560146) 783\n",
      "Value(data=0.4042540823938961) 784\n",
      "Value(data=0.40430033058212317) 785\n",
      "Value(data=0.4043737367196768) 786\n",
      "Value(data=0.4043112576827415) 787\n",
      "Value(data=0.40428288483717806) 788\n",
      "Value(data=0.4042622269656464) 789\n",
      "Value(data=0.4042429667015295) 790\n",
      "Value(data=0.40429960485989563) 791\n",
      "Value(data=0.40436423199610294) 792\n",
      "Value(data=0.4043009858803337) 793\n",
      "Value(data=0.40427226546791034) 794\n",
      "Value(data=0.404251218994175) 795\n",
      "Value(data=0.4042320624595512) 796\n",
      "Value(data=0.40430231776369596) 797\n",
      "Value(data=0.4043542474318902) 798\n",
      "Value(data=0.4042903059481512) 799\n",
      "Value(data=0.4042618116946073) 800\n",
      "Value(data=0.4042411111256067) 801\n",
      "Value(data=0.40422182238417714) 802\n",
      "Value(data=0.40430038587921) 803\n",
      "Value(data=0.4043456011767068) 804\n",
      "Value(data=0.40428089005192014) 805\n",
      "Value(data=0.4042520240232096) 806\n",
      "Value(data=0.4042309343668832) 807\n",
      "Value(data=0.40421404935253324) 808\n",
      "Value(data=0.4043560213196149) 809\n",
      "Value(data=0.40428965215552387) 810\n",
      "Value(data=0.4042601448595958) 811\n",
      "Value(data=0.4042387418488431) 812\n",
      "Value(data=0.4042188726914354) 813\n",
      "Value(data=0.4042246334066579) 814\n",
      "Value(data=0.4043449295679494) 815\n",
      "Value(data=0.4042783819662756) 816\n",
      "Value(data=0.40424900247660495) 817\n",
      "Value(data=0.4042277566090787) 818\n",
      "Value(data=0.4042080033477919) 819\n",
      "Value(data=0.40423123776272646) 820\n",
      "Value(data=0.40433519535797935) 821\n",
      "Value(data=0.4042682078931905) 822\n",
      "Value(data=0.40423876422950233) 823\n",
      "Value(data=0.40421730033307557) 824\n",
      "Value(data=0.4041977160267475) 825\n",
      "Value(data=0.40423797422011115) 826\n",
      "Value(data=0.40432570440164484) 827\n",
      "Value(data=0.404258086560463) 828\n",
      "Value(data=0.404228990085427) 829\n",
      "Value(data=0.4042078559042338) 830\n",
      "Value(data=0.40418818020283) 831\n",
      "Value(data=0.40423920236064037) 832\n",
      "Value(data=0.404317681324754) 833\n",
      "Value(data=0.4042493470322747) 834\n",
      "Value(data=0.40421987025912304) 835\n",
      "Value(data=0.4041984332827494) 836\n",
      "Value(data=0.40417885256063196) 837\n",
      "Value(data=0.404243516358119) 838\n",
      "Value(data=0.4043091994205001) 839\n",
      "Value(data=0.40424018422518637) 840\n",
      "Value(data=0.40421098955164403) 841\n",
      "Value(data=0.4041898246040436) 842\n",
      "Value(data=0.40417013252375994) 843\n",
      "Value(data=0.40424310565571064) 844\n",
      "Value(data=0.40430197366693943) 845\n",
      "Value(data=0.4042322429534877) 846\n",
      "Value(data=0.4042026638894536) 847\n",
      "Value(data=0.4041811677140595) 848\n",
      "Value(data=0.40416155435769374) 849\n",
      "Value(data=0.4042460236496107) 850\n",
      "Value(data=0.4042942288504302) 851\n",
      "Value(data=0.40422381452572875) 852\n",
      "Value(data=0.40419447843514195) 853\n",
      "Value(data=0.40417325613598915) 854\n",
      "Value(data=0.4041535239369611) 855\n",
      "Value(data=0.40424446472234243) 856\n",
      "Value(data=0.40428766119192167) 857\n",
      "Value(data=0.4042165421849462) 858\n",
      "Value(data=0.4041868460971337) 859\n",
      "Value(data=0.40416525847024676) 860\n",
      "Value(data=0.40415388853123463) 861\n",
      "Value(data=0.4043006159637261) 862\n",
      "Value(data=0.4042277923643684) 863\n",
      "Value(data=0.40419740406008414) 864\n",
      "Value(data=0.4041754269221486) 865\n",
      "Value(data=0.40415506806944984) 866\n",
      "Value(data=0.4041657009248731) 867\n",
      "Value(data=0.4042912628024238) 868\n",
      "Value(data=0.40421836562524177) 869\n",
      "Value(data=0.40418811526464304) 870\n",
      "Value(data=0.4041663090333129) 871\n",
      "Value(data=0.40414607640083505) 872\n",
      "Value(data=0.40417318221316983) 873\n",
      "Value(data=0.4042832866460332) 874\n",
      "Value(data=0.4042100172583186) 875\n",
      "Value(data=0.40417976376564224) 876\n",
      "Value(data=0.4041577246005384) 877\n",
      "Value(data=0.40413765106002847) 878\n",
      "Value(data=0.4041804220718507) 879\n",
      "Value(data=0.4042755893512636) 880\n",
      "Value(data=0.40420171141048167) 881\n",
      "Value(data=0.4041717406408738) 882\n",
      "Value(data=0.4041500533891689) 883\n",
      "Value(data=0.40412990556093803) 884\n",
      "Value(data=0.4041822563122373) 885\n",
      "Value(data=0.4042692278740652) 886\n",
      "Value(data=0.40419470356928017) 887\n",
      "Value(data=0.404164455060607) 888\n",
      "Value(data=0.40414240434805454) 889\n",
      "Value(data=0.40412234291720633) 890\n",
      "Value(data=0.40418684565450175) 891\n",
      "Value(data=0.40426244335876593) 892\n",
      "Value(data=0.40418726222483764) 893\n",
      "Value(data=0.4041571905119967) 894\n",
      "Value(data=0.4041354775485993) 895\n",
      "Value(data=0.40411531800622685) 896\n",
      "Value(data=0.4041868571361407) 897\n",
      "Value(data=0.40425678276651844) 898\n",
      "Value(data=0.4041809547340096) 899\n",
      "Value(data=0.4041506374391012) 900\n",
      "Value(data=0.4041284927726245) 901\n",
      "Value(data=0.40410840472156084) 902\n",
      "Value(data=0.40418989479122974) 903\n",
      "Value(data=0.40425063876941475) 904\n",
      "Value(data=0.40417415150275365) 905\n",
      "Value(data=0.4041439363208219) 906\n",
      "Value(data=0.4041221692473713) 907\n",
      "Value(data=0.40410197233763284) 908\n",
      "Value(data=0.40418863714316017) 909\n",
      "Value(data=0.4042455398659509) 910\n",
      "Value(data=0.4041684141088881) 911\n",
      "Value(data=0.40413800921523463) 912\n",
      "Value(data=0.4041157421465176) 913\n",
      "Value(data=0.40409560898378544) 914\n",
      "Value(data=0.40419050746941115) 915\n",
      "Value(data=0.4042399339030386) 916\n",
      "Value(data=0.404162150210427) 917\n",
      "Value(data=0.404131837115017) 918\n",
      "Value(data=0.40410984091138147) 919\n",
      "Value(data=0.4040933481390336) 920\n",
      "Value(data=0.40425554644093636) 921\n",
      "Value(data=0.40417589953872357) 922\n",
      "Value(data=0.4041447076676305) 923\n",
      "Value(data=0.4041221069182959) 924\n",
      "Value(data=0.4041012098860447) 925\n",
      "Value(data=0.4041056639090302) 926\n",
      "Value(data=0.40424764714419786) 927\n",
      "Value(data=0.40416804804803763) 928\n",
      "Value(data=0.4041369548304846) 929\n",
      "Value(data=0.40411443993592316) 930\n",
      "Value(data=0.4040937648091122) 931\n",
      "Value(data=0.4041152800391877) 932\n",
      "Value(data=0.404240788608676) 933\n",
      "Value(data=0.4041607449065942) 934\n",
      "Value(data=0.40413007194872186) 935\n",
      "Value(data=0.4041077592296656) 936\n",
      "Value(data=0.404087066372185) 937\n",
      "Value(data=0.4041188489188606) 938\n",
      "Value(data=0.40423533647930376) 939\n",
      "Value(data=0.40415478801217636) 940\n",
      "Value(data=0.40412381956416704) 941\n",
      "Value(data=0.4041012150249711) 942\n",
      "Value(data=0.404080612445227) 943\n",
      "Value(data=0.4041245272358456) 944\n",
      "Value(data=0.4042296009154927) 945\n",
      "Value(data=0.404148460754892) 946\n",
      "Value(data=0.40411765003267924) 947\n",
      "Value(data=0.4040953464092209) 948\n",
      "Value(data=0.40407467369338307) 949\n",
      "Value(data=0.4041256387451625) 950\n",
      "Value(data=0.4042249066763609) 951\n",
      "Value(data=0.40414321559035654) 952\n",
      "Value(data=0.4041122264647981) 953\n",
      "Value(data=0.40408946120052214) 954\n",
      "Value(data=0.40406886018912963) 955\n",
      "Value(data=0.40412935784519904) 956\n",
      "Value(data=0.4042198129278136) 957\n",
      "Value(data=0.4041375073102711) 958\n",
      "Value(data=0.40410663154540355) 959\n",
      "Value(data=0.4040841100613821) 960\n",
      "Value(data=0.40406349879321735) 961\n",
      "Value(data=0.4041305057697196) 962\n",
      "Value(data=0.40421539371634024) 963\n",
      "Value(data=0.4041323532799521) 964\n",
      "Value(data=0.40410146098560584) 965\n",
      "Value(data=0.4040790383220857) 966\n",
      "Value(data=0.4040583945992794) 967\n",
      "Value(data=0.40413081271226037) 968\n",
      "Value(data=0.40421125030435817) 969\n",
      "Value(data=0.4041274880067632) 970\n",
      "Value(data=0.40409662653033357) 971\n",
      "Value(data=0.40407422690602385) 972\n",
      "Value(data=0.40405348128873997) 973\n",
      "Value(data=0.40412904042167713) 974\n",
      "Value(data=0.404207555915893) 975\n",
      "Value(data=0.404123284189755) 976\n",
      "Value(data=0.4040921640709246) 977\n",
      "Value(data=0.4040692986041172) 978\n",
      "Value(data=0.40404859898990547) 979\n",
      "Value(data=0.4041303615815689) 980\n",
      "Value(data=0.40420337144609597) 981\n",
      "Value(data=0.4041185114972327) 982\n",
      "Value(data=0.4040874869970528) 983\n",
      "Value(data=0.4040648092236631) 984\n",
      "Value(data=0.4040440866603318) 985\n",
      "Value(data=0.4041294827691807) 986\n",
      "Value(data=0.4041997699101046) 987\n",
      "Value(data=0.4041142028991154) 988\n",
      "Value(data=0.4040831512714313) 989\n",
      "Value(data=0.40406053216102394) 990\n",
      "Value(data=0.4040397676037816) 991\n",
      "Value(data=0.40412802146402926) 992\n",
      "Value(data=0.404196378434939) 993\n",
      "Value(data=0.4041101149702936) 994\n",
      "Value(data=0.404079018710324) 995\n",
      "Value(data=0.40405641853694757) 996\n",
      "Value(data=0.4040356098934267) 997\n",
      "Value(data=0.4041262223379869) 998\n",
      "Value(data=0.40419314082206464) 999\n",
      "test 0.7024390243902439 train 0.7423687423687424\n"
     ]
    }
   ],
   "source": [
    "lr = 1\n",
    "epochs = 1000\n",
    "\n",
    "for _ in range(epochs):\n",
    "    Y_pred = [predict(x) for x in Xtrain]\n",
    "    # print(Y_pred)\n",
    "    loss = Value(0)\n",
    "    for i in range(len(Ytrain)):\n",
    "        if Ytrain[i] == 1:\n",
    "            # print('ssd')\n",
    "            loss -= Y_pred[i].log()\n",
    "        else:\n",
    "            # print('sds')\n",
    "            loss -= (Value(1) - Y_pred[i]).log()\n",
    "    loss = loss/len(X)\n",
    "    loss.backward()\n",
    "\n",
    "    for ix, p in enumerate(parameters):\n",
    "        # print(p.grad)\n",
    "        change = lr*p.grad\n",
    "        p.data = p.data -change\n",
    "        prevchange[ix] = change\n",
    "\n",
    "    for p in parameters:\n",
    "        p.grad = 0\n",
    "    losss.append(loss.data)\n",
    "    print(loss, _)\n",
    "print( 'test', getAccuracy(Xtest, Ytest),'train', getAccuracy(Xtrain, Ytrain))"
   ]
  },
  {
   "cell_type": "code",
   "execution_count": 110,
   "metadata": {},
   "outputs": [
    {
     "data": {
      "text/plain": [
       "0.9026548672566371"
      ]
     },
     "execution_count": 110,
     "metadata": {},
     "output_type": "execute_result"
    }
   ],
   "source": [
    "getPrecisiont(Xtest, Ytest)"
   ]
  },
  {
   "cell_type": "code",
   "execution_count": 34,
   "metadata": {},
   "outputs": [
    {
     "data": {
      "image/png": "[encoded data removed]",
      "text/plain": [
       "<Figure size 640x480 with 1 Axes>"
      ]
     },
     "metadata": {},
     "output_type": "display_data"
    }
   ],
   "source": [
    "import matplotlib.pyplot as plt\n",
    "\n",
    "plt.plot(losss)\n",
    "plt.xlabel('Epochs')\n",
    "plt.ylabel('Loss')\n",
    "plt.title('Loss over Epochs')\n",
    "plt.show()\n"
   ]
  },
  {
   "cell_type": "code",
   "execution_count": 33,
   "metadata": {},
   "outputs": [
    {
     "data": {
      "image/png": "[encoded data removed]",
      "text/plain": [
       "<Figure size 640x480 with 2 Axes>"
      ]
     },
     "metadata": {},
     "output_type": "display_data"
    },
    {
     "data": {
      "text/plain": [
       "Text(0, 0.5, 'neuron number')"
      ]
     },
     "execution_count": 33,
     "metadata": {},
     "output_type": "execute_result"
    },
    {
     "data": {
      "image/png": "[encoded data removed]",
      "text/plain": [
       "<Figure size 640x480 with 2 Axes>"
      ]
     },
     "metadata": {},
     "output_type": "display_data"
    }
   ],
   "source": [
    "neuron1weightsbias = [v.data for v in hiddenLayer1.neurons[0].w] + [hiddenLayer1.neurons[0].b.data]\n",
    "outputneuronweightsbias = [v.data for v in outputLayer.neurons[0].w] + [outputLayer.neurons[0].b.data]\n",
    "import matplotlib.pyplot as plt\n",
    "\n",
    "plt.imshow([neuron1weightsbias], cmap='hot')\n",
    "plt.colorbar()\n",
    "plt.title('Heatmap of Neurons in hidden Layer')\n",
    "plt.xlabel('neuron number')\n",
    "plt.ylabel('neuron number')\n",
    "plt.show()\n",
    "\n",
    "plt.imshow([outputneuronweightsbias], cmap='hot')\n",
    "plt.colorbar()\n",
    "plt.title('Heatmap of Neurons in Output Layer')\n",
    "plt.xlabel('neuron number')\n",
    "plt.ylabel('neuron number')\n"
   ]
  },
  {
   "cell_type": "code",
   "execution_count": 34,
   "metadata": {},
   "outputs": [
    {
     "data": {
      "image/png": "[encoded data removed]",
      "text/plain": [
       "<Figure size 640x480 with 1 Axes>"
      ]
     },
     "metadata": {},
     "output_type": "display_data"
    }
   ],
   "source": [
    "plt.bar(range(len(neuron1weightsbias)), neuron1weightsbias)\n",
    "plt.xlabel('Neuron Number')\n",
    "plt.ylabel('Weight')\n",
    "plt.title('Neuron 1 Weights')\n",
    "plt.show()\n"
   ]
  },
  {
   "cell_type": "code",
   "execution_count": 35,
   "metadata": {},
   "outputs": [],
   "source": [
    "import pickle as pkl \n",
    "\n",
    "with open('parameters/neuron1weightsbias5.pckl', 'wb') as file:\n",
    "    pkl.dump(neuron1weightsbias, file)\n",
    "with open('parameters/outputneuronweightsbias5.pckl', 'wb') as file:\n",
    "    pkl.dump(outputneuronweightsbias, file)"
   ]
  },
  {
   "cell_type": "code",
   "execution_count": 36,
   "metadata": {},
   "outputs": [],
   "source": [
    "# Load model\n",
    "\n",
    "def loadModel():\n",
    "    neuron1weightsbias, outputneuronweightsbias = [], []\n",
    "    with open(f'parameters/neuron1weightsbias2.pckl', 'rb') as file:\n",
    "        neuron1weightsbias = pickle.load(file)\n",
    "    with open('parameters/outputneuronweightsbias2.pckl', 'rb') as file:\n",
    "        outputneuronweightsbias = pickle.load(file)\n",
    "    hiddenLayer1_ = Layer(10, 1)\n",
    "    outputLayer_ = Layer(11, 1)\n",
    "\n",
    "    hiddenLayer1_.neurons[0].w = [Value(i) for i in neuron1weightsbias[:-1]]\n",
    "    hiddenLayer1_.neurons[0].b = Value(neuron1weightsbias[-1])\n",
    "\n",
    "    outputLayer_.neurons[0].w = [Value(i) for i in outputneuronweightsbias[:-1]]\n",
    "    outputLayer_.neurons[0].b = Value(outputneuronweightsbias[-1])\n",
    "    return hiddenLayer1_, outputLayer_, neuron1weightsbias, outputneuronweightsbias"
   ]
  },
  {
   "cell_type": "code",
   "execution_count": 37,
   "metadata": {},
   "outputs": [],
   "source": [
    "import pickle as pkl \n",
    "\n",
    "hiddenLayer1, outputLayer, neuron1weightsbias, outputneuronweightsbias = loadModel()"
   ]
  },
  {
   "cell_type": "code",
   "execution_count": 38,
   "metadata": {},
   "outputs": [
    {
     "data": {
      "text/plain": [
       "0.9560975609756097"
      ]
     },
     "execution_count": 38,
     "metadata": {},
     "output_type": "execute_result"
    }
   ],
   "source": [
    "getAccuracy(Xtest, Ytest)"
   ]
  },
  {
   "cell_type": "code",
   "execution_count": 39,
   "metadata": {},
   "outputs": [
    {
     "data": {
      "text/plain": [
       "[0, 2, 8, 6, -4, 4, -6, -8, -2, 0, -3]"
      ]
     },
     "execution_count": 39,
     "metadata": {},
     "output_type": "execute_result"
    }
   ],
   "source": [
    "[round(i)for i in neuron1weightsbias]"
   ]
  },
  {
   "cell_type": "code",
   "execution_count": null,
   "metadata": {},
   "outputs": [],
   "source": [
    "\"\"\"\n",
    "0110011110\n",
    "0001000100\n",
    "0101110110\n",
    "0110101000\n",
    "0000110010\n",
    "1000000100\n",
    "0100010100\n",
    "0010111010\n",
    "\"\"\""
   ]
  },
  {
   "cell_type": "code",
   "execution_count": 47,
   "metadata": {},
   "outputs": [],
   "source": [
    "x = [int(i) for i in '0101110110']\n",
    "act= sum([x[i]*neuron1weightsbias[i] for i in range(10)])-3"
   ]
  },
  {
   "cell_type": "code",
   "execution_count": 49,
   "metadata": {},
   "outputs": [
    {
     "data": {
      "text/plain": [
       "0.011155589025044415"
      ]
     },
     "execution_count": 49,
     "metadata": {},
     "output_type": "execute_result"
    }
   ],
   "source": [
    "import math\n",
    "sig = 1/(1+math.exp(-act))\n",
    "sig"
   ]
  },
  {
   "cell_type": "code",
   "execution_count": 53,
   "metadata": {},
   "outputs": [
    {
     "data": {
      "text/plain": [
       "-0.15881196450303459"
      ]
     },
     "execution_count": 53,
     "metadata": {},
     "output_type": "execute_result"
    }
   ],
   "source": [
    "t = outputneuronweightsbias[0]*sig\n",
    "t"
   ]
  },
  {
   "cell_type": "code",
   "execution_count": 56,
   "metadata": {},
   "outputs": [
    {
     "data": {
      "text/plain": [
       "[0.0,\n",
       " 1.1734301638760558,\n",
       " 0.0,\n",
       " 4.08848393551656,\n",
       " -1.9482578952061107,\n",
       " 2.6185877829911504,\n",
       " -0.0,\n",
       " -5.035839419412727,\n",
       " -1.002084938769422,\n",
       " -0.0]"
      ]
     },
     "execution_count": 56,
     "metadata": {},
     "output_type": "execute_result"
    }
   ],
   "source": [
    "[outputneuronweightsbias[i+1]*x[i] for i in range(10)]"
   ]
  },
  {
   "cell_type": "code",
   "execution_count": 41,
   "metadata": {},
   "outputs": [
    {
     "data": {
      "text/plain": [
       "Value(data=0.7442715509156452)"
      ]
     },
     "execution_count": 41,
     "metadata": {},
     "output_type": "execute_result"
    }
   ],
   "source": [
    "predict([0, 1, 0, 1, 0, 0, 0, 1, 0, 0])"
   ]
  },
  {
   "cell_type": "code",
   "execution_count": 40,
   "metadata": {},
   "outputs": [
    {
     "data": {
      "text/plain": [
       "[-14, 5, 1, 6, 4, -2, 3, -4, -5, -1, -3, 1]"
      ]
     },
     "execution_count": 40,
     "metadata": {},
     "output_type": "execute_result"
    }
   ],
   "source": [
    "[round(i)for i in outputneuronweightsbias]"
   ]
  },
  {
   "cell_type": "code",
   "execution_count": 130,
   "metadata": {},
   "outputs": [],
   "source": [
    "import math\n",
    "class check:\n",
    "    def __init__(self, w1, w2, w3, w4, w5, t1, t2):\n",
    "        self.w1 = w1\n",
    "        self.w2 = w2\n",
    "        self.w3 = w3\n",
    "        self.w4 = w4\n",
    "        self.w5 = w5\n",
    "        self.t1 = t1\n",
    "        self.t2 = t2\n",
    "\n",
    "    def ok(self, x1, x2):\n",
    "        act = self.w1*x1 +self.w2*x2 +self.t1\n",
    "        sigact = 1/(1+math.exp(-act))\n",
    "        out = self.w5*sigact -self.w3*x1 + self.w4*x2 -self.t2\n",
    "        out = 1/(1+math.exp(-out))\n",
    "        return act\n",
    "ps = []\n",
    "for i in range(5):\n",
    "    ps.append(check(neuron1weightsbias[i],\n",
    "                    neuron1weightsbias[9-i],\n",
    "                    outputneuronweightsbias[i+1],\n",
    "                    outputneuronweightsbias[10-i],\n",
    "                    outputneuronweightsbias[0],\n",
    "                    neuron1weightsbias[-1],\n",
    "                    outputneuronweightsbias[-1]))"
   ]
  },
  {
   "cell_type": "code",
   "execution_count": 132,
   "metadata": {},
   "outputs": [
    {
     "data": {
      "text/plain": [
       "'0110011110\\n0001000100\\n0101110110\\n0110101000\\n0000110010\\n1000000100\\n0100010100\\n0010111010\\n'"
      ]
     },
     "execution_count": 132,
     "metadata": {},
     "output_type": "execute_result"
    }
   ],
   "source": []
  },
  {
   "cell_type": "code",
   "execution_count": 185,
   "metadata": {},
   "outputs": [
    {
     "name": "stdout",
     "output_type": "stream",
     "text": [
      "-2.9570791492469928\n",
      "-3.0185698068739386\n",
      "-2.9570791492469928\n",
      "-2.9570791492469928\n",
      "-2.7082131990310354\n"
     ]
    }
   ],
   "source": [
    "print(ps[0].ok(x[0],x[-1]))\n",
    "print(ps[1].ok(x[1],x[-2]))\n",
    "print(ps[2].ok(x[2],x[-3]))\n",
    "print(ps[3].ok(x[3],x[-4]))\n",
    "print(ps[4].ok(x[4],x[-5]))\n"
   ]
  },
  {
   "cell_type": "code",
   "execution_count": 186,
   "metadata": {},
   "outputs": [
    {
     "data": {
      "text/plain": [
       "-14.598020453645955"
      ]
     },
     "execution_count": 186,
     "metadata": {},
     "output_type": "execute_result"
    }
   ],
   "source": [
    "outmid = ps[0].ok(x[0],x[-1]) + ps[1].ok(x[1],x[-2]) + ps[2].ok(x[2],x[-3]) + ps[3].ok(x[3],x[-4]) + ps[4].ok(x[4],x[-5])\n",
    "outmid"
   ]
  },
  {
   "cell_type": "code",
   "execution_count": null,
   "metadata": {},
   "outputs": [],
   "source": [
    "\"\"\"\n",
    "0110011110\n",
    "0001000100\n",
    "0101110110\n",
    "0110101000\n",
    "0000110010\n",
    "1000000100\n",
    "0100010100\n",
    "0010111010\n",
    "\"\"\""
   ]
  },
  {
   "cell_type": "code",
   "execution_count": 210,
   "metadata": {},
   "outputs": [
    {
     "name": "stdout",
     "output_type": "stream",
     "text": [
      "[0.0, -0.06149065762694583, 0.0, 0.0, 0.24886595021595737] input\n",
      "-2.7697038566579812 hidden layer activation\n",
      "0.05898344857709712 hidenlayer out\n",
      "[0.0, 0.17134522510663386, 0.0, 0.0, 0.6703298877850397] residual weights\n",
      "1.4537179676184557 sigmidweight\n",
      "2.295393080510129 outres\n",
      "1.4537179676184557 outputbias\n",
      "1.4556994237553957\n"
     ]
    }
   ],
   "source": [
    "x = [0, 1, 0, 0, 1, 1, 0, 0, 1, 0]\n",
    "inmid = [neuron1weightsbias[i]*x[i] + neuron1weightsbias[9-i]*x[9-i] for i in range(5)]\n",
    "print(inmid, 'input')\n",
    "outmid = sum(inmid) + neuron1weightsbias[-1]\n",
    "print(outmid, 'hidden layer activation')\n",
    "sigmid = 1/(1+math.exp(-outmid))\n",
    "print(sigmid, 'hidenlayer out')\n",
    "inres = [outputneuronweightsbias[i+1]*x[i] + outputneuronweightsbias[10-i]*x[9-i] for i in range(5)]\n",
    "print(inres, 'residual weights')\n",
    "print(outputneuronweightsbias[-1], 'sigmidweight')\n",
    "outres = sum(inres)+outputneuronweightsbias[-1]\n",
    "print(outres, 'outres')\n",
    "print(outputneuronweightsbias[-1], 'outputbias')\n",
    "print(outres + sigmid*outputneuronweightsbias[0])"
   ]
  },
  {
   "cell_type": "code",
   "execution_count": 206,
   "metadata": {},
   "outputs": [
    {
     "data": {
      "text/plain": [
       "[0, 2, 8, 6, -4, 4, -6, -8, -2, 0, -3]"
      ]
     },
     "execution_count": 206,
     "metadata": {},
     "output_type": "execute_result"
    }
   ],
   "source": [
    "[round(i) for i in neuron1weightsbias]"
   ]
  },
  {
   "cell_type": "code",
   "execution_count": 207,
   "metadata": {},
   "outputs": [
    {
     "data": {
      "text/plain": [
       "[-14, 5, 1, 6, 4, -2, 3, -4, -5, -1, -3, 1]"
      ]
     },
     "execution_count": 207,
     "metadata": {},
     "output_type": "execute_result"
    }
   ],
   "source": [
    "[round(i) for i in outputneuronweightsbias]"
   ]
  },
  {
   "cell_type": "code",
   "execution_count": 190,
   "metadata": {},
   "outputs": [
    {
     "data": {
      "text/plain": [
       "0.05898344857709712"
      ]
     },
     "execution_count": 190,
     "metadata": {},
     "output_type": "execute_result"
    }
   ],
   "source": []
  },
  {
   "cell_type": "code",
   "execution_count": 191,
   "metadata": {},
   "outputs": [
    {
     "data": {
      "text/plain": [
       "[0.0, 0.17134522510663386, 0.0, 0.0, 0.6703298877850397]"
      ]
     },
     "execution_count": 191,
     "metadata": {},
     "output_type": "execute_result"
    }
   ],
   "source": []
  },
  {
   "cell_type": "code",
   "execution_count": 192,
   "metadata": {},
   "outputs": [
    {
     "data": {
      "text/plain": [
       "1.4537179676184557"
      ]
     },
     "execution_count": 192,
     "metadata": {},
     "output_type": "execute_result"
    }
   ],
   "source": []
  },
  {
   "cell_type": "code",
   "execution_count": 193,
   "metadata": {},
   "outputs": [
    {
     "data": {
      "text/plain": [
       "2.295393080510129"
      ]
     },
     "execution_count": 193,
     "metadata": {},
     "output_type": "execute_result"
    }
   ],
   "source": []
  },
  {
   "cell_type": "code",
   "execution_count": 194,
   "metadata": {},
   "outputs": [
    {
     "data": {
      "text/plain": [
       "-14.236089564298222"
      ]
     },
     "execution_count": 194,
     "metadata": {},
     "output_type": "execute_result"
    }
   ],
   "source": []
  },
  {
   "cell_type": "code",
   "execution_count": 195,
   "metadata": {},
   "outputs": [
    {
     "data": {
      "text/plain": [
       "1.4556994237553957"
      ]
     },
     "execution_count": 195,
     "metadata": {},
     "output_type": "execute_result"
    }
   ],
   "source": []
  },
  {
   "cell_type": "code",
   "execution_count": 106,
   "metadata": {},
   "outputs": [],
   "source": [
    "wrongX = []\n",
    "wrongY = []\n",
    "wrongpred = []\n",
    "rightX = []\n",
    "for i in range(len(Xtest)):\n",
    "    if (1 if predict(Xtest[i]).data > 0.5 else 0) != Ytest[i]:\n",
    "        wrongX.append(Xtest[i])\n",
    "        wrongY.append(Ytest[i])\n",
    "        wrongpred.append(predict(Xtest[i]))\n",
    "    else:\n",
    "        if Ytest[i] != 1:\n",
    "            rightX.append(Xtest[i])"
   ]
  },
  {
   "cell_type": "code",
   "execution_count": 107,
   "metadata": {},
   "outputs": [
    {
     "name": "stdout",
     "output_type": "stream",
     "text": [
      "0110011110\n",
      "0001000100\n",
      "0101110110\n",
      "0110101000\n",
      "0000110010\n",
      "1000000100\n",
      "0100010100\n",
      "0010111010\n",
      "0011111110\n",
      "0010110110\n",
      "0111101100\n"
     ]
    }
   ],
   "source": [
    "for ix, x in enumerate(wrongX):\n",
    "    print(''.join([str(int(i.data)) for i in x]))"
   ]
  },
  {
   "cell_type": "code",
   "execution_count": 122,
   "metadata": {},
   "outputs": [
    {
     "name": "stdout",
     "output_type": "stream",
     "text": [
      "0100100111\n",
      "0010100101\n",
      "0010111011\n",
      "0000011100\n",
      "0110001011\n"
     ]
    }
   ],
   "source": [
    "for x in rightX[:5]:\n",
    "    print(''.join([str(int(i.data)) for i in x]))"
   ]
  },
  {
   "cell_type": "code",
   "execution_count": 123,
   "metadata": {},
   "outputs": [
    {
     "data": {
      "text/plain": [
       "-2.7082131990310354"
      ]
     },
     "execution_count": 123,
     "metadata": {},
     "output_type": "execute_result"
    }
   ],
   "source": [
    "p.ok(0, 0)\n",
    "p.ok(0, 1)\n",
    "p.ok(1, 0)\n",
    "p.ok(1, 1)"
   ]
  },
  {
   "cell_type": "code",
   "execution_count": null,
   "metadata": {},
   "outputs": [],
   "source": []
  }
 ],
 "metadata": {
  "kernelspec": {
   "display_name": "Python 3",
   "language": "python",
   "name": "python3"
  },
  "language_info": {
   "codemirror_mode": {
    "name": "ipython",
    "version": 3
   },
   "file_extension": ".py",
   "mimetype": "text/x-python",
   "name": "python",
   "nbconvert_exporter": "python",
   "pygments_lexer": "ipython3",
   "version": "3.11.4"
  }
 },
 "nbformat": 4,
 "nbformat_minor": 2
}
