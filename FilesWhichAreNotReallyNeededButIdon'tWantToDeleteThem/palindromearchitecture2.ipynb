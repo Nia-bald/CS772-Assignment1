{
 "cells": [
  {
   "cell_type": "markdown",
   "metadata": {},
   "source": [
    "# Notes to discuss with prof\n",
    "\n",
    "1. since the data is very skewed it won't make sense for us to do cross validation where we randomly choose which data to use for training and which data to use for testing, because if do that after duplicating the low count data then most of the data in testing set will be in training set\n",
    "2. what is the difference between training the network after performing oversampling and just training the network on the same data but more epochs\n",
    "3. can we train the model with just 64 examples but keep the positive class data same and randomly choose rest of 32 negative class data?"
   ]
  },
  {
   "cell_type": "code",
   "execution_count": 1,
   "metadata": {},
   "outputs": [],
   "source": [
    "from mygrad import Layer\n",
    "from mygrad import Value"
   ]
  },
  {
   "cell_type": "code",
   "execution_count": 2,
   "metadata": {},
   "outputs": [],
   "source": [
    "import pickle\n",
    "with open('data.pckl', 'rb') as file:\n",
    "    data = pickle.load(file)"
   ]
  },
  {
   "cell_type": "code",
   "execution_count": 3,
   "metadata": {},
   "outputs": [],
   "source": [
    "from sklearn.utils import shuffle\n",
    "data = shuffle(data)\n",
    "# data = data[:100]"
   ]
  },
  {
   "cell_type": "code",
   "execution_count": 4,
   "metadata": {},
   "outputs": [
    {
     "data": {
      "text/plain": [
       "1024"
      ]
     },
     "execution_count": 4,
     "metadata": {},
     "output_type": "execute_result"
    }
   ],
   "source": [
    "# get the data\n",
    "\n",
    "X = [list(number) for number in data['number']]\n",
    "Y = [label for label in data['label']]\n",
    "\n",
    "len(X)"
   ]
  },
  {
   "cell_type": "code",
   "execution_count": 5,
   "metadata": {},
   "outputs": [],
   "source": [
    "for ix, row in enumerate(X):\n",
    "    X[ix] = [Value(float(item)) for item in row]\n"
   ]
  },
  {
   "cell_type": "code",
   "execution_count": 6,
   "metadata": {},
   "outputs": [],
   "source": [
    "Xtrain, Xtest, Ytrain, Ytest = X[:int(len(X)*0.8)], X[int(len(X)*0.8):], Y[:int(len(X)*0.8)], Y[int(len(X)*0.8):]"
   ]
  },
  {
   "cell_type": "code",
   "execution_count": 7,
   "metadata": {},
   "outputs": [
    {
     "data": {
      "text/plain": [
       "[(1, 2), (1, 2), (1, 2)]"
      ]
     },
     "execution_count": 7,
     "metadata": {},
     "output_type": "execute_result"
    }
   ],
   "source": [
    "list(zip([1, 1, 1], [2, 2, 2, 2, 2, 2]))"
   ]
  },
  {
   "cell_type": "code",
   "execution_count": 29,
   "metadata": {},
   "outputs": [
    {
     "name": "stdout",
     "output_type": "stream",
     "text": [
      "[Value(data=0.9838192531032981), Value(data=-0.931340572806225), Value(data=-0.9969569883702587), Value(data=0.23189142217997993), Value(data=0.6029212557754449), Value(data=-0.8656400876851735), Value(data=0.17775337094620358), Value(data=0.35407001416863615), Value(data=-0.23229497632339036), Value(data=0.8715553815831691), Value(data=-0.903245360559783), Value(data=-0.2902702454626491), Value(data=-0.8735020896501309), Value(data=-0.28063278206406683), Value(data=0.23918692241595618), Value(data=0.5211444392551474), Value(data=-0.35149745253623443), Value(data=-0.4080297224234557), Value(data=-0.6283046085134971), Value(data=-0.8204908568357905), Value(data=-0.8723855986967566), Value(data=-0.7229555322173162), Value(data=0.848427175040996), Value(data=0.5467077419056596), Value(data=0.9965679763987714), Value(data=-0.4290884998450075), Value(data=-0.24511253993912963), Value(data=0.9677167272576628), Value(data=-0.4577655587655318), Value(data=0.30292444155097953), Value(data=-0.3052349888966761)]\n"
     ]
    }
   ],
   "source": [
    "# nn.init.zeros_(hiddenLayer.weight)\n",
    "from mygrad import Neuron\n",
    "# s1 = Sigmoid()\n",
    "neuron1 = Neuron(2, activation='sigmoid')\n",
    "neuron2 = Neuron(2, activation='sigmoid')\n",
    "neuron3 = Neuron(2, activation='sigmoid')\n",
    "neuron4 = Neuron(2, activation='sigmoid')\n",
    "neuron5 = Neuron(2, activation='sigmoid')\n",
    "\n",
    "outputLayer = Layer(15, 1, activation='sigmoid')\n",
    "# nn.init.zeros_(outputLayer.weight)\n",
    "\n",
    "# s2 = Sigmoid()\n",
    "\n",
    "# parameters = [list(hiddenLayer.parameters())[0]]\n",
    "# parameters.append(list(outputLayer.parameters())[0])\n",
    "parameters =  outputLayer.parameters() + neuron1.parameters() + neuron2.parameters() + neuron3.parameters() + neuron4.parameters() + neuron5.parameters()\n",
    "print(parameters)"
   ]
  },
  {
   "cell_type": "code",
   "execution_count": 30,
   "metadata": {},
   "outputs": [],
   "source": [
    "def predict(x):\n",
    "    x1 = neuron1([x[0], x[-1]])\n",
    "    x2 = neuron2([x[1], x[-2]])\n",
    "    x3 = neuron3([x[2], x[-3]])\n",
    "    x4 = neuron4([x[3], x[-4]])\n",
    "    x5 = neuron5([x[4], x[-5]])\n",
    "    # out2 = hiddenLayer2(x[5:])\n",
    "    # out = [out1] + [out2]\n",
    "    # x = s1(x)\n",
    "    # print(x)\n",
    "    final = outputLayer([x1, x2, x3, x4, x5] + x)\n",
    "    # x = s2(x)\n",
    "    return final"
   ]
  },
  {
   "cell_type": "code",
   "execution_count": 31,
   "metadata": {},
   "outputs": [],
   "source": [
    "from sklearn.metrics import accuracy_score\n",
    "def getAccuracy(X, Y):\n",
    "    predicted = [1 if predict(x).data > 0.5 else 0 for x in X ]\n",
    "    print(predicted)\n",
    "    return accuracy_score(predicted, Y)\n"
   ]
  },
  {
   "cell_type": "code",
   "execution_count": 32,
   "metadata": {},
   "outputs": [],
   "source": [
    "losss = []\n"
   ]
  },
  {
   "cell_type": "code",
   "execution_count": 36,
   "metadata": {},
   "outputs": [
    {
     "name": "stdout",
     "output_type": "stream",
     "text": [
      "Value(data=0.3286278694081032) 0\n",
      "Value(data=0.32851463514672463) 1\n",
      "Value(data=0.32840097168599186) 2\n",
      "Value(data=0.3282868783365056) 3\n",
      "Value(data=0.32817235446004406) 4\n",
      "Value(data=0.3280573994696619) 5\n",
      "Value(data=0.327942012829776) 6\n",
      "Value(data=0.3278261940562533) 7\n",
      "Value(data=0.3277099427164828) 8\n",
      "Value(data=0.3275932584294486) 9\n",
      "Value(data=0.3274761408657897) 10\n",
      "Value(data=0.32735858974785287) 11\n",
      "Value(data=0.3272406048497444) 12\n",
      "Value(data=0.3271221859973643) 13\n",
      "Value(data=0.32700333306843926) 14\n",
      "Value(data=0.3268840459925456) 15\n",
      "Value(data=0.3267643247511299) 16\n",
      "Value(data=0.3266441693775098) 17\n",
      "Value(data=0.32652357995687364) 18\n",
      "Value(data=0.3264025566262787) 19\n",
      "Value(data=0.3262810995746216) 20\n",
      "Value(data=0.3261592090426287) 21\n",
      "Value(data=0.3260368853228075) 22\n",
      "Value(data=0.32591412875941156) 23\n",
      "Value(data=0.325790939748389) 24\n",
      "Value(data=0.3256673187373178) 25\n",
      "Value(data=0.3255432662253428) 26\n",
      "Value(data=0.3254187827630958) 27\n",
      "Value(data=0.32529386895260853) 28\n",
      "Value(data=0.3251685254472182) 29\n",
      "Value(data=0.32504275295146573) 30\n",
      "Value(data=0.3249165522209782) 31\n",
      "Value(data=0.32478992406235346) 32\n",
      "Value(data=0.32466286933302246) 33\n",
      "Value(data=0.32453538894111356) 34\n",
      "Value(data=0.3244074838453046) 35\n",
      "Value(data=0.3242791550546635) 36\n",
      "Value(data=0.324150403628479) 37\n",
      "Value(data=0.32402123067609334) 38\n",
      "Value(data=0.32389163735670434) 39\n",
      "Value(data=0.3237616248791857) 40\n",
      "Value(data=0.32363119450187483) 41\n",
      "Value(data=0.3235003475323665) 42\n",
      "Value(data=0.3233690853272874) 43\n",
      "Value(data=0.32323740929207195) 44\n",
      "Value(data=0.3231053208807201) 45\n",
      "Value(data=0.3229728215955498) 46\n",
      "Value(data=0.3228399129869466) 47\n",
      "Value(data=0.3227065966530931) 48\n",
      "Value(data=0.3225728742396971) 49\n",
      "Value(data=0.3224387474397076) 50\n",
      "Value(data=0.3223042179930299) 51\n",
      "Value(data=0.3221692876862192) 52\n",
      "Value(data=0.322033958352178) 53\n",
      "Value(data=0.3218982318698354) 54\n",
      "Value(data=0.32176211016382517) 55\n",
      "Value(data=0.3216255952041526) 56\n",
      "Value(data=0.32148868900585176) 57\n",
      "Value(data=0.321351393628636) 58\n",
      "Value(data=0.3212137111765429) 59\n",
      "Value(data=0.3210756437975644) 60\n",
      "Value(data=0.3209371936832793) 61\n",
      "Value(data=0.32079836306846365) 62\n",
      "Value(data=0.3206591542307097) 63\n",
      "Value(data=0.3205195694900227) 64\n",
      "Value(data=0.32037961120842273) 65\n",
      "Value(data=0.3202392817895272) 66\n",
      "Value(data=0.3200985836781352) 67\n",
      "Value(data=0.3199575193597996) 68\n",
      "Value(data=0.3198160913603928) 69\n",
      "Value(data=0.31967430224566895) 70\n",
      "Value(data=0.3195321546208147) 71\n",
      "Value(data=0.31938965112999446) 72\n",
      "Value(data=0.31924679445588744) 73\n",
      "Value(data=0.3191035873192281) 74\n",
      "Value(data=0.31896003247832233) 75\n",
      "Value(data=0.31881613272857295) 76\n",
      "Value(data=0.3186718909019921) 77\n",
      "Value(data=0.31852730986670846) 78\n",
      "Value(data=0.31838239252646894) 79\n",
      "Value(data=0.31823714182013474) 80\n",
      "Value(data=0.31809156072117184) 81\n",
      "Value(data=0.31794565223713445) 82\n",
      "Value(data=0.3177994194091452) 83\n",
      "Value(data=0.31765286531137066) 84\n",
      "Value(data=0.31750599305048577) 85\n",
      "Value(data=0.3173588057651465) 86\n",
      "Value(data=0.31721130662543956) 87\n",
      "Value(data=0.31706349883234386) 88\n",
      "Value(data=0.31691538561717675) 89\n",
      "Value(data=0.31676697024104433) 90\n",
      "Value(data=0.3166182559942799) 91\n",
      "Value(data=0.31646924619588185) 92\n",
      "Value(data=0.31631994419295006) 93\n",
      "Value(data=0.31617035336011445) 94\n",
      "Value(data=0.316020477098961) 95\n",
      "Value(data=0.3158703188374589) 96\n",
      "Value(data=0.3157198820293766) 97\n",
      "Value(data=0.31556917015370095) 98\n",
      "Value(data=0.3154181867140518) 99\n",
      "Value(data=0.31526693523809457) 100\n",
      "Value(data=0.31511541927694514) 101\n",
      "Value(data=0.3149636424045823) 102\n",
      "Value(data=0.3148116082172512) 103\n",
      "Value(data=0.3146593203328609) 104\n",
      "Value(data=0.31450678239039104) 105\n",
      "Value(data=0.31435399804928915) 106\n",
      "Value(data=0.31420097098886507) 107\n",
      "Value(data=0.314047704907694) 108\n",
      "Value(data=0.31389420352300107) 109\n",
      "Value(data=0.313740470570068) 110\n",
      "Value(data=0.31358650980161595) 111\n",
      "Value(data=0.3134323249872021) 112\n",
      "Value(data=0.3132779199126124) 113\n",
      "Value(data=0.3131232983792507) 114\n",
      "Value(data=0.31296846420353436) 115\n",
      "Value(data=0.3128134212162778) 116\n",
      "Value(data=0.312658173262094) 117\n",
      "Value(data=0.3125027241987789) 118\n",
      "Value(data=0.3123470778967098) 119\n",
      "Value(data=0.3121912382382297) 120\n",
      "Value(data=0.3120352091170545) 121\n",
      "Value(data=0.3118789944376529) 122\n",
      "Value(data=0.31172259811465547) 123\n",
      "Value(data=0.311566024072245) 124\n",
      "Value(data=0.3114092762435538) 125\n",
      "Value(data=0.3112523585700711) 126\n",
      "Value(data=0.3110952750010398) 127\n",
      "Value(data=0.3109380294928623) 128\n",
      "Value(data=0.31078062600850836) 129\n",
      "Value(data=0.3106230685169209) 130\n",
      "Value(data=0.3104653609924293) 131\n",
      "Value(data=0.31030750741415963) 132\n",
      "Value(data=0.31014951176545597) 133\n",
      "Value(data=0.3099913780332959) 134\n",
      "Value(data=0.3098331102077117) 135\n",
      "Value(data=0.3096747122812187) 136\n",
      "Value(data=0.30951618824824106) 137\n",
      "Value(data=0.3093575421045452) 138\n",
      "Value(data=0.30919877784667393) 139\n",
      "Value(data=0.30903989947138627) 140\n",
      "Value(data=0.3088809109750985) 141\n",
      "Value(data=0.30872181635333484) 142\n",
      "Value(data=0.3085626196001732) 143\n",
      "Value(data=0.30840332470770204) 144\n",
      "Value(data=0.30824393566548286) 145\n",
      "Value(data=0.30808445646000765) 146\n",
      "Value(data=0.30792489107416987) 147\n",
      "Value(data=0.30776524348674184) 148\n",
      "Value(data=0.3076055176718435) 149\n",
      "Value(data=0.30744571759843015) 150\n",
      "Value(data=0.3072858472297788) 151\n",
      "Value(data=0.3071259105229816) 152\n",
      "Value(data=0.3069659114284372) 153\n",
      "Value(data=0.3068058538893645) 154\n",
      "Value(data=0.3066457418413003) 155\n",
      "Value(data=0.3064855792116176) 156\n",
      "Value(data=0.3063253699190444) 157\n",
      "Value(data=0.30616511787318623) 158\n",
      "Value(data=0.3060048269740595) 159\n",
      "Value(data=0.3058445011116258) 160\n",
      "Value(data=0.3056841441653313) 161\n",
      "Value(data=0.305523760003661) 162\n",
      "Value(data=0.3053633524836856) 163\n",
      "Value(data=0.30520292545062294) 164\n",
      "Value(data=0.30504248273740897) 165\n",
      "Value(data=0.3048820281642619) 166\n",
      "Value(data=0.30472156553826807) 167\n",
      "Value(data=0.3045610986529586) 168\n",
      "Value(data=0.30440063128790956) 169\n",
      "Value(data=0.30424016720832786) 170\n",
      "Value(data=0.3040797101646663) 171\n",
      "Value(data=0.3039192638922264) 172\n",
      "Value(data=0.30375883211077787) 173\n",
      "Value(data=0.3035984185241812) 174\n",
      "Value(data=0.30343802682001486) 175\n",
      "Value(data=0.3032776606692182) 176\n",
      "Value(data=0.3031173237257273) 177\n",
      "Value(data=0.3029570196261285) 178\n",
      "Value(data=0.30279675198931505) 179\n",
      "Value(data=0.3026365244161465) 180\n",
      "Value(data=0.30247634048912525) 181\n",
      "Value(data=0.3023162037720634) 182\n",
      "Value(data=0.30215611780977614) 183\n",
      "Value(data=0.30199608612776424) 184\n",
      "Value(data=0.30183611223191575) 185\n",
      "Value(data=0.30167619960820685) 186\n",
      "Value(data=0.3015163517224105) 187\n",
      "Value(data=0.30135657201981964) 188\n",
      "Value(data=0.30119686392496525) 189\n",
      "Value(data=0.301037230841349) 190\n",
      "Value(data=0.30087767615117983) 191\n",
      "Value(data=0.30071820321512194) 192\n",
      "Value(data=0.3005588153720401) 193\n",
      "Value(data=0.30039951593876024) 194\n",
      "Value(data=0.3002403082098335) 195\n",
      "Value(data=0.30008119545730505) 196\n",
      "Value(data=0.29992218093049694) 197\n",
      "Value(data=0.29976326785578594) 198\n",
      "Value(data=0.29960445943639846) 199\n",
      "Value(data=0.29944575885220737) 200\n",
      "Value(data=0.29928716925953386) 201\n",
      "Value(data=0.29912869379096013) 202\n",
      "Value(data=0.2989703355551473) 203\n",
      "Value(data=0.2988120976366533) 204\n",
      "Value(data=0.2986539830957708) 205\n",
      "Value(data=0.29849599496835677) 206\n",
      "Value(data=0.29833813626567884) 207\n",
      "Value(data=0.29818040997425876) 208\n",
      "Value(data=0.29802281905573724) 209\n",
      "Value(data=0.29786536644672407) 210\n",
      "Value(data=0.2977080550586725) 211\n",
      "Value(data=0.2975508877777519) 212\n",
      "Value(data=0.2973938674647261) 213\n",
      "Value(data=0.29723699695483674) 214\n",
      "Value(data=0.29708027905769874) 215\n",
      "Value(data=0.2969237165571978) 216\n",
      "Value(data=0.2967673122113888) 217\n",
      "Value(data=0.2966110687524087) 218\n",
      "Value(data=0.2964549888863909) 219\n",
      "Value(data=0.2962990752933856) 220\n",
      "Value(data=0.29614333062728493) 221\n",
      "Value(data=0.29598775751575396) 222\n",
      "Value(data=0.2958323585601704) 223\n",
      "Value(data=0.2956771363355637) 224\n",
      "Value(data=0.29552209339056457) 225\n",
      "Value(data=0.2953672322473601) 226\n",
      "Value(data=0.2952125554016473) 227\n",
      "Value(data=0.29505806532260065) 228\n",
      "Value(data=0.2949037644528407) 229\n",
      "Value(data=0.2947496552084026) 230\n",
      "Value(data=0.2945957399787228) 231\n",
      "Value(data=0.29444202112661577) 232\n",
      "Value(data=0.2942885009882644) 233\n",
      "Value(data=0.2941351818732149) 234\n",
      "Value(data=0.29398206606437416) 235\n",
      "Value(data=0.29382915581800917) 236\n",
      "Value(data=0.2936764533637564) 237\n",
      "Value(data=0.2935239609046341) 238\n",
      "Value(data=0.29337168061705593) 239\n",
      "Value(data=0.2932196146508528) 240\n",
      "Value(data=0.29306776512929805) 241\n",
      "Value(data=0.2929161341491305) 242\n",
      "Value(data=0.2927647237805984) 243\n",
      "Value(data=0.2926135360674832) 244\n",
      "Value(data=0.29246257302715134) 245\n",
      "Value(data=0.2923118366505918) 246\n",
      "Value(data=0.2921613289024697) 247\n",
      "Value(data=0.2920110517211735) 248\n",
      "Value(data=0.2918610070188779) 249\n",
      "Value(data=0.2917111966815957) 250\n",
      "Value(data=0.2915616225692466) 251\n",
      "Value(data=0.29141228651572554) 252\n",
      "Value(data=0.2912631903289643) 253\n",
      "Value(data=0.291114335791016) 254\n",
      "Value(data=0.2909657246581232) 255\n",
      "Value(data=0.29081735866080266) 256\n",
      "Value(data=0.2906692395039255) 257\n",
      "Value(data=0.2905213688668078) 258\n",
      "Value(data=0.29037374840329583) 259\n",
      "Value(data=0.2902263797418584) 260\n",
      "Value(data=0.2900792644856853) 261\n",
      "Value(data=0.2899324042127816) 262\n",
      "Value(data=0.28978580047606833) 263\n",
      "Value(data=0.28963945480349046) 264\n",
      "Value(data=0.2894933686981147) 265\n",
      "Value(data=0.28934754363824655) 266\n",
      "Value(data=0.2892019810775328) 267\n",
      "Value(data=0.2890566824450815) 268\n",
      "Value(data=0.28891164914557443) 269\n",
      "Value(data=0.28876688255938526) 270\n",
      "Value(data=0.28862238404269597) 271\n",
      "Value(data=0.2884781549276291) 272\n",
      "Value(data=0.2883341965223596) 273\n",
      "Value(data=0.28819051011125113) 274\n",
      "Value(data=0.2880470969549748) 275\n",
      "Value(data=0.2879039582906499) 276\n",
      "Value(data=0.28776109533196687) 277\n",
      "Value(data=0.2876185092693251) 278\n",
      "Value(data=0.2874762012699684) 279\n",
      "Value(data=0.28733417247812015) 280\n",
      "Value(data=0.2871924240151237) 281\n",
      "Value(data=0.2870509569795825) 282\n",
      "Value(data=0.2869097724474995) 283\n",
      "Value(data=0.2867688714724244) 284\n",
      "Value(data=0.2866282550855928) 285\n",
      "Value(data=0.28648792429607645) 286\n",
      "Value(data=0.2863478800909282) 287\n",
      "Value(data=0.28620812343533075) 288\n",
      "Value(data=0.2860686552727473) 289\n",
      "Value(data=0.2859294765250688) 290\n",
      "Value(data=0.28579058809276886) 291\n",
      "Value(data=0.2856519908550539) 292\n",
      "Value(data=0.2855136856700195) 293\n",
      "Value(data=0.2853756733748014) 294\n",
      "Value(data=0.2852379547857332) 295\n",
      "Value(data=0.2851005306985042) 296\n",
      "Value(data=0.284963401888311) 297\n",
      "Value(data=0.28482656911001725) 298\n",
      "Value(data=0.2846900330983179) 299\n",
      "Value(data=0.284553794567887) 300\n",
      "Value(data=0.2844178542135484) 301\n",
      "Value(data=0.2842822127104265) 302\n",
      "Value(data=0.2841468707141145) 303\n",
      "Value(data=0.2840118288608286) 304\n",
      "Value(data=0.28387708776757503) 305\n",
      "Value(data=0.2837426480323092) 306\n",
      "Value(data=0.28360851023409717) 307\n",
      "Value(data=0.28347467493328) 308\n",
      "Value(data=0.2833411426716367) 309\n",
      "Value(data=0.2832079139725431) 310\n",
      "Value(data=0.2830749893411422) 311\n",
      "Value(data=0.2829423692644996) 312\n",
      "Value(data=0.28281005421177186) 313\n",
      "Value(data=0.28267804463436824) 314\n",
      "Value(data=0.28254634096611697) 315\n",
      "Value(data=0.28241494362342334) 316\n",
      "Value(data=0.28228385300543896) 317\n",
      "Value(data=0.2821530694942212) 318\n",
      "Value(data=0.2820225934549004) 319\n",
      "Value(data=0.2818924252358373) 320\n",
      "Value(data=0.281762565168794) 321\n",
      "Value(data=0.281633013569089) 322\n",
      "Value(data=0.2815037707357675) 323\n",
      "Value(data=0.28137483695175747) 324\n",
      "Value(data=0.28124621248403714) 325\n",
      "Value(data=0.28111789758379263) 326\n",
      "Value(data=0.28098989248658346) 327\n",
      "Value(data=0.2808621974125013) 328\n",
      "Value(data=0.2807348125663331) 329\n",
      "Value(data=0.2806077381377201) 330\n",
      "Value(data=0.28048097430132063) 331\n",
      "Value(data=0.2803545212169633) 332\n",
      "Value(data=0.2802283790298175) 333\n",
      "Value(data=0.2801025478705419) 334\n",
      "Value(data=0.2799770278554495) 335\n",
      "Value(data=0.2798518190866624) 336\n",
      "Value(data=0.279726921652268) 337\n",
      "Value(data=0.2796023356264816) 338\n",
      "Value(data=0.27947806106979617) 339\n",
      "Value(data=0.27935409802914285) 340\n",
      "Value(data=0.27923044653804263) 341\n",
      "Value(data=0.27910710661676325) 342\n",
      "Value(data=0.2789840782724724) 343\n",
      "Value(data=0.2788613614993885) 344\n",
      "Value(data=0.27873895627893835) 345\n",
      "Value(data=0.278616862579904) 346\n",
      "Value(data=0.2784950803585775) 347\n",
      "Value(data=0.2783736095589067) 348\n",
      "Value(data=0.2782524501126512) 349\n",
      "Value(data=0.278131601939526) 350\n",
      "Value(data=0.2780110649473522) 351\n",
      "Value(data=0.2778908390322052) 352\n",
      "Value(data=0.27777092407855686) 353\n",
      "Value(data=0.27765131995942766) 354\n",
      "Value(data=0.2775320265365275) 355\n",
      "Value(data=0.27741304366039987) 356\n",
      "Value(data=0.2772943711705682) 357\n",
      "Value(data=0.27717600889567573) 358\n",
      "Value(data=0.277057956653628) 359\n",
      "Value(data=0.2769402142517323) 360\n",
      "Value(data=0.2768227814868445) 361\n",
      "Value(data=0.27670565814549747) 362\n",
      "Value(data=0.27658884400404615) 363\n",
      "Value(data=0.27647233882880445) 364\n",
      "Value(data=0.27635614237618056) 365\n",
      "Value(data=0.2762402543928124) 366\n",
      "Value(data=0.2761246746157027) 367\n",
      "Value(data=0.27600940277235264) 368\n",
      "Value(data=0.2758944385808966) 369\n",
      "Value(data=0.2757797817502275) 370\n",
      "Value(data=0.2756654319801397) 371\n",
      "Value(data=0.2755513889614443) 372\n",
      "Value(data=0.2754376523761115) 373\n",
      "Value(data=0.27532422189739086) 374\n",
      "Value(data=0.2752110971899393) 375\n",
      "Value(data=0.2750982779099534) 376\n",
      "Value(data=0.27498576370528566) 377\n",
      "Value(data=0.2748735542155747) 378\n",
      "Value(data=0.27476164907236883) 379\n",
      "Value(data=0.2746500478992451) 380\n",
      "Value(data=0.2745387503119345) 381\n",
      "Value(data=0.27442775591843854) 382\n",
      "Value(data=0.2743170643191532) 383\n",
      "Value(data=0.27420667510698393) 384\n",
      "Value(data=0.2740965878674646) 385\n",
      "Value(data=0.27398680217887533) 386\n",
      "Value(data=0.27387731761235595) 387\n",
      "Value(data=0.27376813373201997) 388\n",
      "Value(data=0.2736592500950736) 389\n",
      "Value(data=0.27355066625192204) 390\n",
      "Value(data=0.273442381746286) 391\n",
      "Value(data=0.2733343961153103) 392\n",
      "Value(data=0.27322670888967143) 393\n",
      "Value(data=0.2731193195936937) 394\n",
      "Value(data=0.2730122277454475) 395\n",
      "Value(data=0.27290543285686564) 396\n",
      "Value(data=0.2727989344338419) 397\n",
      "Value(data=0.2726927319763384) 398\n",
      "Value(data=0.27258682497849385) 399\n",
      "[0, 1, 0, 1, 1, 0, 1, 1, 0, 1, 1, 1, 1, 1, 0, 1, 1, 1, 1, 1, 0, 0, 1, 1, 0, 0, 1, 1, 1, 1, 1, 0, 0, 0, 1, 0, 1, 1, 0, 1, 1, 0, 0, 0, 1, 0, 1, 1, 1, 1, 0, 0, 0, 1, 1, 0, 1, 1, 0, 1, 0, 0, 1, 0, 1, 1, 0, 1, 0, 0, 0, 1, 0, 1, 0, 0, 1, 0, 1, 1, 1, 0, 0, 0, 1, 1, 1, 0, 1, 0, 0, 0, 0, 1, 1, 1, 0, 0, 1, 0, 1, 0, 1, 1, 1, 0, 0, 1, 1, 1, 0, 0, 0, 1, 0, 1, 0, 1, 1, 1, 0, 1, 1, 1, 0, 1, 1, 1, 1, 1, 1, 1, 1, 0, 1, 1, 1, 1, 1, 1, 1, 1, 1, 1, 1, 0, 1, 0, 1, 0, 1, 1, 0, 1, 1, 1, 1, 1, 0, 1, 1, 1, 1, 0, 1, 0, 1, 0, 0, 0, 0, 1, 1, 1, 0, 0, 1, 0, 1, 0, 1, 1, 1, 0, 0, 1, 1, 1, 1, 1, 1, 0, 1, 1, 1, 0, 0, 1, 1, 1, 0, 0, 1, 1, 1]\n",
      "[1, 0, 0, 1, 1, 0, 1, 1, 1, 1, 1, 1, 1, 0, 1, 0, 1, 1, 0, 0, 1, 1, 1, 0, 0, 1, 0, 1, 0, 0, 0, 1, 1, 0, 1, 1, 1, 1, 1, 0, 1, 1, 1, 0, 1, 1, 1, 1, 0, 0, 0, 1, 1, 1, 0, 1, 0, 1, 1, 1, 1, 1, 1, 0, 1, 0, 0, 0, 1, 1, 1, 0, 1, 1, 1, 1, 0, 1, 1, 0, 0, 1, 0, 1, 1, 1, 0, 1, 0, 1, 1, 0, 0, 0, 1, 0, 1, 0, 0, 1, 0, 0, 1, 1, 1, 1, 0, 1, 1, 1, 0, 0, 1, 0, 1, 0, 1, 1, 0, 1, 1, 0, 0, 1, 1, 1, 0, 1, 1, 1, 1, 0, 1, 1, 1, 1, 1, 1, 1, 1, 1, 1, 0, 1, 1, 0, 1, 1, 1, 1, 1, 1, 1, 1, 0, 1, 0, 0, 1, 0, 1, 0, 1, 0, 0, 1, 1, 1, 1, 1, 0, 1, 0, 1, 1, 1, 0, 1, 1, 1, 0, 0, 1, 0, 1, 1, 1, 1, 0, 1, 0, 0, 1, 1, 1, 1, 0, 1, 1, 0, 0, 1, 1, 0, 0, 1, 1, 1, 1, 0, 1, 1, 1, 1, 1, 1, 1, 1, 1, 1, 0, 1, 1, 0, 0, 1, 1, 0, 1, 0, 0, 1, 0, 1, 0, 1, 0, 0, 1, 0, 0, 1, 1, 1, 1, 1, 0, 1, 1, 0, 1, 0, 1, 0, 0, 0, 1, 1, 0, 0, 1, 1, 0, 1, 0, 0, 1, 1, 1, 1, 1, 1, 1, 1, 0, 1, 1, 1, 1, 1, 0, 1, 1, 1, 0, 1, 0, 0, 1, 1, 0, 0, 1, 0, 1, 1, 1, 0, 0, 0, 0, 1, 0, 1, 0, 1, 1, 1, 0, 1, 0, 0, 1, 1, 0, 1, 1, 0, 1, 1, 1, 1, 1, 1, 1, 0, 1, 1, 1, 1, 1, 1, 0, 1, 0, 1, 1, 1, 0, 0, 0, 1, 0, 1, 1, 1, 0, 1, 0, 1, 1, 1, 1, 0, 1, 1, 1, 1, 1, 1, 1, 0, 1, 1, 1, 1, 1, 1, 0, 0, 1, 1, 1, 0, 0, 1, 1, 1, 0, 1, 1, 0, 1, 0, 0, 0, 1, 1, 0, 0, 0, 1, 0, 1, 1, 0, 1, 0, 0, 0, 1, 0, 0, 0, 1, 1, 1, 1, 1, 1, 0, 1, 1, 1, 1, 1, 1, 0, 1, 1, 1, 1, 0, 0, 0, 1, 0, 1, 0, 1, 1, 0, 0, 1, 0, 1, 1, 1, 1, 0, 1, 1, 0, 1, 1, 0, 0, 1, 1, 1, 0, 0, 1, 1, 0, 1, 1, 1, 0, 0, 1, 0, 1, 1, 0, 1, 1, 0, 0, 1, 0, 1, 1, 0, 1, 1, 1, 0, 1, 0, 0, 1, 1, 1, 0, 1, 0, 1, 1, 1, 0, 1, 1, 1, 1, 1, 1, 1, 1, 1, 1, 0, 1, 1, 1, 1, 1, 1, 1, 0, 1, 0, 1, 0, 0, 0, 1, 1, 1, 1, 1, 0, 0, 1, 1, 0, 0, 1, 1, 1, 1, 0, 0, 1, 0, 1, 1, 1, 0, 1, 1, 0, 1, 1, 1, 0, 1, 0, 0, 0, 1, 1, 1, 1, 0, 1, 1, 1, 0, 0, 0, 0, 0, 1, 0, 1, 0, 0, 0, 0, 1, 1, 1, 0, 1, 1, 1, 0, 0, 0, 0, 1, 0, 1, 1, 1, 1, 1, 1, 1, 1, 1, 1, 0, 1, 0, 1, 1, 1, 1, 0, 0, 1, 0, 1, 0, 0, 1, 0, 1, 1, 0, 1, 1, 1, 0, 1, 0, 0, 0, 0, 0, 1, 0, 1, 1, 0, 1, 0, 0, 0, 1, 1, 1, 1, 1, 0, 1, 0, 1, 0, 0, 0, 0, 1, 0, 1, 0, 0, 1, 1, 1, 0, 1, 1, 1, 0, 1, 1, 1, 0, 1, 0, 0, 1, 0, 0, 1, 0, 1, 1, 1, 0, 0, 1, 1, 0, 1, 1, 1, 1, 1, 0, 1, 1, 1, 1, 0, 1, 1, 1, 1, 1, 1, 1, 0, 0, 1, 0, 1, 1, 1, 0, 1, 1, 1, 0, 1, 1, 0, 0, 1, 1, 1, 0, 1, 0, 1, 1, 1, 0, 1, 1, 1, 1, 1, 1, 1, 0, 0, 1, 0, 0, 0, 1, 0, 0, 0, 0, 1, 1, 1, 0, 1, 1, 1, 1, 0, 0, 1, 0, 0, 1, 0, 1, 1, 0, 1, 1, 0, 0, 1, 0, 0, 0, 0, 0, 1, 1, 1, 0, 1, 1, 1, 1, 1, 1, 0, 0, 1, 1, 1, 1, 1, 1, 1, 1, 1, 1, 1, 0, 1, 0, 0, 0, 0, 1, 1, 1, 0, 1, 1, 1, 1, 0, 1, 1, 0, 0, 1, 1, 1, 1, 0, 0, 0, 0, 0, 0]\n",
      "test 0.8634146341463415 train 0.8791208791208791\n"
     ]
    }
   ],
   "source": [
    "lr = 1\n",
    "epochs = 400\n",
    "\n",
    "for _ in range(epochs):\n",
    "    Y_pred = [predict(x) for x in Xtrain]\n",
    "    # print(Y_pred)\n",
    "    loss = Value(0)\n",
    "    for i in range(len(Ytrain)):\n",
    "        if Ytrain[i] == 1:\n",
    "            # print('ssd')\n",
    "            loss -= Y_pred[i].log()\n",
    "        else:\n",
    "            # print('sds')\n",
    "            loss -= (Value(1) - Y_pred[i]).log()\n",
    "    loss = loss/len(X)\n",
    "    loss.backward()\n",
    "\n",
    "    for p in parameters:\n",
    "        p.data -= lr*p.grad\n",
    "\n",
    "    for p in parameters:\n",
    "        p.grad = 0\n",
    "    losss.append(loss.data)\n",
    "    print(loss, _)\n",
    "print( 'test', getAccuracy(Xtest, Ytest),'train', getAccuracy(Xtrain, Ytrain))"
   ]
  },
  {
   "cell_type": "code",
   "execution_count": 34,
   "metadata": {},
   "outputs": [
    {
     "data": {
      "image/png": "[encoded data removed]",
      "text/plain": [
       "<Figure size 640x480 with 1 Axes>"
      ]
     },
     "metadata": {},
     "output_type": "display_data"
    }
   ],
   "source": [
    "import matplotlib.pyplot as plt\n",
    "\n",
    "plt.plot(losss)\n",
    "plt.xlabel('Epochs')\n",
    "plt.ylabel('Loss')\n",
    "plt.title('Loss over Epochs')\n",
    "plt.show()\n"
   ]
  },
  {
   "cell_type": "code",
   "execution_count": 35,
   "metadata": {},
   "outputs": [
    {
     "data": {
      "image/png": "[encoded data removed]",
      "text/plain": [
       "<Figure size 640x480 with 2 Axes>"
      ]
     },
     "metadata": {},
     "output_type": "display_data"
    },
    {
     "data": {
      "text/plain": [
       "Text(0, 0.5, 'neuron number')"
      ]
     },
     "execution_count": 35,
     "metadata": {},
     "output_type": "execute_result"
    },
    {
     "data": {
      "image/png": "[encoded data removed]",
      "text/plain": [
       "<Figure size 640x480 with 2 Axes>"
      ]
     },
     "metadata": {},
     "output_type": "display_data"
    }
   ],
   "source": [
    "neuron1weightsbias = [v.data for v in neuron2.w] + [neuron2.b.data]\n",
    "outputneuronweightsbias = [v.data for v in outputLayer.neurons[0].w] + [outputLayer.neurons[0].b.data]\n",
    "import matplotlib.pyplot as plt\n",
    "\n",
    "plt.imshow([neuron1weightsbias], cmap='hot')\n",
    "plt.colorbar()\n",
    "plt.title('Heatmap of Neurons in hidden Layer')\n",
    "plt.xlabel('neuron number')\n",
    "plt.ylabel('neuron number')\n",
    "plt.show()\n",
    "\n",
    "plt.imshow([outputneuronweightsbias], cmap='hot')\n",
    "plt.colorbar()\n",
    "plt.title('Heatmap of Neurons in Output Layer')\n",
    "plt.xlabel('neuron number')\n",
    "plt.ylabel('neuron number')\n"
   ]
  },
  {
   "cell_type": "code",
   "execution_count": 31,
   "metadata": {},
   "outputs": [
    {
     "data": {
      "image/png": "[encoded data removed]",
      "text/plain": [
       "<Figure size 640x480 with 1 Axes>"
      ]
     },
     "metadata": {},
     "output_type": "display_data"
    }
   ],
   "source": [
    "plt.bar(range(len(neuron1weightsbias)), neuron1weightsbias)\n",
    "plt.xlabel('Neuron Number')\n",
    "plt.ylabel('Weight')\n",
    "plt.title('Neuron 1 Weights')\n",
    "plt.show()\n"
   ]
  },
  {
   "cell_type": "code",
   "execution_count": 32,
   "metadata": {},
   "outputs": [],
   "source": [
    "import pickle as pkl \n",
    "\n",
    "with open('parameters/neuron1weightsbias2.pckl', 'wb') as file:\n",
    "    pkl.dump(neuron1weightsbias, file)\n",
    "with open('parameters/outputneuronweightsbias2.pckl', 'wb') as file:\n",
    "    pkl.dump(outputneuronweightsbias, file)"
   ]
  },
  {
   "cell_type": "code",
   "execution_count": 9,
   "metadata": {},
   "outputs": [],
   "source": [
    "# Load model\n",
    "\n",
    "def loadModel():\n",
    "    neuron1weightsbias, outputneuronweightsbias = [], []\n",
    "    with open(f'parameters/neuron1weightsbias2.pckl', 'rb') as file:\n",
    "        neuron1weightsbias = pickle.load(file)\n",
    "    with open('parameters/outputneuronweightsbias2.pckl', 'rb') as file:\n",
    "        outputneuronweightsbias = pickle.load(file)\n",
    "    hiddenLayer1_ = Layer(10, 1)\n",
    "    outputLayer_ = Layer(11, 1)\n",
    "\n",
    "    hiddenLayer1_.neurons[0].w = [Value(i) for i in neuron1weightsbias[:-1]]\n",
    "    hiddenLayer1_.neurons[0].b = Value(neuron1weightsbias[-1])\n",
    "\n",
    "    outputLayer_.neurons[0].w = [Value(i) for i in outputneuronweightsbias[:-1]]\n",
    "    outputLayer_.neurons[0].b = Value(outputneuronweightsbias[-1])\n",
    "    return hiddenLayer1_, outputLayer_, neuron1weightsbias, outputneuronweightsbias"
   ]
  },
  {
   "cell_type": "code",
   "execution_count": 10,
   "metadata": {},
   "outputs": [],
   "source": [
    "import pickle as pkl \n",
    "\n",
    "hiddenLayer1, outputLayer, neuron1weightsbias, outputneuronweightsbias = loadModel()"
   ]
  },
  {
   "cell_type": "code",
   "execution_count": 13,
   "metadata": {},
   "outputs": [
    {
     "name": "stdout",
     "output_type": "stream",
     "text": [
      "[0, 0, 0, 1, 1, 0, 1, 1, 0, 1, 0, 1, 1, 1, 0, 1, 1, 1, 1, 1, 0, 0, 1, 1, 0, 0, 1, 0, 1, 1, 1, 0, 0, 0, 1, 0, 1, 1, 0, 1, 1, 0, 0, 0, 0, 0, 1, 0, 1, 1, 0, 0, 0, 0, 1, 0, 1, 1, 0, 1, 0, 0, 1, 0, 1, 1, 0, 1, 0, 0, 1, 0, 0, 1, 0, 0, 0, 0, 1, 0, 1, 0, 0, 0, 1, 1, 1, 0, 1, 0, 0, 0, 0, 1, 0, 1, 0, 0, 1, 0, 1, 0, 0, 1, 1, 0, 0, 1, 1, 1, 0, 0, 0, 1, 0, 0, 0, 1, 1, 0, 0, 1, 1, 1, 1, 0, 1, 1, 1, 1, 1, 1, 1, 0, 1, 1, 0, 1, 1, 1, 1, 1, 1, 1, 1, 0, 1, 0, 1, 0, 1, 1, 0, 0, 1, 1, 1, 1, 0, 1, 1, 1, 1, 0, 1, 0, 1, 1, 0, 0, 0, 1, 1, 1, 0, 0, 1, 0, 1, 0, 1, 1, 1, 0, 0, 1, 1, 1, 1, 1, 0, 0, 1, 1, 1, 0, 1, 1, 1, 0, 0, 0, 0, 1, 1]\n"
     ]
    },
    {
     "data": {
      "text/plain": [
       "0.9365853658536586"
      ]
     },
     "execution_count": 13,
     "metadata": {},
     "output_type": "execute_result"
    }
   ],
   "source": [
    "getAccuracy(Xtest, Ytest)"
   ]
  },
  {
   "cell_type": "code",
   "execution_count": 14,
   "metadata": {},
   "outputs": [
    {
     "data": {
      "text/plain": [
       "[0, 0, 6, 4, -2, 2, -4, -5, 0, 0, -2]"
      ]
     },
     "execution_count": 14,
     "metadata": {},
     "output_type": "execute_result"
    }
   ],
   "source": [
    "[int(i)for i in neuron1weightsbias]"
   ]
  },
  {
   "cell_type": "code",
   "execution_count": 15,
   "metadata": {},
   "outputs": [
    {
     "data": {
      "text/plain": [
       "[-10, 5, 0, 4, 3, -1, 1, -2, -3, 0, -3, 1]"
      ]
     },
     "execution_count": 15,
     "metadata": {},
     "output_type": "execute_result"
    }
   ],
   "source": [
    "[int(i)for i in outputneuronweightsbias]"
   ]
  },
  {
   "cell_type": "code",
   "execution_count": null,
   "metadata": {},
   "outputs": [],
   "source": []
  }
 ],
 "metadata": {
  "kernelspec": {
   "display_name": "Python 3",
   "language": "python",
   "name": "python3"
  },
  "language_info": {
   "codemirror_mode": {
    "name": "ipython",
    "version": 3
   },
   "file_extension": ".py",
   "mimetype": "text/x-python",
   "name": "python",
   "nbconvert_exporter": "python",
   "pygments_lexer": "ipython3",
   "version": "3.11.4"
  }
 },
 "nbformat": 4,
 "nbformat_minor": 2
}
