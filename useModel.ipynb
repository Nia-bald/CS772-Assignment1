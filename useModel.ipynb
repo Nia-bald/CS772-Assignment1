{
 "cells": [
  {
   "cell_type": "code",
   "execution_count": 1,
   "metadata": {},
   "outputs": [],
   "source": [
    "from mygrad import Layer\n",
    "from mygrad import Value\n",
    "import pickle"
   ]
  },
  {
   "cell_type": "code",
   "execution_count": 2,
   "metadata": {},
   "outputs": [],
   "source": [
    "def predict(x):\n",
    "    x1 = hiddenLayer1(x)    \n",
    "    final = outputLayer([x1] + x)\n",
    "    return final"
   ]
  },
  {
   "cell_type": "code",
   "execution_count": 3,
   "metadata": {},
   "outputs": [],
   "source": [
    "from sklearn.metrics import accuracy_score, precision_score, f1_score, recall_score\n",
    "def getAccuracy(X, Y):\n",
    "    predicted = [1 if predict(x).data > 0.5 else 0 for x in X ]\n",
    "    return accuracy_score(Y, predicted)\n",
    "def getPrecision(X, Y):\n",
    "    predicted = [1 if predict(x).data > 0.5 else 0 for x in X ]\n",
    "    return precision_score(Y, predicted)\n",
    "def getf1(X, Y):\n",
    "    predicted = [1 if predict(x).data > 0.5 else 0 for x in X ]\n",
    "    return f1_score(Y, predicted)\n",
    "def getRecall(X, Y):\n",
    "    predicted = [1 if predict(x).data > 0.5 else 0 for x in X ]\n",
    "    return recall_score(Y, predicted)\n"
   ]
  },
  {
   "cell_type": "code",
   "execution_count": 4,
   "metadata": {},
   "outputs": [],
   "source": [
    "# Load the ideal model\n",
    "\n",
    "def loadModel():\n",
    "    neuron1weightsbias, outputneuronweightsbias = [], []\n",
    "    with open(f'parameters/neuron1weightsbias_fn_reLu_ideal.pckl', 'rb') as file:\n",
    "        neuron1weightsbias = pickle.load(file)\n",
    "    with open('parameters/outputneuronweightsbias_fn_reLu_ideal.pckl', 'rb') as file:\n",
    "        outputneuronweightsbias = pickle.load(file)\n",
    "    hiddenLayer1_ = Layer(10, 1, 'reLu')\n",
    "    outputLayer_ = Layer(11, 1, 'sigmoid')\n",
    "\n",
    "    hiddenLayer1_.neurons[0].w = [Value(i) for i in neuron1weightsbias[:-1]]\n",
    "    hiddenLayer1_.neurons[0].b = Value(neuron1weightsbias[-1])\n",
    "\n",
    "    outputLayer_.neurons[0].w = [Value(i) for i in outputneuronweightsbias[:-1]]\n",
    "    outputLayer_.neurons[0].b = Value(outputneuronweightsbias[-1])\n",
    "    return hiddenLayer1_, outputLayer_, neuron1weightsbias, outputneuronweightsbias"
   ]
  },
  {
   "cell_type": "code",
   "execution_count": 5,
   "metadata": {},
   "outputs": [],
   "source": [
    "hiddenLayer1, outputLayer, neuron1weightsbias, outputneuronweightsbias = loadModel()"
   ]
  },
  {
   "cell_type": "code",
   "execution_count": 6,
   "metadata": {},
   "outputs": [
    {
     "name": "stderr",
     "output_type": "stream",
     "text": [
      "C:\\Users\\Asus\\AppData\\Local\\Temp\\ipykernel_19824\\2894134535.py:3: DeprecationWarning: \n",
      "Pyarrow will become a required dependency of pandas in the next major release of pandas (pandas 3.0),\n",
      "(to allow more performant data types, such as the Arrow string type, and better interoperability with other libraries)\n",
      "but was not found to be installed on your system.\n",
      "If this would cause problems for you,\n",
      "please provide us feedback at https://github.com/pandas-dev/pandas/issues/54466\n",
      "        \n",
      "  data = pickle.load(file)\n"
     ]
    }
   ],
   "source": [
    "import pickle\n",
    "with open('data.pckl', 'rb') as file:\n",
    "    data = pickle.load(file)\n",
    "from sklearn.utils import shuffle\n",
    "data = shuffle(data)\n",
    "X = [list(number) for number in data['number']]\n",
    "Y = [label for label in data['label']]\n",
    "for ix, row in enumerate(X):\n",
    "    X[ix] = [Value(float(item)) for item in row]\n",
    "\n"
   ]
  },
  {
   "cell_type": "code",
   "execution_count": 7,
   "metadata": {},
   "outputs": [
    {
     "data": {
      "text/plain": [
       "Value(data=0.7310585786300049)"
      ]
     },
     "execution_count": 7,
     "metadata": {},
     "output_type": "execute_result"
    }
   ],
   "source": [
    "predict([1, 1, 1, 1, 1, 1, 1, 1, 1, 1])"
   ]
  },
  {
   "cell_type": "code",
   "execution_count": 8,
   "metadata": {},
   "outputs": [
    {
     "name": "stderr",
     "output_type": "stream",
     "text": [
      "d:\\academics\\acads btech\\BAYE BAYE SEMESTER BAYE BAYE BTECH IIT BOMBAY ENGINEERING PHYSICS BEY BEY!!!\\CS 772\\Assignment 1\\mygrad.py:12: RuntimeWarning: overflow encountered in exp\n",
      "  return 1/(1+np.exp(-x))\n"
     ]
    },
    {
     "data": {
      "text/plain": [
       "1.0"
      ]
     },
     "execution_count": 8,
     "metadata": {},
     "output_type": "execute_result"
    }
   ],
   "source": [
    "getAccuracy(X, Y)\n"
   ]
  },
  {
   "cell_type": "code",
   "execution_count": null,
   "metadata": {},
   "outputs": [],
   "source": []
  }
 ],
 "metadata": {
  "kernelspec": {
   "display_name": "Python 3",
   "language": "python",
   "name": "python3"
  },
  "language_info": {
   "codemirror_mode": {
    "name": "ipython",
    "version": 3
   },
   "file_extension": ".py",
   "mimetype": "text/x-python",
   "name": "python",
   "nbconvert_exporter": "python",
   "pygments_lexer": "ipython3",
   "version": "3.12.2"
  }
 },
 "nbformat": 4,
 "nbformat_minor": 2
}
