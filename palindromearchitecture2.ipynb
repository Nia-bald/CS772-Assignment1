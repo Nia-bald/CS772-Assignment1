{
 "cells": [
  {
   "cell_type": "markdown",
   "metadata": {},
   "source": [
    "# Notes to discuss with prof\n",
    "\n",
    "1. since the data is very skewed it won't make sense for us to do cross validation where we randomly choose which data to use for training and which data to use for testing, because if do that after duplicating the low count data then most of the data in testing set will be in training set\n",
    "2. what is the difference between training the network after performing oversampling and just training the network on the same data but more epochs\n",
    "3. can we train the model with just 64 examples but keep the positive class data same and randomly choose rest of 32 negative class data?"
   ]
  },
  {
   "cell_type": "code",
   "execution_count": 8,
   "metadata": {},
   "outputs": [],
   "source": [
    "from mygrad import Layer\n",
    "from mygrad import Value"
   ]
  },
  {
   "cell_type": "code",
   "execution_count": 9,
   "metadata": {},
   "outputs": [],
   "source": [
    "import pickle\n",
    "with open('data.pckl', 'rb') as file:\n",
    "    data = pickle.load(file)"
   ]
  },
  {
   "cell_type": "code",
   "execution_count": 10,
   "metadata": {},
   "outputs": [],
   "source": [
    "from sklearn.utils import shuffle\n",
    "data = shuffle(data)\n",
    "# data = data[:100]"
   ]
  },
  {
   "cell_type": "code",
   "execution_count": 11,
   "metadata": {},
   "outputs": [
    {
     "data": {
      "text/plain": [
       "1024"
      ]
     },
     "execution_count": 11,
     "metadata": {},
     "output_type": "execute_result"
    }
   ],
   "source": [
    "# get the data\n",
    "\n",
    "X = [list(number) for number in data['number']]\n",
    "Y = [label for label in data['label']]\n",
    "\n",
    "len(X)"
   ]
  },
  {
   "cell_type": "code",
   "execution_count": 12,
   "metadata": {},
   "outputs": [],
   "source": [
    "for ix, row in enumerate(X):\n",
    "    X[ix] = [Value(float(item)) for item in row]\n"
   ]
  },
  {
   "cell_type": "code",
   "execution_count": 13,
   "metadata": {},
   "outputs": [],
   "source": [
    "Xtrain, Xtest, Ytrain, Ytest = X[:int(len(X)*0.8)], X[int(len(X)*0.8):], Y[:int(len(X)*0.8)], Y[int(len(X)*0.8):]"
   ]
  },
  {
   "cell_type": "code",
   "execution_count": 14,
   "metadata": {},
   "outputs": [
    {
     "data": {
      "text/plain": [
       "[(1, 2), (1, 2), (1, 2)]"
      ]
     },
     "execution_count": 14,
     "metadata": {},
     "output_type": "execute_result"
    }
   ],
   "source": [
    "list(zip([1, 1, 1], [2, 2, 2, 2, 2, 2]))"
   ]
  },
  {
   "cell_type": "code",
   "execution_count": 19,
   "metadata": {},
   "outputs": [
    {
     "name": "stdout",
     "output_type": "stream",
     "text": [
      "[Value(data=0.1268038174982138), Value(data=0.7938365520221544), Value(data=0.40928290656230804), Value(data=0.8084877268246005), Value(data=0.5319308464320909), Value(data=0.6120141466582929), Value(data=-0.38886245630521676), Value(data=-0.23671021490311106), Value(data=0.11395839836291066), Value(data=0.14789266313898541), Value(data=0.3173125298482251), Value(data=-0.23945284199515493), Value(data=0.517634296189774), Value(data=-0.8076562687196707), Value(data=0.9084798580562528), Value(data=0.8399421143010419), Value(data=-0.6207999308724332), Value(data=0.4478701422993492), Value(data=-0.586462473487491), Value(data=-0.9649038121090356), Value(data=-0.07325629396890743), Value(data=-0.8492045750206652), Value(data=-0.8111997557145925)]\n"
     ]
    }
   ],
   "source": [
    "# nn.init.zeros_(hiddenLayer.weight)\n",
    "\n",
    "# s1 = Sigmoid()\n",
    "hiddenLayer1 = Layer(10, 1, activation='sigmoid')\n",
    "outputLayer = Layer(11, 1, activation='sigmoid')\n",
    "# nn.init.zeros_(outputLayer.weight)\n",
    "\n",
    "# s2 = Sigmoid()\n",
    "\n",
    "# parameters = [list(hiddenLayer.parameters())[0]]\n",
    "# parameters.append(list(outputLayer.parameters())[0])\n",
    "parameters =  outputLayer.parameters() + hiddenLayer1.parameters()\n",
    "print(parameters)"
   ]
  },
  {
   "cell_type": "code",
   "execution_count": 15,
   "metadata": {},
   "outputs": [],
   "source": [
    "def predict(x):\n",
    "    x1 = hiddenLayer1(x)\n",
    "    # out2 = hiddenLayer2(x[5:])\n",
    "    # out = [out1] + [out2]\n",
    "    # x = s1(x)\n",
    "    # print(x)\n",
    "    \n",
    "    final = outputLayer([x1] + x)\n",
    "    # x = s2(x)\n",
    "    return final"
   ]
  },
  {
   "cell_type": "code",
   "execution_count": 27,
   "metadata": {},
   "outputs": [],
   "source": [
    "parameters =  outputLayer.parameters() + hiddenLayer1.parameters()\n"
   ]
  },
  {
   "cell_type": "code",
   "execution_count": 16,
   "metadata": {},
   "outputs": [],
   "source": [
    "from sklearn.metrics import accuracy_score\n",
    "def getAccuracy(X, Y):\n",
    "    predicted = [1 if predict(x).data > 0.5 else 0 for x in X ]\n",
    "    print(predicted)\n",
    "    return accuracy_score(predicted, Y)\n"
   ]
  },
  {
   "cell_type": "code",
   "execution_count": 25,
   "metadata": {},
   "outputs": [],
   "source": [
    "losss = []\n"
   ]
  },
  {
   "cell_type": "code",
   "execution_count": 28,
   "metadata": {},
   "outputs": [
    {
     "name": "stdout",
     "output_type": "stream",
     "text": [
      "Value(data=0.20180828722085056) 0\n",
      "Value(data=0.2012012672819587) 1\n",
      "Value(data=0.20104507546836928) 2\n",
      "Value(data=0.20089728449754224) 3\n",
      "Value(data=0.20075462283610934) 4\n",
      "Value(data=0.20061574950954514) 5\n",
      "Value(data=0.2004800369843522) 6\n",
      "Value(data=0.20034712982327804) 7\n",
      "Value(data=0.20021678293784545) 8\n",
      "Value(data=0.20008880151041195) 9\n",
      "Value(data=0.19996301811004344) 10\n",
      "Value(data=0.19983928349472954) 11\n",
      "Value(data=0.1997174624982359) 12\n",
      "Value(data=0.19959743184620624) 13\n",
      "Value(data=0.19947907874040569) 14\n",
      "Value(data=0.1993622997809217) 15\n",
      "Value(data=0.19924700006413965) 16\n",
      "Value(data=0.19913309239264732) 17\n",
      "Value(data=0.19902049656947338) 18\n",
      "Value(data=0.19890913876260163) 19\n",
      "Value(data=0.19879895093093422) 20\n",
      "Value(data=0.19868987030509408) 21\n",
      "Value(data=0.19858183891758552) 22\n",
      "Value(data=0.1984748031774681) 23\n",
      "Value(data=0.19836871348524057) 24\n",
      "Value(data=0.1982635238840625) 25\n",
      "Value(data=0.19815919174377647) 26\n",
      "Value(data=0.19805567747458833) 27\n",
      "Value(data=0.19795294426751514) 28\n",
      "Value(data=0.1978509578590301) 29\n",
      "Value(data=0.19774968631755954) 30\n",
      "Value(data=0.19764909984972015) 31\n",
      "Value(data=0.1975491706244027) 32\n",
      "Value(data=0.19744987261297092) 33\n",
      "Value(data=0.1973511814440471) 34\n",
      "Value(data=0.19725307427145422) 35\n",
      "Value(data=0.19715552965408537) 36\n",
      "Value(data=0.19705852744654467) 37\n",
      "Value(data=0.1969620486995342) 38\n",
      "Value(data=0.19686607556906488) 39\n",
      "Value(data=0.19677059123365173) 40\n",
      "Value(data=0.19667557981874553) 41\n",
      "Value(data=0.19658102632770572) 42\n",
      "Value(data=0.19648691657871867) 43\n",
      "Value(data=0.19639323714708914) 44\n",
      "Value(data=0.19629997531241591) 45\n",
      "Value(data=0.1962071190101911) 46\n",
      "Value(data=0.19611465678742146) 47\n",
      "Value(data=0.19602257776189372) 48\n",
      "Value(data=0.1959308715847586) 49\n",
      "Value(data=0.19583952840612678) 50\n",
      "Value(data=0.19574853884340343) 51\n",
      "Value(data=0.19565789395211952) 52\n",
      "Value(data=0.19556758519903078) 53\n",
      "Value(data=0.19547760443728787) 54\n",
      "Value(data=0.195387943883488) 55\n",
      "Value(data=0.19529859609645267) 56\n",
      "Value(data=0.1952095539575689) 57\n",
      "Value(data=0.19512081065257153) 58\n",
      "Value(data=0.19503235965463034) 59\n",
      "Value(data=0.19494419470864363) 60\n",
      "Value(data=0.1948563098166212) 61\n",
      "Value(data=0.1947686992240852) 62\n",
      "Value(data=0.1946813574073821) 63\n",
      "Value(data=0.19459427906185348) 64\n",
      "Value(data=0.1945074590907734) 65\n",
      "Value(data=0.19442089259501247) 66\n",
      "Value(data=0.19433457486335246) 67\n",
      "Value(data=0.19424850136341282) 68\n",
      "Value(data=0.19416266773313512) 69\n",
      "Value(data=0.19407706977278374) 70\n",
      "Value(data=0.19399170343742583) 71\n",
      "Value(data=0.1939065648298504) 72\n",
      "Value(data=0.19382165019390007) 73\n",
      "Value(data=0.1937369559081763) 74\n",
      "Value(data=0.19365247848010456) 75\n",
      "Value(data=0.19356821454031922) 76\n",
      "Value(data=0.19348416083735478) 77\n",
      "Value(data=0.1934003142326212) 78\n",
      "Value(data=0.19331667169564404) 79\n",
      "Value(data=0.19323323029954653) 80\n",
      "Value(data=0.19314998721676482) 81\n",
      "Value(data=0.19306693971497954) 82\n",
      "Value(data=0.19298408515324664) 83\n",
      "Value(data=0.1929014209783136) 84\n",
      "Value(data=0.19281894472112088) 85\n",
      "Value(data=0.1927366539934619) 86\n",
      "Value(data=0.19265454648480315) 87\n",
      "Value(data=0.19257261995925193) 88\n",
      "Value(data=0.19249087225265962) 89\n",
      "Value(data=0.19240930126985661) 90\n",
      "Value(data=0.19232790498201435) 91\n",
      "Value(data=0.19224668142411672) 92\n",
      "Value(data=0.192165628692549) 93\n",
      "Value(data=0.19208474494278524) 94\n",
      "Value(data=0.19200402838717812) 95\n",
      "Value(data=0.1919234772928402) 96\n",
      "Value(data=0.1918430899796153) 97\n",
      "Value(data=0.19176286481813476) 98\n",
      "Value(data=0.1916828002279483) 99\n",
      "Value(data=0.19160289467574454) 100\n",
      "Value(data=0.1915231466736247) 101\n",
      "Value(data=0.19144355477746106) 102\n",
      "Value(data=0.1913641175853172) 103\n",
      "Value(data=0.19128483373592597) 104\n",
      "Value(data=0.1912057019072316) 105\n",
      "Value(data=0.19112672081499155) 106\n",
      "Value(data=0.19104788921142477) 107\n",
      "Value(data=0.19096920588391894) 108\n",
      "Value(data=0.19089066965378665) 109\n",
      "Value(data=0.19081227937506523) 110\n",
      "Value(data=0.1907340339333655) 111\n",
      "Value(data=0.19065593224476574) 112\n",
      "Value(data=0.1905779732547433) 113\n",
      "Value(data=0.19050015593714775) 114\n",
      "Value(data=0.1904224792932112) 115\n",
      "Value(data=0.19034494235060367) 116\n",
      "Value(data=0.19026754416250777) 117\n",
      "Value(data=0.19019028380674302) 118\n",
      "Value(data=0.19011316038491402) 119\n",
      "Value(data=0.1900361730215894) 120\n",
      "Value(data=0.18995932086351697) 121\n",
      "Value(data=0.1898826030788623) 122\n",
      "Value(data=0.18980601885647336) 123\n",
      "Value(data=0.18972956740517918) 124\n",
      "Value(data=0.18965324795310495) 125\n",
      "Value(data=0.1895770597470205) 126\n",
      "Value(data=0.18950100205170306) 127\n",
      "Value(data=0.18942507414933202) 128\n",
      "Value(data=0.18934927533889528) 129\n",
      "Value(data=0.1892736049356301) 130\n",
      "Value(data=0.18919806227046743) 131\n",
      "Value(data=0.18912264668951073) 132\n",
      "Value(data=0.1890473575535243) 133\n",
      "Value(data=0.18897219423744205) 134\n",
      "Value(data=0.18889715612989547) 135\n",
      "Value(data=0.18882224263275627) 136\n",
      "Value(data=0.1887474531606926) 137\n",
      "Value(data=0.18867278714074898) 138\n",
      "Value(data=0.18859824401193137) 139\n",
      "Value(data=0.18852382322480996) 140\n",
      "Value(data=0.18844952424114234) 141\n",
      "Value(data=0.18837534653349805) 142\n",
      "Value(data=0.1883012895849064) 143\n",
      "Value(data=0.18822735288850947) 144\n",
      "Value(data=0.18815353594723286) 145\n",
      "Value(data=0.18807983827346328) 146\n",
      "Value(data=0.18800625938873788) 147\n",
      "Value(data=0.187932798823448) 148\n",
      "Value(data=0.1878594561165484) 149\n",
      "Value(data=0.1877862308152794) 150\n",
      "Value(data=0.18771312247489852) 151\n",
      "Value(data=0.18764013065841695) 152\n",
      "Value(data=0.18756725493635476) 153\n",
      "Value(data=0.18749449488648992) 154\n",
      "Value(data=0.18742185009363363) 155\n",
      "Value(data=0.18734932014939562) 156\n",
      "Value(data=0.18727690465197078) 157\n",
      "Value(data=0.18720460320592652) 158\n",
      "Value(data=0.18713241542199627) 159\n",
      "Value(data=0.18706034091688745) 160\n",
      "Value(data=0.18698837931308726) 161\n",
      "Value(data=0.18691653023868068) 162\n",
      "Value(data=0.18684479332717033) 163\n",
      "Value(data=0.18677316821730727) 164\n",
      "Value(data=0.18670165455292292) 165\n",
      "Value(data=0.1866302519827722) 166\n",
      "Value(data=0.18655896016037285) 167\n",
      "Value(data=0.18648777874386036) 168\n",
      "Value(data=0.18641670739584393) 169\n",
      "Value(data=0.18634574578326027) 170\n",
      "Value(data=0.18627489357724544) 171\n",
      "Value(data=0.18620415045300026) 172\n",
      "Value(data=0.18613351608966433) 173\n",
      "Value(data=0.1860629901701963) 174\n",
      "Value(data=0.18599257238125294) 175\n",
      "Value(data=0.18592226241307575) 176\n",
      "Value(data=0.1858520599593824) 177\n",
      "Value(data=0.1857819647172587) 178\n",
      "Value(data=0.1857119763870547) 179\n",
      "Value(data=0.18564209467228696) 180\n",
      "Value(data=0.18557231927954126) 181\n",
      "Value(data=0.18550264991837973) 182\n",
      "Value(data=0.1854330863012512) 183\n",
      "Value(data=0.18536362814340201) 184\n",
      "Value(data=0.18529427516279595) 185\n",
      "Value(data=0.18522502708002825) 186\n",
      "Value(data=0.1851558836182514) 187\n",
      "Value(data=0.18508684450309534) 188\n",
      "Value(data=0.1850179094625956) 189\n",
      "Value(data=0.1849490782271228) 190\n",
      "Value(data=0.1848803505293134) 191\n",
      "Value(data=0.1848117261040016) 192\n",
      "Value(data=0.18474320468815797) 193\n",
      "Value(data=0.18467478602082654) 194\n",
      "Value(data=0.18460646984306234) 195\n",
      "Value(data=0.18453825589787629) 196\n",
      "Value(data=0.1844701439301771) 197\n",
      "Value(data=0.1844021336867186) 198\n",
      "Value(data=0.18433422491604548) 199\n",
      "Value(data=0.1842664173684442) 200\n",
      "Value(data=0.18419871079589145) 201\n",
      "Value(data=0.1841311049520114) 202\n",
      "Value(data=0.18406359959202354) 203\n",
      "Value(data=0.18399619447270343) 204\n",
      "Value(data=0.18392888935233775) 205\n",
      "Value(data=0.18386168399068276) 206\n",
      "Value(data=0.18379457814892422) 207\n",
      "Value(data=0.1837275715896393) 208\n",
      "Value(data=0.1836606640767587) 209\n",
      "Value(data=0.1835938553755309) 210\n",
      "Value(data=0.1835271452524859) 211\n",
      "Value(data=0.18346053347540134) 212\n",
      "Value(data=0.18339401981327325) 213\n",
      "Value(data=0.18332760403627965) 214\n",
      "Value(data=0.18326128591575316) 215\n",
      "Value(data=0.18319506522415005) 216\n",
      "Value(data=0.18312894173502273) 217\n",
      "Value(data=0.1830629152229908) 218\n",
      "Value(data=0.18299698546371507) 219\n",
      "Value(data=0.1829311522338732) 220\n",
      "Value(data=0.1828654153111313) 221\n",
      "Value(data=0.18279977447412538) 222\n",
      "Value(data=0.1827342295024307) 223\n",
      "Value(data=0.18266878017654706) 224\n",
      "Value(data=0.18260342627787163) 225\n",
      "Value(data=0.1825381675886799) 226\n",
      "Value(data=0.18247300389210633) 227\n",
      "Value(data=0.18240793497212346) 228\n",
      "Value(data=0.1823429606135235) 229\n",
      "Value(data=0.18227808060190112) 230\n",
      "Value(data=0.18221329472363249) 231\n",
      "Value(data=0.18214860276586328) 232\n",
      "Value(data=0.1820840045164883) 233\n",
      "Value(data=0.18201949976413767) 234\n",
      "Value(data=0.1819550882981607) 235\n",
      "Value(data=0.18189076990861214) 236\n",
      "Value(data=0.18182654438623605) 237\n",
      "Value(data=0.18176241152245412) 238\n",
      "Value(data=0.1816983711093514) 239\n",
      "Value(data=0.1816344229396649) 240\n",
      "Value(data=0.18157056680676822) 241\n",
      "Value(data=0.18150680250466314) 242\n",
      "Value(data=0.18144312982796587) 243\n",
      "Value(data=0.18137954857189736) 244\n",
      "Value(data=0.18131605853227264) 245\n",
      "Value(data=0.18125265950548894) 246\n",
      "Value(data=0.181189351288518) 247\n",
      "Value(data=0.18112613367889582) 248\n",
      "Value(data=0.18106300647471205) 249\n",
      "Value(data=0.18099996947460453) 250\n",
      "Value(data=0.18093702247774604) 251\n",
      "Value(data=0.1808741652838414) 252\n",
      "Value(data=0.1808113976931162) 253\n",
      "Value(data=0.18074871950630927) 254\n",
      "Value(data=0.18068613052466806) 255\n",
      "Value(data=0.1806236305499383) 256\n",
      "Value(data=0.18056121938435996) 257\n",
      "Value(data=0.1804988968306596) 258\n",
      "Value(data=0.18043666269204447) 259\n",
      "Value(data=0.18037451677219532) 260\n",
      "Value(data=0.1803124588752642) 261\n",
      "Value(data=0.180250488805864) 262\n",
      "Value(data=0.18018860636906817) 263\n",
      "Value(data=0.18012681137040223) 264\n",
      "Value(data=0.1800651036158401) 265\n",
      "Value(data=0.18000348291179993) 266\n",
      "Value(data=0.17994194906513877) 267\n",
      "Value(data=0.17988050188314988) 268\n",
      "Value(data=0.17981914117355677) 269\n",
      "Value(data=0.1797578667445094) 270\n",
      "Value(data=0.1796966784045837) 271\n",
      "Value(data=0.17963557596277346) 272\n",
      "Value(data=0.17957455922849) 273\n",
      "Value(data=0.17951362801155854) 274\n",
      "Value(data=0.17945278212221397) 275\n",
      "Value(data=0.17939202137109864) 276\n",
      "Value(data=0.1793313455692603) 277\n",
      "Value(data=0.17927075452814825) 278\n",
      "Value(data=0.17921024805961244) 279\n",
      "Value(data=0.17914982597589799) 280\n",
      "Value(data=0.1790894880896471) 281\n",
      "Value(data=0.17902923421389255) 282\n",
      "Value(data=0.17896906416206057) 283\n",
      "Value(data=0.1789089777479636) 284\n",
      "Value(data=0.17884897478580516) 285\n",
      "Value(data=0.178789055090168) 286\n",
      "Value(data=0.17872921847602405) 287\n",
      "Value(data=0.17866946475872555) 288\n",
      "Value(data=0.17860979375400596) 289\n",
      "Value(data=0.17855020527797769) 290\n",
      "Value(data=0.17849069914713134) 291\n",
      "Value(data=0.1784312751783353) 292\n",
      "Value(data=0.1783719331888349) 293\n",
      "Value(data=0.17831267299624878) 294\n",
      "Value(data=0.17825349441857075) 295\n",
      "Value(data=0.1781943972741678) 296\n",
      "Value(data=0.1781353813817797) 297\n",
      "Value(data=0.17807644656051871) 298\n",
      "Value(data=0.1780175926298669) 299\n",
      "Value(data=0.1779588194096777) 300\n",
      "Value(data=0.17790012672017405) 301\n",
      "Value(data=0.17784151438195145) 302\n",
      "Value(data=0.1777829822159707) 303\n",
      "Value(data=0.17772453004356276) 304\n",
      "Value(data=0.17766615768643004) 305\n",
      "Value(data=0.17760786496663933) 306\n",
      "Value(data=0.17754965170662837) 307\n",
      "Value(data=0.17749151772920096) 308\n",
      "Value(data=0.17743346285753048) 309\n",
      "Value(data=0.1773754869151572) 310\n",
      "Value(data=0.17731758972598932) 311\n",
      "Value(data=0.17725977111430286) 312\n",
      "Value(data=0.17720203090474249) 313\n",
      "Value(data=0.17714436892231997) 314\n",
      "Value(data=0.17708678499241465) 315\n",
      "Value(data=0.17702927894077566) 316\n",
      "Value(data=0.17697185059351822) 317\n",
      "Value(data=0.17691449977712875) 318\n",
      "Value(data=0.17685722631846085) 319\n",
      "Value(data=0.17680003004473702) 320\n",
      "Value(data=0.17674291078354987) 321\n",
      "Value(data=0.17668586836286126) 322\n",
      "Value(data=0.17662890261100386) 323\n",
      "Value(data=0.1765720133566788) 324\n",
      "Value(data=0.17651520042895982) 325\n",
      "Value(data=0.17645846365729118) 326\n",
      "Value(data=0.17640180287148796) 327\n",
      "Value(data=0.17634521790173838) 328\n",
      "Value(data=0.1762887085786022) 329\n",
      "Value(data=0.17623227473301165) 330\n",
      "Value(data=0.17617591619627335) 331\n",
      "Value(data=0.176119632800067) 332\n",
      "Value(data=0.17606342437644693) 333\n",
      "Value(data=0.1760072907578413) 334\n",
      "Value(data=0.17595123177705588) 335\n",
      "Value(data=0.17589524726727035) 336\n",
      "Value(data=0.17583933706204047) 337\n",
      "Value(data=0.17578350099530027) 338\n",
      "Value(data=0.17572773890135984) 339\n",
      "Value(data=0.17567205061490973) 340\n",
      "Value(data=0.17561643597101614) 341\n",
      "Value(data=0.1755608948051276) 342\n",
      "Value(data=0.17550542695306798) 343\n",
      "Value(data=0.17545003225104597) 344\n",
      "Value(data=0.1753947105356489) 345\n",
      "Value(data=0.17533946164384606) 346\n",
      "Value(data=0.17528428541298835) 347\n",
      "Value(data=0.17522918168081078) 348\n",
      "Value(data=0.175174150285429) 349\n",
      "Value(data=0.17511919106534546) 350\n",
      "Value(data=0.17506430385944502) 351\n",
      "Value(data=0.17500948850699707) 352\n",
      "Value(data=0.17495474484765997) 353\n",
      "Value(data=0.17490007272147406) 354\n",
      "Value(data=0.17484547196886885) 355\n",
      "Value(data=0.17479094243066115) 356\n",
      "Value(data=0.17473648394805408) 357\n",
      "Value(data=0.1746820963626411) 358\n",
      "Value(data=0.17462777951640354) 359\n",
      "Value(data=0.17457353325171224) 360\n",
      "Value(data=0.17451935741132948) 361\n",
      "Value(data=0.17446525183840642) 362\n",
      "Value(data=0.17441121637648638) 363\n",
      "Value(data=0.17435725086950524) 364\n",
      "Value(data=0.174303355161789) 365\n",
      "Value(data=0.17424952909805916) 366\n",
      "Value(data=0.1741957725234276) 367\n",
      "Value(data=0.17414208528340303) 368\n",
      "Value(data=0.17408846722388566) 369\n",
      "Value(data=0.17403491819117353) 370\n",
      "Value(data=0.1739814380319572) 371\n",
      "Value(data=0.17392802659332404) 372\n",
      "Value(data=0.1738746837227581) 373\n",
      "Value(data=0.1738214092681399) 374\n",
      "Value(data=0.17376820307774604) 375\n",
      "Value(data=0.17371506500025272) 376\n",
      "Value(data=0.1736619948847323) 377\n",
      "Value(data=0.17360899258065665) 378\n",
      "Value(data=0.17355605793789516) 379\n",
      "Value(data=0.17350319080671758) 380\n",
      "Value(data=0.1734503910377941) 381\n",
      "Value(data=0.17339765848219205) 382\n",
      "Value(data=0.1733449929913812) 383\n",
      "Value(data=0.1732923944172314) 384\n",
      "Value(data=0.17323986261201355) 385\n",
      "Value(data=0.17318739742839998) 386\n",
      "Value(data=0.17313499871946358) 387\n",
      "Value(data=0.17308266633868077) 388\n",
      "Value(data=0.1730304001399286) 389\n",
      "Value(data=0.17297819997748792) 390\n",
      "Value(data=0.17292606570604138) 391\n",
      "Value(data=0.17287399718067473) 392\n",
      "Value(data=0.1728219942568774) 393\n",
      "Value(data=0.17277005679054122) 394\n",
      "Value(data=0.17271818463796237) 395\n",
      "Value(data=0.17266637765584128) 396\n",
      "Value(data=0.17261463570127983) 397\n",
      "Value(data=0.17256295863178794) 398\n",
      "Value(data=0.1725113463052773) 399\n",
      "[1, 1, 1, 1, 0, 1, 0, 1, 0, 0, 1, 1, 1, 1, 1, 1, 1, 1, 1, 0, 1, 0, 1, 1, 1, 0, 1, 0, 0, 1, 0, 1, 1, 0, 1, 1, 1, 1, 0, 1, 1, 1, 0, 0, 1, 0, 0, 0, 0, 1, 1, 1, 0, 0, 0, 0, 0, 1, 0, 1, 1, 0, 1, 1, 1, 0, 0, 1, 1, 0, 0, 1, 1, 1, 0, 0, 0, 1, 0, 0, 1, 0, 0, 1, 0, 1, 0, 1, 0, 1, 1, 0, 1, 0, 0, 0, 1, 1, 1, 0, 0, 0, 1, 1, 0, 0, 0, 0, 0, 1, 1, 0, 1, 1, 1, 1, 0, 1, 1, 1, 0, 0, 1, 1, 0, 0, 1, 0, 1, 0, 1, 0, 1, 1, 1, 1, 1, 0, 1, 1, 0, 1, 0, 1, 1, 1, 1, 0, 1, 0, 0, 1, 0, 1, 0, 0, 0, 0, 0, 0, 0, 0, 1, 1, 1, 0, 1, 0, 0, 0, 0, 1, 1, 0, 1, 1, 0, 1, 0, 1, 1, 1, 1, 0, 0, 1, 0, 0, 0, 0, 0, 1, 1, 0, 1, 0, 1, 0, 1, 1, 1, 0, 0, 0, 0]\n",
      "[0, 1, 0, 0, 1, 0, 0, 1, 1, 1, 1, 0, 0, 0, 1, 0, 0, 1, 1, 0, 0, 0, 1, 1, 1, 0, 0, 1, 0, 0, 1, 1, 0, 1, 0, 1, 0, 1, 0, 0, 0, 1, 0, 0, 1, 1, 1, 1, 1, 1, 0, 0, 1, 1, 1, 0, 0, 0, 1, 1, 1, 1, 0, 0, 1, 1, 0, 0, 1, 0, 1, 0, 1, 1, 1, 1, 0, 0, 1, 1, 1, 0, 0, 1, 0, 0, 1, 0, 0, 0, 1, 1, 0, 1, 0, 0, 1, 1, 1, 1, 0, 0, 1, 1, 1, 1, 1, 0, 1, 1, 1, 0, 1, 1, 0, 1, 1, 0, 1, 1, 1, 0, 1, 0, 1, 1, 1, 0, 0, 0, 1, 1, 1, 0, 1, 1, 1, 0, 1, 0, 0, 1, 1, 0, 0, 0, 0, 1, 1, 0, 1, 0, 0, 1, 1, 1, 0, 0, 1, 1, 0, 1, 0, 1, 1, 1, 1, 0, 1, 1, 1, 1, 1, 1, 1, 0, 1, 1, 0, 0, 0, 1, 0, 0, 0, 1, 1, 0, 0, 1, 1, 0, 1, 1, 1, 1, 1, 1, 0, 0, 1, 1, 0, 1, 0, 1, 1, 1, 1, 1, 0, 0, 1, 1, 0, 1, 1, 0, 0, 1, 1, 1, 0, 1, 1, 1, 0, 1, 0, 1, 0, 0, 1, 1, 0, 1, 1, 1, 1, 0, 1, 0, 1, 0, 1, 1, 1, 0, 1, 0, 0, 1, 0, 1, 1, 1, 0, 0, 1, 0, 1, 0, 0, 0, 1, 1, 0, 0, 0, 0, 1, 1, 1, 0, 1, 0, 0, 0, 1, 1, 1, 1, 0, 0, 1, 0, 0, 0, 1, 1, 1, 1, 1, 1, 0, 1, 0, 1, 0, 0, 0, 0, 0, 0, 0, 0, 0, 0, 0, 0, 0, 1, 1, 0, 1, 1, 1, 1, 1, 0, 1, 1, 0, 1, 0, 0, 0, 0, 1, 0, 1, 1, 1, 1, 1, 0, 0, 0, 1, 0, 0, 1, 0, 1, 0, 0, 0, 1, 1, 1, 0, 1, 1, 0, 0, 0, 1, 0, 1, 1, 1, 0, 1, 1, 1, 1, 1, 0, 1, 0, 0, 0, 1, 1, 1, 1, 1, 0, 1, 1, 0, 1, 1, 1, 1, 1, 0, 0, 1, 0, 0, 1, 1, 1, 1, 0, 1, 0, 1, 1, 1, 0, 1, 1, 1, 1, 0, 1, 1, 1, 1, 1, 1, 1, 0, 1, 1, 0, 0, 0, 1, 1, 0, 1, 1, 1, 1, 0, 0, 1, 0, 1, 1, 0, 1, 0, 0, 0, 1, 1, 0, 0, 1, 1, 1, 1, 0, 1, 1, 1, 1, 1, 0, 1, 0, 0, 1, 0, 1, 1, 0, 0, 1, 1, 1, 0, 0, 1, 1, 1, 1, 1, 1, 0, 1, 1, 0, 0, 0, 1, 1, 1, 1, 0, 1, 0, 1, 0, 1, 1, 1, 1, 1, 0, 0, 1, 0, 1, 1, 1, 0, 0, 0, 0, 1, 1, 1, 0, 1, 1, 1, 1, 1, 1, 0, 1, 1, 0, 1, 0, 1, 1, 1, 1, 1, 1, 0, 1, 0, 0, 0, 1, 1, 1, 0, 1, 0, 1, 1, 0, 1, 1, 1, 1, 1, 1, 0, 1, 1, 1, 1, 0, 1, 1, 0, 0, 1, 0, 0, 1, 1, 1, 0, 0, 1, 1, 1, 1, 1, 1, 1, 0, 1, 1, 1, 0, 0, 1, 1, 0, 0, 0, 1, 0, 1, 0, 1, 1, 0, 1, 1, 1, 0, 1, 1, 1, 0, 1, 0, 0, 1, 0, 0, 0, 1, 0, 0, 0, 0, 1, 1, 0, 1, 1, 1, 0, 1, 0, 1, 0, 0, 1, 0, 1, 0, 0, 1, 1, 1, 1, 1, 0, 0, 0, 1, 1, 1, 1, 0, 0, 1, 1, 1, 0, 0, 0, 0, 0, 1, 1, 1, 0, 1, 0, 1, 0, 0, 1, 0, 0, 1, 0, 0, 1, 1, 0, 1, 0, 0, 1, 1, 0, 1, 0, 1, 1, 0, 1, 0, 0, 0, 1, 0, 0, 0, 1, 0, 1, 1, 1, 1, 1, 1, 0, 1, 0, 1, 1, 0, 0, 1, 1, 1, 0, 1, 1, 0, 1, 1, 1, 1, 1, 1, 1, 1, 1, 1, 0, 1, 0, 0, 0, 0, 1, 1, 0, 0, 0, 0, 1, 1, 0, 1, 0, 0, 0, 0, 0, 1, 1, 1, 0, 0, 1, 1, 1, 0, 0, 0, 1, 1, 1, 1, 1, 0, 0, 1, 1, 0, 1, 1, 0, 0, 1, 1, 1, 0, 1, 1, 1, 1, 1, 0, 1, 1, 1, 1, 1, 1, 1, 1, 1, 1, 1, 0, 1, 0, 1, 0, 1, 0, 1, 0, 1, 1, 1, 1, 0, 1, 0, 0, 0, 1, 1, 1, 0, 1, 1, 0, 0, 0, 1, 0, 1, 0, 0, 0, 1, 0]\n",
      "test 0.9365853658536586 train 0.9291819291819292\n"
     ]
    }
   ],
   "source": [
    "lr = 1\n",
    "epochs = 400\n",
    "\n",
    "for _ in range(epochs):\n",
    "    Y_pred = [predict(x) for x in Xtrain]\n",
    "    # print(Y_pred)\n",
    "    loss = Value(0)\n",
    "    for i in range(len(Ytrain)):\n",
    "        if Ytrain[i] == 1:\n",
    "            # print('ssd')\n",
    "            loss -= Y_pred[i].log()\n",
    "        else:\n",
    "            # print('sds')\n",
    "            loss -= (Value(1) - Y_pred[i]).log()\n",
    "    loss = loss/len(X)\n",
    "    loss.backward()\n",
    "\n",
    "    for p in parameters:\n",
    "        p.data -= lr*p.grad\n",
    "\n",
    "    for p in parameters:\n",
    "        p.grad = 0\n",
    "    losss.append(loss.data)\n",
    "    print(loss, _)\n",
    "print( 'test', getAccuracy(Xtest, Ytest),'train', getAccuracy(Xtrain, Ytrain))"
   ]
  },
  {
   "cell_type": "code",
   "execution_count": 29,
   "metadata": {},
   "outputs": [
    {
     "data": {
      "image/png": "[encoded data removed]",
      "text/plain": [
       "<Figure size 640x480 with 1 Axes>"
      ]
     },
     "metadata": {},
     "output_type": "display_data"
    }
   ],
   "source": [
    "import matplotlib.pyplot as plt\n",
    "\n",
    "plt.plot(losss)\n",
    "plt.xlabel('Epochs')\n",
    "plt.ylabel('Loss')\n",
    "plt.title('Loss over Epochs')\n",
    "plt.show()\n"
   ]
  },
  {
   "cell_type": "code",
   "execution_count": 30,
   "metadata": {},
   "outputs": [
    {
     "data": {
      "image/png": "[encoded data removed]",
      "text/plain": [
       "<Figure size 640x480 with 2 Axes>"
      ]
     },
     "metadata": {},
     "output_type": "display_data"
    },
    {
     "data": {
      "text/plain": [
       "Text(0, 0.5, 'neuron number')"
      ]
     },
     "execution_count": 30,
     "metadata": {},
     "output_type": "execute_result"
    },
    {
     "data": {
      "image/png": "[encoded data removed]",
      "text/plain": [
       "<Figure size 640x480 with 2 Axes>"
      ]
     },
     "metadata": {},
     "output_type": "display_data"
    }
   ],
   "source": [
    "neuron1weightsbias = [v.data for v in hiddenLayer1.neurons[0].w] + [hiddenLayer1.neurons[0].b.data]\n",
    "outputneuronweightsbias = [v.data for v in outputLayer.neurons[0].w] + [outputLayer.neurons[0].b.data]\n",
    "import matplotlib.pyplot as plt\n",
    "\n",
    "plt.imshow([neuron1weightsbias], cmap='hot')\n",
    "plt.colorbar()\n",
    "plt.title('Heatmap of Neurons in hidden Layer')\n",
    "plt.xlabel('neuron number')\n",
    "plt.ylabel('neuron number')\n",
    "plt.show()\n",
    "\n",
    "plt.imshow([outputneuronweightsbias], cmap='hot')\n",
    "plt.colorbar()\n",
    "plt.title('Heatmap of Neurons in Output Layer')\n",
    "plt.xlabel('neuron number')\n",
    "plt.ylabel('neuron number')\n"
   ]
  },
  {
   "cell_type": "code",
   "execution_count": 31,
   "metadata": {},
   "outputs": [
    {
     "data": {
      "image/png": "[encoded data removed]",
      "text/plain": [
       "<Figure size 640x480 with 1 Axes>"
      ]
     },
     "metadata": {},
     "output_type": "display_data"
    }
   ],
   "source": [
    "plt.bar(range(len(neuron1weightsbias)), neuron1weightsbias)\n",
    "plt.xlabel('Neuron Number')\n",
    "plt.ylabel('Weight')\n",
    "plt.title('Neuron 1 Weights')\n",
    "plt.show()\n"
   ]
  },
  {
   "cell_type": "code",
   "execution_count": 32,
   "metadata": {},
   "outputs": [],
   "source": [
    "import pickle as pkl \n",
    "\n",
    "with open('parameters/neuron1weightsbias2.pckl', 'wb') as file:\n",
    "    pkl.dump(neuron1weightsbias, file)\n",
    "with open('parameters/outputneuronweightsbias2.pckl', 'wb') as file:\n",
    "    pkl.dump(outputneuronweightsbias, file)"
   ]
  },
  {
   "cell_type": "code",
   "execution_count": 17,
   "metadata": {},
   "outputs": [],
   "source": [
    "# Load model\n",
    "\n",
    "def loadModel():\n",
    "    neuron1weightsbias, outputneuronweightsbias = [], []\n",
    "    with open(f'parameters/neuron1weightsbias2.pckl', 'rb') as file:\n",
    "        neuron1weightsbias = pickle.load(file)\n",
    "    with open('parameters/outputneuronweightsbias2.pckl', 'rb') as file:\n",
    "        outputneuronweightsbias = pickle.load(file)\n",
    "    hiddenLayer1_ = Layer(10, 1)\n",
    "    outputLayer_ = Layer(11, 1)\n",
    "\n",
    "    hiddenLayer1_.neurons[0].w = [Value(i) for i in neuron1weightsbias[:-1]]\n",
    "    hiddenLayer1_.neurons[0].b = Value(neuron1weightsbias[-1])\n",
    "\n",
    "    outputLayer_.neurons[0].w = [Value(i) for i in outputneuronweightsbias[:-1]]\n",
    "    outputLayer_.neurons[0].b = Value(outputneuronweightsbias[-1])\n",
    "    return hiddenLayer1_, outputLayer_, neuron1weightsbias, outputneuronweightsbias"
   ]
  },
  {
   "cell_type": "code",
   "execution_count": 18,
   "metadata": {},
   "outputs": [],
   "source": [
    "import pickle as pkl \n",
    "\n",
    "hiddenLayer1, outputLayer, neuron1weightsbias, outputneuronweightsbias = loadModel()"
   ]
  },
  {
   "cell_type": "code",
   "execution_count": 19,
   "metadata": {},
   "outputs": [
    {
     "name": "stdout",
     "output_type": "stream",
     "text": [
      "[1, 1, 1, 1, 0, 0, 0, 1, 0, 0, 1, 1, 1, 1, 1, 1, 1, 1, 1, 0, 1, 0, 1, 1, 1, 0, 1, 0, 0, 1, 0, 1, 1, 0, 1, 1, 1, 1, 0, 1, 1, 1, 0, 0, 1, 0, 0, 0, 0, 1, 1, 1, 0, 0, 0, 0, 0, 1, 0, 1, 1, 0, 1, 1, 1, 0, 0, 1, 1, 0, 0, 1, 1, 1, 0, 0, 0, 1, 0, 0, 1, 0, 0, 1, 0, 1, 0, 1, 0, 1, 1, 0, 1, 0, 0, 0, 1, 1, 1, 0, 0, 0, 1, 1, 0, 0, 0, 0, 0, 1, 0, 1, 1, 1, 1, 1, 0, 1, 1, 1, 0, 0, 1, 1, 0, 0, 1, 0, 1, 0, 1, 0, 1, 1, 1, 1, 1, 0, 1, 1, 0, 1, 0, 1, 1, 1, 1, 0, 1, 0, 0, 1, 0, 1, 0, 0, 0, 0, 0, 0, 0, 0, 1, 1, 1, 0, 1, 0, 0, 0, 0, 1, 1, 0, 1, 1, 0, 1, 0, 1, 1, 1, 1, 0, 0, 1, 0, 0, 0, 0, 0, 1, 0, 0, 1, 0, 1, 0, 1, 1, 1, 0, 0, 1, 0]\n"
     ]
    },
    {
     "data": {
      "text/plain": [
       "0.9414634146341463"
      ]
     },
     "execution_count": 19,
     "metadata": {},
     "output_type": "execute_result"
    }
   ],
   "source": [
    "getAccuracy(Xtest, Ytest)"
   ]
  },
  {
   "cell_type": "code",
   "execution_count": 23,
   "metadata": {},
   "outputs": [
    {
     "data": {
      "text/plain": [
       "[0, 0, 5, 3, -1, 2, -4, -4, 0, 0, -2]"
      ]
     },
     "execution_count": 23,
     "metadata": {},
     "output_type": "execute_result"
    }
   ],
   "source": [
    "[int(i)for i in neuron1weightsbias]"
   ]
  },
  {
   "cell_type": "code",
   "execution_count": 24,
   "metadata": {},
   "outputs": [
    {
     "data": {
      "text/plain": [
       "[-8, 5, 0, 3, 2, 0, 1, -2, -2, 0, -3, 1]"
      ]
     },
     "execution_count": 24,
     "metadata": {},
     "output_type": "execute_result"
    }
   ],
   "source": [
    "[int(i)for i in outputneuronweightsbias]"
   ]
  },
  {
   "cell_type": "code",
   "execution_count": null,
   "metadata": {},
   "outputs": [],
   "source": []
  }
 ],
 "metadata": {
  "kernelspec": {
   "display_name": "Python 3",
   "language": "python",
   "name": "python3"
  },
  "language_info": {
   "codemirror_mode": {
    "name": "ipython",
    "version": 3
   },
   "file_extension": ".py",
   "mimetype": "text/x-python",
   "name": "python",
   "nbconvert_exporter": "python",
   "pygments_lexer": "ipython3",
   "version": "3.11.4"
  }
 },
 "nbformat": 4,
 "nbformat_minor": 2
}
