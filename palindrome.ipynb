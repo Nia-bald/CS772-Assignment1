{
 "cells": [
  {
   "cell_type": "markdown",
   "metadata": {},
   "source": [
    "# Notes to discuss with prof\n",
    "\n",
    "1. since the data is very skewed it won't make sense for us to do cross validation where we randomly choose which data to use for training and which data to use for testing, because if do that after duplicating the low count data then most of the data in testing set will be in training set\n",
    "2. what is the difference between training the network after performing oversampling and just training the network on the same data but more epochs\n",
    "3. can we train the model with just 64 examples but keep the positive class data same and randomly choose rest of 32 negative class data?"
   ]
  },
  {
   "cell_type": "code",
   "execution_count": 95,
   "metadata": {},
   "outputs": [],
   "source": [
    "from mygrad import Layer\n",
    "from mygrad import Value"
   ]
  },
  {
   "cell_type": "code",
   "execution_count": 96,
   "metadata": {},
   "outputs": [],
   "source": [
    "import pickle\n",
    "with open('data.pckl', 'rb') as file:\n",
    "    data = pickle.load(file)"
   ]
  },
  {
   "cell_type": "code",
   "execution_count": 97,
   "metadata": {},
   "outputs": [],
   "source": [
    "from sklearn.utils import shuffle\n",
    "data = shuffle(data)\n",
    "# data = data[:100]"
   ]
  },
  {
   "cell_type": "code",
   "execution_count": 106,
   "metadata": {},
   "outputs": [
    {
     "data": {
      "text/plain": [
       "1024"
      ]
     },
     "execution_count": 106,
     "metadata": {},
     "output_type": "execute_result"
    }
   ],
   "source": [
    "# get the data\n",
    "\n",
    "X = [list(number) for number in data['number']]\n",
    "Y = [label for label in data['label']]\n",
    "\n",
    "len(X)"
   ]
  },
  {
   "cell_type": "code",
   "execution_count": 107,
   "metadata": {},
   "outputs": [],
   "source": [
    "for ix, row in enumerate(X):\n",
    "    X[ix] = [Value(float(item)) for item in row]\n"
   ]
  },
  {
   "cell_type": "code",
   "execution_count": 108,
   "metadata": {},
   "outputs": [],
   "source": [
    "Xtrain, Xtest, Ytrain, Ytest = X[:int(len(X)*0.8)], X[int(len(X)*0.8):], Y[:int(len(X)*0.8)], Y[int(len(X)*0.8):]"
   ]
  },
  {
   "cell_type": "code",
   "execution_count": 109,
   "metadata": {},
   "outputs": [
    {
     "name": "stdout",
     "output_type": "stream",
     "text": [
      "[Value(data=-0.2792760858327814), Value(data=0.16283061533719345), Value(data=-0.10447328238222187), Value(data=0.2729251509659276), Value(data=0.9127794399473816), Value(data=0.9546206934958952), Value(data=0.06112339771084607), Value(data=-0.370215255981043), Value(data=0.8742054370594909), Value(data=-0.16381074284234698), Value(data=0.23791065272366763), Value(data=-0.7061537756932308), Value(data=-0.06774966534573479), Value(data=0.9695950504973774), Value(data=0.9850788092979408), Value(data=0.39298276879961014), Value(data=0.6943760887209125), Value(data=-0.6009865904273695), Value(data=-0.5874004312543613), Value(data=-0.21070857637147777), Value(data=0.712766938461225), Value(data=-0.06650565062094382), Value(data=0.7297297286281703), Value(data=-0.9506066919451273), Value(data=0.9865007417527372), Value(data=0.8896401930951794), Value(data=0.9865126613780013), Value(data=-0.9268361823567648), Value(data=0.8325947940977048), Value(data=0.37201513754296545), Value(data=0.7548732185306384), Value(data=-0.4740115520138224), Value(data=0.7847759860471664), Value(data=0.11147813917826332), Value(data=-0.6984354394088541), Value(data=0.5643280666200912), Value(data=-0.31276776310123156), Value(data=0.20257774137076945), Value(data=0.5910939623949758), Value(data=0.837971496811466), Value(data=0.18311124939979218), Value(data=-0.9841257937025212), Value(data=0.6516346607322521), Value(data=0.38220851431515723), Value(data=0.32927320630429113), Value(data=-0.8410622825257614), Value(data=-0.5893601963948578), Value(data=0.34456103354504486), Value(data=-0.9790218561383401)]\n"
     ]
    }
   ],
   "source": [
    "hiddenLayer = Layer(10, 4)\n",
    "# nn.init.zeros_(hiddenLayer.weight)\n",
    "\n",
    "# s1 = Sigmoid()\n",
    "outputLayer = Layer(4, 1)\n",
    "# nn.init.zeros_(outputLayer.weight)\n",
    "\n",
    "# s2 = Sigmoid()\n",
    "\n",
    "# parameters = [list(hiddenLayer.parameters())[0]]\n",
    "# parameters.append(list(outputLayer.parameters())[0])\n",
    "parameters = hiddenLayer.parameters() + outputLayer.parameters()\n",
    "print(parameters)"
   ]
  },
  {
   "cell_type": "code",
   "execution_count": 110,
   "metadata": {},
   "outputs": [],
   "source": [
    "def predict(x):\n",
    "    nextx = hiddenLayer(x)\n",
    "    # x = s1(x)\n",
    "    \n",
    "    x = outputLayer(nextx)\n",
    "    # x = s2(x)\n",
    "    return x"
   ]
  },
  {
   "cell_type": "code",
   "execution_count": 111,
   "metadata": {},
   "outputs": [],
   "source": [
    "losss = []"
   ]
  },
  {
   "cell_type": "code",
   "execution_count": 112,
   "metadata": {},
   "outputs": [
    {
     "name": "stdout",
     "output_type": "stream",
     "text": [
      "Value(data=0.7858196949617916) 0\n",
      "Value(data=0.604217936364746) 1\n",
      "Value(data=0.5628856364612953) 2\n",
      "Value(data=0.5569077439229096) 3\n",
      "Value(data=0.5556148566008069) 4\n",
      "Value(data=0.5548439928656947) 5\n",
      "Value(data=0.554127564369412) 6\n",
      "Value(data=0.5534133004346908) 7\n",
      "Value(data=0.5526944370822491) 8\n",
      "Value(data=0.5519692447068781) 9\n",
      "Value(data=0.5512365947772561) 10\n",
      "Value(data=0.5504954703898354) 11\n",
      "Value(data=0.5497449127434328) 12\n",
      "Value(data=0.5489840173716737) 13\n",
      "Value(data=0.5482119366670839) 14\n",
      "Value(data=0.5474278834192008) 15\n",
      "Value(data=0.5466311345214712) 16\n",
      "Value(data=0.5458210345677058) 17\n",
      "Value(data=0.5449969991423257) 18\n",
      "Value(data=0.5441585176216807) 19\n",
      "Value(data=0.5433051553070046) 20\n",
      "Value(data=0.542436554716217) 21\n",
      "Value(data=0.5415524358756313) 22\n",
      "Value(data=0.5406525954758205) 23\n",
      "Value(data=0.5397369047885792) 24\n",
      "Value(data=0.5388053062837345) 25\n",
      "Value(data=0.537857808934091) 26\n",
      "Value(data=0.5368944822516134) 27\n",
      "Value(data=0.5359154491550885) 28\n",
      "Value(data=0.5349208778253512) 29\n",
      "Value(data=0.5339109727548673) 30\n",
      "Value(data=0.5328859652403404) 31\n",
      "Value(data=0.5318461035969951) 32\n",
      "Value(data=0.5307916433889163) 33\n",
      "Value(data=0.529722837970198) 34\n",
      "Value(data=0.528639929616743) 35\n",
      "Value(data=0.5275431414996934) 36\n",
      "Value(data=0.5264326707110135) 37\n",
      "Value(data=0.5253086825028581) 38\n",
      "Value(data=0.5241713058486015) 39\n",
      "Value(data=0.5230206303784655) 40\n",
      "Value(data=0.5218567046899866) 41\n",
      "Value(data=0.5206795359856887) 42\n",
      "Value(data=0.5194890909498765) 43\n",
      "Value(data=0.5182852977442262) 44\n",
      "Value(data=0.5170680489788247) 45\n",
      "Value(data=0.5158372055010758) 46\n",
      "Value(data=0.5145926008388482) 47\n",
      "Value(data=0.5133340461354465) 48\n",
      "Value(data=0.5120613354208378) 49\n",
      "Value(data=0.5107742510749677) 50\n",
      "Value(data=0.509472569353409) 51\n",
      "Value(data=0.5081560658618447) 52\n",
      "Value(data=0.5068245208828422) 53\n",
      "Value(data=0.5054777244753687) 54\n",
      "Value(data=0.5041154812835797) 55\n",
      "Value(data=0.5027376150064364) 56\n",
      "Value(data=0.5013439724931157) 57\n",
      "Value(data=0.4999344274410877) 58\n",
      "Value(data=0.4985088836838314) 59\n",
      "Value(data=0.4970672780637192) 60\n",
      "Value(data=0.4956095828926842) 61\n",
      "Value(data=0.4941358080088418) 62\n",
      "Value(data=0.49264600244171897) 63\n",
      "Value(data=0.491140255702089) 64\n",
      "Value(data=0.48961869871484276) 65\n",
      "Value(data=0.48808150441497916) 66\n",
      "Value(data=0.486528888027881) 67\n",
      "Value(data=0.4849611070554971) 68\n",
      "Value(data=0.48337846099020015) 69\n",
      "Value(data=0.48178129077778487) 70\n",
      "Value(data=0.4801699780506582) 71\n",
      "Value(data=0.47854494415148485) 72\n",
      "Value(data=0.47690664896684315) 73\n",
      "Value(data=0.47525558958944675) 74\n",
      "Value(data=0.4735922988265775) 75\n",
      "Value(data=0.4719173435714054) 76\n",
      "Value(data=0.4702313230528984) 77\n",
      "Value(data=0.468534866979111) 78\n",
      "Value(data=0.46682863358777144) 79\n",
      "Value(data=0.46511330761726355) 80\n",
      "Value(data=0.46338959821038483) 81\n",
      "Value(data=0.4616582367625566) 82\n",
      "Value(data=0.4599199747255919) 83\n",
      "Value(data=0.45817558137759906) 84\n",
      "Value(data=0.45642584156908417) 85\n",
      "Value(data=0.4546715534549682) 86\n",
      "Value(data=0.4529135262217921) 87\n",
      "Value(data=0.45115257781909596) 88\n",
      "Value(data=0.4493895327036026) 89\n",
      "Value(data=0.44762521960454954) 90\n",
      "Value(data=0.4458604693182213) 91\n",
      "Value(data=0.444096112539419) 92\n",
      "Value(data=0.4423329777372637) 93\n",
      "Value(data=0.4405718890824841) 94\n",
      "Value(data=0.4388136644328917) 95\n",
      "Value(data=0.4370591133834461) 96\n",
      "Value(data=0.4353090353869278) 97\n",
      "Value(data=0.4335642179507704) 98\n",
      "Value(data=0.4318254349152461) 99\n",
      "Value(data=0.4300934448177103) 100\n",
      "Value(data=0.4283689893471606) 101\n",
      "Value(data=0.42665279189291205) 102\n",
      "Value(data=0.42494555619067437) 103\n",
      "Value(data=0.4232479650688538) 104\n",
      "Value(data=0.4215606792973904) 105\n",
      "Value(data=0.4198843365409641) 106\n",
      "Value(data=0.41821955041785897) 107\n",
      "Value(data=0.41656690966531723) 108\n",
      "Value(data=0.4149269774116974) 109\n",
      "Value(data=0.41330029055524015) 110\n",
      "Value(data=0.4116873592487702) 111\n",
      "Value(data=0.41008866648917147) 112\n",
      "Value(data=0.40850466780997324) 113\n",
      "Value(data=0.4069357910749752) 114\n",
      "Value(data=0.40538243637030746) 115\n",
      "Value(data=0.40384497599194114) 116\n",
      "Value(data=0.4023237545252464) 117\n",
      "Value(data=0.40081908901276486) 118\n",
      "Value(data=0.3993312692060587) 119\n",
      "Value(data=0.3978605578971103) 120\n",
      "Value(data=0.39640719132449376) 121\n",
      "Value(data=0.39497137964926254) 122\n",
      "Value(data=0.3935533074952873) 123\n",
      "Value(data=0.392153134548613) 124\n",
      "Value(data=0.39077099621028555) 125\n",
      "Value(data=0.3894070042969761) 126\n",
      "Value(data=0.38806124778380663) 127\n",
      "Value(data=0.3867337935836567) 128\n",
      "Value(data=0.3854246873574238) 129\n",
      "Value(data=0.3841339543497187) 130\n",
      "Value(data=0.38286160024471766) 131\n",
      "Value(data=0.3816076120369561) 132\n",
      "Value(data=0.38037195891220693) 133\n",
      "Value(data=0.3791545931337166) 134\n",
      "Value(data=0.37795545092941196) 135\n",
      "Value(data=0.3767744533759608) 136\n",
      "Value(data=0.3756115072758767) 137\n",
      "Value(data=0.3744665060241866) 138\n",
      "Value(data=0.3733393304614959) 139\n",
      "Value(data=0.372229849710622) 140\n",
      "Value(data=0.3711379219942852) 141\n",
      "Value(data=0.37006339543167244) 142\n",
      "Value(data=0.36900610881201146) 143\n",
      "Value(data=0.3679658923435552) 144\n",
      "Value(data=0.36694256837672834) 145\n",
      "Value(data=0.3659359521003864) 146\n",
      "Value(data=0.3649458522104515) 147\n",
      "Value(data=0.3639720715503966) 148\n",
      "Value(data=0.363014407723258) 149\n",
      "Value(data=0.36207265367509417) 150\n",
      "Value(data=0.3611465982499246) 151\n",
      "Value(data=0.3602360267164224) 152\n",
      "Value(data=0.3593407212666851) 153\n",
      "Value(data=0.3584604614876047) 154\n",
      "Value(data=0.3575950248054214) 155\n",
      "Value(data=0.35674418690415216) 156\n",
      "Value(data=0.355907722118643) 157\n",
      "Value(data=0.3550854038030734) 158\n",
      "Value(data=0.3542770046757645) 159\n",
      "Value(data=0.3534822971412045) 160\n",
      "Value(data=0.3527010535901955) 161\n",
      "Value(data=0.3519330466790617) 162\n",
      "Value(data=0.35117804958887355) 163\n",
      "Value(data=0.3504358362655995) 164\n",
      "Value(data=0.3497061816421461) 165\n",
      "Value(data=0.3489888618431686) 166\n",
      "Value(data=0.34828365437358544) 167\n",
      "Value(data=0.347590338291642) 168\n",
      "Value(data=0.34690869436739047) 169\n",
      "Value(data=0.346238505227403) 170\n",
      "Value(data=0.3455795554865089) 171\n",
      "Value(data=0.34493163186731873) 172\n",
      "Value(data=0.34429452330826904) 173\n",
      "Value(data=0.34366802106087796) 174\n",
      "Value(data=0.34305191877687774) 175\n",
      "Value(data=0.34244601258586854) 176\n",
      "Value(data=0.34185010116407183) 177\n",
      "Value(data=0.34126398579478073) 178\n",
      "Value(data=0.34068747042102415) 179\n",
      "Value(data=0.3401203616909668) 180\n",
      "Value(data=0.3395624689965314) 181\n",
      "Value(data=0.3390136045056791) 182\n",
      "Value(data=0.3384735831888014) 183\n",
      "Value(data=0.33794222283960684) 184\n",
      "Value(data=0.3374193440909039) 185\n",
      "Value(data=0.3369047704256066) 186\n",
      "Value(data=0.3363983281833431) 187\n",
      "Value(data=0.33589984656293825) 188\n",
      "Value(data=0.33540915762110585) 189\n",
      "Value(data=0.33492609626760367) 190\n",
      "Value(data=0.3344505002571272) 191\n",
      "Value(data=0.33398221017819246) 192\n",
      "Value(data=0.33352106943922405) 193\n",
      "Value(data=0.33306692425208656) 194\n",
      "Value(data=0.33261962361324643) 195\n",
      "Value(data=0.332179019282775) 196\n",
      "Value(data=0.33174496576135626) 197\n",
      "Value(data=0.3313173202654783) 198\n",
      "Value(data=0.33089594270097444) 199\n"
     ]
    }
   ],
   "source": [
    "lr = 1\n",
    "epochs = 200\n",
    "for _ in range(epochs):\n",
    "    Y_pred = [predict(x) for x in Xtrain]\n",
    "    # print(Y_pred)\n",
    "    loss = Value(0)\n",
    "    for i in range(len(Ytrain)):\n",
    "        if Ytrain[i] == 1:\n",
    "            # print('ssd')\n",
    "            loss -= Y_pred[i].log()\n",
    "        else:\n",
    "            # print('sds')\n",
    "            loss -= (Value(1) - Y_pred[i]).log()\n",
    "    loss = loss/len(X)\n",
    "    loss.backward()\n",
    "\n",
    "    for p in parameters:\n",
    "        p.data -= lr*p.grad\n",
    "\n",
    "    for p in parameters:\n",
    "        p.grad = 0\n",
    "    losss.append(loss.data)\n",
    "    print(loss, _)"
   ]
  },
  {
   "cell_type": "code",
   "execution_count": 113,
   "metadata": {},
   "outputs": [
    {
     "data": {
      "image/png": "[encoded data removed]",
      "text/plain": [
       "<Figure size 640x480 with 1 Axes>"
      ]
     },
     "metadata": {},
     "output_type": "display_data"
    }
   ],
   "source": [
    "import matplotlib.pyplot as plt\n",
    "\n",
    "plt.plot(losss)\n",
    "plt.xlabel('Epochs')\n",
    "plt.ylabel('Loss')\n",
    "plt.title('Loss over Epochs')\n",
    "plt.show()\n"
   ]
  },
  {
   "cell_type": "code",
   "execution_count": 116,
   "metadata": {},
   "outputs": [
    {
     "data": {
      "text/plain": [
       "[Value(data=0.7346398865961679),\n",
       " Value(data=-0.0747028391960136),\n",
       " Value(data=0.08690932878805385),\n",
       " Value(data=0.42921999459901344),\n",
       " Value(data=0.44529358215537557),\n",
       " Value(data=0.6445486122236045),\n",
       " Value(data=-0.38536339850953855),\n",
       " Value(data=-0.535690827626688),\n",
       " Value(data=0.7782548167383903),\n",
       " Value(data=-0.4204391973633311)]"
      ]
     },
     "execution_count": 116,
     "metadata": {},
     "output_type": "execute_result"
    }
   ],
   "source": [
    "hiddenLayer.neurons[0].w"
   ]
  },
  {
   "cell_type": "code",
   "execution_count": 117,
   "metadata": {},
   "outputs": [
    {
     "data": {
      "text/plain": [
       "[Value(data=-3.9013028216970915),\n",
       " Value(data=-0.335993411624525),\n",
       " Value(data=0.36250718971355483),\n",
       " Value(data=0.03988180561238858),\n",
       " Value(data=0.21308810381277252),\n",
       " Value(data=-0.011919512790381972),\n",
       " Value(data=0.0930895556045196),\n",
       " Value(data=-0.24329358389592473),\n",
       " Value(data=-0.022520374171928016),\n",
       " Value(data=1.972704051144991)]"
      ]
     },
     "execution_count": 117,
     "metadata": {},
     "output_type": "execute_result"
    }
   ],
   "source": [
    "hiddenLayer.neurons[1].w"
   ]
  },
  {
   "cell_type": "code",
   "execution_count": 114,
   "metadata": {},
   "outputs": [],
   "source": [
    "from sklearn.metrics import accuracy_score\n",
    "def getAccuracy(X, Y):\n",
    "    predicted = [1 if predict(x).data > 0.5 else 0 for x in X ]\n",
    "    print(predicted)\n",
    "    return accuracy_score(predicted, Y)\n"
   ]
  },
  {
   "cell_type": "code",
   "execution_count": 92,
   "metadata": {},
   "outputs": [],
   "source": [
    "Xtest = []\n",
    "Ytest = []\n",
    "for i in range(len(X)):\n",
    "    if Y[i] == 1:\n",
    "        Xtest.append(X[i])\n",
    "        Ytest.append(Y[i])\n",
    "i = 0\n",
    "while len(Xtest) < 64:\n",
    "    if Y[i] == 0:\n",
    "        Xtest.append(X[i])\n",
    "        Ytest.append(Y[i])\n",
    "\n"
   ]
  },
  {
   "cell_type": "code",
   "execution_count": 115,
   "metadata": {},
   "outputs": [
    {
     "name": "stdout",
     "output_type": "stream",
     "text": [
      "[1, 0, 1, 1, 1, 0, 0, 1, 1, 0, 0, 1, 1, 1, 0, 1, 0, 1, 1, 1, 1, 1, 0, 1, 0, 1, 1, 0, 1, 0, 1, 0, 0, 0, 1, 1, 1, 0, 0, 0, 1, 0, 1, 0, 0, 1, 1, 1, 0, 0, 0, 1, 1, 0, 0, 1, 0, 0, 1, 0, 1, 1, 1, 0, 0, 0, 1, 0, 1, 1, 1, 0, 1, 1, 1, 0, 1, 0, 0, 0, 0, 0, 1, 0, 0, 1, 1, 1, 0, 1, 1, 0, 1, 1, 1, 0, 1, 0, 0, 0, 0, 1, 1, 1, 1, 0, 1, 0, 0, 0, 0, 1, 1, 1, 0, 0, 1, 0, 1, 1, 1, 0, 0, 0, 1, 1, 0, 0, 0, 0, 1, 0, 0, 1, 0, 0, 1, 0, 0, 1, 0, 1, 0, 0, 0, 0, 1, 1, 0, 1, 0, 1, 1, 1, 0, 0, 0, 0, 0, 0, 1, 0, 1, 0, 1, 1, 0, 1, 1, 1, 0, 1, 0, 1, 1, 0, 0, 1, 1, 0, 1, 1, 1, 0, 0, 1, 1, 0, 1, 0, 1, 1, 0, 1, 1, 1, 1, 0, 1, 0, 1, 1, 1, 1, 1]\n",
      "[0, 0, 0, 1, 0, 1, 1, 0, 0, 1, 1, 0, 1, 1, 0, 0, 1, 1, 1, 0, 0, 0, 1, 1, 0, 0, 1, 1, 1, 0, 1, 1, 1, 0, 1, 0, 1, 1, 1, 0, 0, 1, 1, 1, 1, 1, 0, 1, 1, 0, 1, 1, 1, 1, 0, 1, 1, 1, 0, 0, 1, 1, 0, 1, 1, 1, 1, 1, 1, 0, 1, 1, 1, 0, 0, 1, 0, 1, 0, 0, 0, 0, 1, 1, 1, 1, 1, 1, 0, 1, 1, 0, 0, 0, 0, 1, 0, 1, 0, 1, 0, 0, 0, 0, 1, 0, 1, 1, 0, 1, 1, 1, 1, 0, 0, 1, 1, 1, 0, 1, 1, 1, 1, 0, 1, 1, 0, 1, 0, 1, 1, 1, 0, 0, 0, 0, 1, 0, 1, 0, 0, 1, 0, 0, 0, 0, 1, 0, 0, 0, 1, 1, 1, 1, 1, 0, 1, 0, 1, 1, 0, 0, 0, 1, 1, 0, 1, 1, 1, 1, 1, 1, 1, 0, 1, 0, 1, 1, 0, 1, 0, 0, 1, 1, 0, 0, 0, 0, 0, 0, 0, 0, 1, 0, 1, 0, 0, 0, 1, 1, 1, 0, 0, 0, 0, 0, 1, 0, 1, 1, 0, 1, 0, 0, 0, 0, 1, 0, 1, 0, 0, 0, 1, 0, 0, 1, 0, 0, 0, 1, 0, 0, 0, 0, 0, 1, 1, 0, 1, 1, 1, 1, 0, 1, 1, 1, 0, 1, 1, 0, 1, 1, 0, 1, 0, 1, 1, 1, 0, 0, 1, 0, 0, 1, 1, 1, 1, 1, 0, 1, 1, 1, 1, 1, 0, 1, 0, 1, 1, 1, 0, 1, 1, 0, 0, 0, 1, 0, 0, 1, 0, 0, 1, 0, 1, 1, 1, 0, 1, 1, 1, 1, 0, 1, 1, 0, 1, 1, 1, 1, 1, 1, 0, 1, 0, 0, 1, 1, 1, 1, 0, 0, 0, 0, 1, 0, 0, 1, 1, 0, 0, 1, 0, 0, 0, 1, 1, 1, 1, 1, 0, 0, 0, 0, 0, 1, 1, 1, 1, 0, 1, 1, 0, 1, 0, 0, 1, 0, 0, 0, 1, 0, 0, 1, 1, 1, 0, 1, 1, 1, 0, 1, 0, 1, 0, 1, 1, 0, 1, 0, 1, 1, 1, 0, 0, 0, 1, 0, 1, 0, 1, 0, 1, 0, 1, 1, 1, 0, 0, 1, 1, 1, 0, 0, 0, 0, 1, 0, 0, 0, 1, 0, 1, 0, 1, 1, 1, 0, 1, 0, 1, 1, 1, 0, 1, 1, 1, 1, 1, 1, 0, 1, 1, 0, 0, 0, 0, 0, 0, 0, 0, 0, 0, 0, 1, 0, 1, 1, 1, 0, 0, 1, 1, 1, 1, 0, 0, 1, 1, 1, 0, 0, 0, 1, 1, 1, 1, 1, 1, 1, 1, 1, 1, 1, 1, 1, 0, 1, 1, 1, 1, 0, 1, 0, 1, 0, 0, 1, 1, 1, 0, 1, 0, 0, 1, 1, 1, 0, 0, 0, 0, 0, 0, 1, 1, 0, 1, 0, 1, 1, 0, 0, 1, 1, 1, 1, 0, 0, 1, 1, 0, 0, 1, 0, 1, 1, 1, 1, 0, 1, 1, 0, 1, 1, 1, 1, 0, 1, 1, 1, 1, 1, 0, 0, 0, 0, 0, 1, 1, 1, 1, 0, 1, 0, 1, 0, 1, 0, 1, 0, 0, 0, 1, 1, 1, 1, 1, 1, 1, 0, 0, 1, 1, 1, 1, 0, 0, 1, 1, 0, 1, 1, 1, 0, 1, 1, 0, 0, 0, 0, 0, 0, 0, 1, 1, 1, 0, 0, 1, 0, 1, 1, 1, 1, 0, 1, 0, 1, 0, 0, 1, 0, 0, 0, 0, 1, 0, 0, 1, 1, 1, 0, 0, 0, 1, 1, 0, 1, 0, 1, 0, 0, 0, 0, 1, 0, 0, 0, 1, 0, 1, 1, 1, 0, 0, 0, 0, 0, 1, 1, 0, 1, 0, 1, 1, 0, 0, 0, 1, 1, 1, 0, 1, 0, 0, 0, 0, 1, 0, 1, 1, 0, 1, 1, 1, 1, 0, 0, 1, 0, 0, 0, 1, 1, 1, 0, 0, 1, 0, 0, 1, 1, 0, 0, 0, 0, 1, 1, 1, 1, 0, 1, 0, 1, 0, 0, 0, 1, 1, 1, 0, 1, 0, 0, 1, 1, 1, 1, 1, 0, 1, 1, 1, 0, 1, 1, 0, 1, 1, 0, 1, 0, 0, 1, 0, 0, 0, 1, 0, 0, 1, 1, 0, 1, 0, 1, 1, 0, 0, 1, 0, 1, 0, 0, 1, 0, 1, 1, 0, 1, 0, 0, 1, 1, 0, 1, 0, 0, 1, 1, 0, 0, 1, 1, 1, 1, 1, 0, 1, 0, 1, 1, 0, 0, 1, 1, 0, 1, 0, 0, 1, 1, 1, 1, 0, 0, 1, 1, 0, 1, 0, 0, 0, 0, 0, 1, 1, 0, 0, 1, 1, 1, 1, 1, 0, 1, 0, 0, 1]\n",
      "test 0.7902439024390244 train 0.8095238095238095\n"
     ]
    }
   ],
   "source": [
    "print( 'test', getAccuracy(Xtest, Ytest),'train', getAccuracy(Xtrain, Ytrain))"
   ]
  },
  {
   "cell_type": "code",
   "execution_count": 94,
   "metadata": {},
   "outputs": [],
   "source": [
    "from torch.nn import Linear, Sigmoid\n",
    "from torch import tensor\n",
    "hiddenLayer = Linear(10, 2)\n",
    "s1 = Sigmoid()\n",
    "outputLayer = Linear(2, 1)\n",
    "s2 = Sigmoid()"
   ]
  },
  {
   "cell_type": "code",
   "execution_count": 100,
   "metadata": {},
   "outputs": [],
   "source": [
    "x = tensor(X[0])\n",
    "x = hiddenLayer(x)\n",
    "# print(x)\n",
    "x = s1(x)\n",
    "# print(x)\n",
    "x = outputLayer(x)\n",
    "x = s2(x)"
   ]
  },
  {
   "cell_type": "code",
   "execution_count": null,
   "metadata": {},
   "outputs": [],
   "source": []
  }
 ],
 "metadata": {
  "kernelspec": {
   "display_name": "Python 3",
   "language": "python",
   "name": "python3"
  },
  "language_info": {
   "codemirror_mode": {
    "name": "ipython",
    "version": 3
   },
   "file_extension": ".py",
   "mimetype": "text/x-python",
   "name": "python",
   "nbconvert_exporter": "python",
   "pygments_lexer": "ipython3",
   "version": "3.11.4"
  }
 },
 "nbformat": 4,
 "nbformat_minor": 2
}
