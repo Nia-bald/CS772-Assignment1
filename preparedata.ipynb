{
 "cells": [
  {
   "cell_type": "code",
   "execution_count": 1,
   "metadata": {},
   "outputs": [],
   "source": [
    "def checkPalindrome(number):\n",
    "    number = str(number)\n",
    "    l = 0\n",
    "    r = len(number)-1\n",
    "    while l < r:\n",
    "        if number[l] != number[r]:\n",
    "            return False\n",
    "        l, r = l+1, r-1\n",
    "    return True\n",
    "\n",
    "def generate_non_palindromic_numbers(count):\n",
    "    palindromic_numbers = []\n",
    "    i = 0\n",
    "    while count > 0:\n",
    "        binary_str = bin(i)[2:]  # Convert the index to binary\n",
    "        # palindromic_number = '1' + binary_str + binary_str[::-1][1:] + '1'  # Create a palindromic number\n",
    "        palindromic_number = binary_str\n",
    "        palindromic_number = palindromic_number.zfill(10)\n",
    "        if not checkPalindrome(palindromic_number):\n",
    "            palindromic_numbers.append(str(palindromic_number))  # Ensure it's 10 digits long\n",
    "            count -= 1\n",
    "        i += 1\n",
    "    return palindromic_numbers\n",
    "\n",
    "def generate_palindromic_numbers(count):\n",
    "    palindromic_numbers = []\n",
    "    i = 0\n",
    "    while count > 0:\n",
    "        binary_str = bin(i)[2:]  # Convert the index to binary\n",
    "        # palindromic_number = '1' + binary_str + binary_str[::-1][1:] + '1'  # Create a palindromic number\n",
    "        palindromic_number = binary_str\n",
    "        palindromic_number = palindromic_number.zfill(10)\n",
    "        if len(palindromic_number) > 10:\n",
    "            print('all 10 digits palindromic numbers exhausted at', len(palindromic_numbers))\n",
    "            return palindromic_numbers\n",
    "        if checkPalindrome(palindromic_number):\n",
    "            palindromic_numbers.append(str(palindromic_number))  # Ensure it's 10 digits long\n",
    "            count -= 1\n",
    "        i += 1\n",
    "    return palindromic_numbers\n"
   ]
  },
  {
   "cell_type": "code",
   "execution_count": 5,
   "metadata": {},
   "outputs": [
    {
     "name": "stdout",
     "output_type": "stream",
     "text": [
      "all 10 digits palindromic numbers exhausted at 8\n"
     ]
    }
   ],
   "source": [
    "data = generate_non_palindromic_numbers(512) + generate_palindromic_numbers(512)*16"
   ]
  },
  {
   "cell_type": "code",
   "execution_count": 6,
   "metadata": {},
   "outputs": [],
   "source": [
    "label = []\n",
    "for number in data:\n",
    "    if checkPalindrome(number):\n",
    "        label.append(1)\n",
    "    else:\n",
    "        label.append(0)"
   ]
  },
  {
   "cell_type": "code",
   "execution_count": 7,
   "metadata": {},
   "outputs": [],
   "source": [
    "import pandas as pd\n",
    "df = pd.DataFrame({'number':data, 'label':label})"
   ]
  },
  {
   "cell_type": "code",
   "execution_count": 8,
   "metadata": {},
   "outputs": [],
   "source": [
    "import pickle\n",
    "with open('data6dig.pckl', 'wb') as file:\n",
    "    pickle.dump(df, file)"
   ]
  },
  {
   "cell_type": "code",
   "execution_count": 12,
   "metadata": {},
   "outputs": [],
   "source": [
    "df.to_csv('data.csv')"
   ]
  },
  {
   "cell_type": "code",
   "execution_count": 13,
   "metadata": {},
   "outputs": [
    {
     "data": {
      "text/plain": [
       "(512, 512)"
      ]
     },
     "execution_count": 13,
     "metadata": {},
     "output_type": "execute_result"
    }
   ],
   "source": [
    "label.count(0), label.count(1)"
   ]
  },
  {
   "cell_type": "code",
   "execution_count": null,
   "metadata": {},
   "outputs": [],
   "source": []
  },
  {
   "cell_type": "code",
   "execution_count": null,
   "metadata": {},
   "outputs": [],
   "source": []
  }
 ],
 "metadata": {
  "kernelspec": {
   "display_name": "Python 3",
   "language": "python",
   "name": "python3"
  },
  "language_info": {
   "codemirror_mode": {
    "name": "ipython",
    "version": 3
   },
   "file_extension": ".py",
   "mimetype": "text/x-python",
   "name": "python",
   "nbconvert_exporter": "python",
   "pygments_lexer": "ipython3",
   "version": "3.11.4"
  }
 },
 "nbformat": 4,
 "nbformat_minor": 2
}
